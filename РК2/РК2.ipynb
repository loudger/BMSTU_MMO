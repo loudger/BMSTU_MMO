{
 "cells": [
  {
   "cell_type": "markdown",
   "metadata": {
    "id": "f-1id2vR-izk"
   },
   "source": [
    "# Рубежный контроль №2\n",
    "\n",
    "## Юсипов Артур ИУ5-24М\n",
    "## Тема: Методы обработки текстов\n",
    "## Решение задачи классификации текстов.\n",
    "\n",
    "- Необходимо сформировать два варианта векторизации признаков - на основе CountVectorizer и на\n",
    "основе TfidfVectorizer.\n",
    "\n",
    "- В качестве классификаторов необходимо использовать два классификатора по варианту для Вашей\n",
    "группы\n",
    "### Группа: ИУ5-24М\n",
    "### Классификатор 1: KNeighborsClassifier\n",
    "### Классификатор 2: Complement Naive Bayes (CNB)\n",
    "\n",
    "- Для каждого метода необходимо оценить качество классификации\n",
    "- Сделать вывод о том, какой вариант векторизации признаков в паре с каким классификатором показал лучшее качество.\n",
    "\n",
    "<!-- Выбранный [Датасет]() -->"
   ]
  },
  {
   "cell_type": "code",
   "execution_count": 1,
   "metadata": {
    "colab": {
     "base_uri": "https://localhost:8080/"
    },
    "id": "e0ljTHHCBcqT",
    "outputId": "02db86cf-fe57-429f-a3fd-e2b33d765616"
   },
   "outputs": [
    {
     "name": "stdout",
     "output_type": "stream",
     "text": [
      "Collecting category_encoders\n",
      "  Downloading category_encoders-2.2.2-py2.py3-none-any.whl (80 kB)\n",
      "Collecting statsmodels>=0.9.0\n",
      "  Downloading statsmodels-0.12.2-cp36-none-win_amd64.whl (9.3 MB)\n",
      "Collecting patsy>=0.5.1\n",
      "  Downloading patsy-0.5.1-py2.py3-none-any.whl (231 kB)\n",
      "Requirement already satisfied: scipy>=1.0.0 in c:\\users\\arthur\\appdata\\local\\programs\\python\\python36\\lib\\site-packages (from category_encoders) (1.4.1)\n",
      "Requirement already satisfied: pandas>=0.21.1 in c:\\users\\arthur\\appdata\\local\\programs\\python\\python36\\lib\\site-packages (from category_encoders) (1.1.5)\n",
      "Requirement already satisfied: scikit-learn>=0.20.0 in c:\\users\\arthur\\appdata\\local\\programs\\python\\python36\\lib\\site-packages (from category_encoders) (0.24.2)\n",
      "Requirement already satisfied: numpy>=1.14.0 in c:\\users\\arthur\\appdata\\local\\programs\\python\\python36\\lib\\site-packages (from category_encoders) (1.19.5)\n",
      "Requirement already satisfied: python-dateutil>=2.7.3 in c:\\users\\arthur\\appdata\\local\\programs\\python\\python36\\lib\\site-packages (from pandas>=0.21.1->category_encoders) (2.8.1)\n",
      "Requirement already satisfied: pytz>=2017.2 in c:\\users\\arthur\\appdata\\local\\programs\\python\\python36\\lib\\site-packages (from pandas>=0.21.1->category_encoders) (2021.1)\n",
      "Requirement already satisfied: six in c:\\users\\arthur\\appdata\\local\\programs\\python\\python36\\lib\\site-packages (from patsy>=0.5.1->category_encoders) (1.15.0)\n",
      "Requirement already satisfied: joblib>=0.11 in c:\\users\\arthur\\appdata\\local\\programs\\python\\python36\\lib\\site-packages (from scikit-learn>=0.20.0->category_encoders) (1.0.1)\n",
      "Requirement already satisfied: threadpoolctl>=2.0.0 in c:\\users\\arthur\\appdata\\local\\programs\\python\\python36\\lib\\site-packages (from scikit-learn>=0.20.0->category_encoders) (2.1.0)\n",
      "Installing collected packages: patsy, statsmodels, category-encoders\n",
      "Successfully installed category-encoders-2.2.2 patsy-0.5.1 statsmodels-0.12.2\n"
     ]
    },
    {
     "name": "stderr",
     "output_type": "stream",
     "text": [
      "WARNING: You are using pip version 21.0.1; however, version 21.1.1 is available.\n",
      "You should consider upgrading via the 'c:\\users\\arthur\\appdata\\local\\programs\\python\\python36\\python.exe -m pip install --upgrade pip' command.\n"
     ]
    }
   ],
   "source": [
    "import pandas as pd\n",
    "import numpy as np\n",
    "import matplotlib.pyplot as plt\n",
    "import seaborn as sns\n",
    "!pip install category_encoders"
   ]
  },
  {
   "cell_type": "code",
   "execution_count": 4,
   "metadata": {
    "colab": {
     "base_uri": "https://localhost:8080/"
    },
    "id": "gIYiWd9_-jAJ",
    "outputId": "4de4b0f5-c485-4c11-bbc0-3bea1c865e47"
   },
   "outputs": [
    {
     "name": "stdout",
     "output_type": "stream",
     "text": [
      "Requirement already satisfied: kaggle in c:\\users\\arthur\\appdata\\local\\programs\\python\\python36\\lib\\site-packages (1.5.12)\n",
      "Requirement already satisfied: six>=1.10 in c:\\users\\arthur\\appdata\\local\\programs\\python\\python36\\lib\\site-packages (from kaggle) (1.15.0)\n",
      "Requirement already satisfied: requests in c:\\users\\arthur\\appdata\\local\\programs\\python\\python36\\lib\\site-packages (from kaggle) (2.25.1)\n",
      "Requirement already satisfied: urllib3 in c:\\users\\arthur\\appdata\\local\\programs\\python\\python36\\lib\\site-packages (from kaggle) (1.26.4)\n",
      "Requirement already satisfied: python-slugify in c:\\users\\arthur\\appdata\\local\\programs\\python\\python36\\lib\\site-packages (from kaggle) (5.0.2)\n",
      "Requirement already satisfied: certifi in c:\\users\\arthur\\appdata\\local\\programs\\python\\python36\\lib\\site-packages (from kaggle) (2020.12.5)\n",
      "Requirement already satisfied: python-dateutil in c:\\users\\arthur\\appdata\\local\\programs\\python\\python36\\lib\\site-packages (from kaggle) (2.8.1)\n",
      "Requirement already satisfied: tqdm in c:\\users\\arthur\\appdata\\local\\programs\\python\\python36\\lib\\site-packages (from kaggle) (4.60.0)\n",
      "Requirement already satisfied: text-unidecode>=1.3 in c:\\users\\arthur\\appdata\\local\\programs\\python\\python36\\lib\\site-packages (from python-slugify->kaggle) (1.3)\n",
      "Requirement already satisfied: idna<3,>=2.5 in c:\\users\\arthur\\appdata\\local\\programs\\python\\python36\\lib\\site-packages (from requests->kaggle) (2.10)\n",
      "Requirement already satisfied: chardet<5,>=3.0.2 in c:\\users\\arthur\\appdata\\local\\programs\\python\\python36\\lib\\site-packages (from requests->kaggle) (4.0.0)\n"
     ]
    },
    {
     "name": "stderr",
     "output_type": "stream",
     "text": [
      "WARNING: You are using pip version 21.0.1; however, version 21.1.1 is available.\n",
      "You should consider upgrading via the 'c:\\users\\arthur\\appdata\\local\\programs\\python\\python36\\python.exe -m pip install --upgrade pip' command.\n"
     ]
    },
    {
     "name": "stdout",
     "output_type": "stream",
     "text": [
      "Downloading fake-and-real-news-dataset.zip to C:\\_PersonalFiles\\MMO\\РК2\n",
      "\n"
     ]
    },
    {
     "name": "stderr",
     "output_type": "stream",
     "text": [
      "\n",
      "  0%|          | 0.00/41.0M [00:00<?, ?B/s]\n",
      "  2%|▏         | 1.00M/41.0M [00:02<01:51, 375kB/s]\n",
      "  5%|▍         | 2.00M/41.0M [00:04<01:28, 464kB/s]\n",
      "  7%|▋         | 3.00M/41.0M [00:06<01:17, 511kB/s]\n",
      " 10%|▉         | 4.00M/41.0M [00:07<01:04, 600kB/s]\n",
      " 12%|█▏        | 5.00M/41.0M [00:09<00:57, 657kB/s]\n",
      " 15%|█▍        | 6.00M/41.0M [00:10<00:57, 642kB/s]\n",
      " 17%|█▋        | 7.00M/41.0M [00:12<00:53, 667kB/s]\n",
      " 20%|█▉        | 8.00M/41.0M [00:13<00:52, 653kB/s]\n",
      " 22%|██▏       | 9.00M/41.0M [00:15<00:53, 622kB/s]\n",
      " 24%|██▍       | 10.0M/41.0M [00:17<00:51, 631kB/s]\n",
      " 27%|██▋       | 11.0M/41.0M [00:19<00:52, 597kB/s]\n",
      " 29%|██▉       | 12.0M/41.0M [00:21<00:50, 606kB/s]\n",
      " 32%|███▏      | 13.0M/41.0M [00:22<00:48, 607kB/s]\n",
      " 34%|███▍      | 14.0M/41.0M [00:24<00:49, 572kB/s]\n",
      " 37%|███▋      | 15.0M/41.0M [00:27<00:53, 506kB/s]\n",
      " 39%|███▉      | 16.0M/41.0M [00:28<00:45, 571kB/s]\n",
      " 41%|████▏     | 17.0M/41.0M [00:29<00:37, 664kB/s]\n",
      " 44%|████▍     | 18.0M/41.0M [00:30<00:32, 736kB/s]\n",
      " 46%|████▋     | 19.0M/41.0M [00:31<00:29, 783kB/s]\n",
      " 49%|████▉     | 20.0M/41.0M [00:32<00:24, 903kB/s]\n",
      " 51%|█████     | 21.0M/41.0M [00:33<00:21, 985kB/s]\n",
      " 54%|█████▎    | 22.0M/41.0M [00:34<00:18, 1.08MB/s]\n",
      " 56%|█████▌    | 23.0M/41.0M [00:34<00:15, 1.20MB/s]\n",
      " 59%|█████▊    | 24.0M/41.0M [00:35<00:14, 1.26MB/s]\n",
      " 61%|██████    | 25.0M/41.0M [00:36<00:14, 1.18MB/s]\n",
      " 63%|██████▎   | 26.0M/41.0M [00:37<00:14, 1.05MB/s]\n",
      " 66%|██████▌   | 27.0M/41.0M [00:40<00:18, 782kB/s] \n",
      " 68%|██████▊   | 28.0M/41.0M [00:41<00:18, 725kB/s]\n",
      " 71%|███████   | 29.0M/41.0M [00:43<00:17, 732kB/s]\n",
      " 73%|███████▎  | 30.0M/41.0M [00:44<00:15, 749kB/s]\n",
      " 76%|███████▌  | 31.0M/41.0M [00:45<00:13, 753kB/s]\n",
      " 78%|███████▊  | 32.0M/41.0M [00:46<00:11, 804kB/s]\n",
      " 81%|████████  | 33.0M/41.0M [00:48<00:10, 764kB/s]\n",
      " 83%|████████▎ | 34.0M/41.0M [00:49<00:09, 770kB/s]\n",
      " 85%|████████▌ | 35.0M/41.0M [00:50<00:07, 885kB/s]\n",
      " 88%|████████▊ | 36.0M/41.0M [00:51<00:05, 969kB/s]\n",
      " 90%|█████████ | 37.0M/41.0M [00:52<00:04, 960kB/s]\n",
      " 93%|█████████▎| 38.0M/41.0M [00:53<00:03, 929kB/s]\n",
      " 95%|█████████▌| 39.0M/41.0M [00:54<00:02, 999kB/s]\n",
      " 98%|█████████▊| 40.0M/41.0M [00:55<00:01, 974kB/s]\n",
      "100%|██████████| 41.0M/41.0M [00:56<00:00, 999kB/s]\n",
      "100%|██████████| 41.0M/41.0M [00:56<00:00, 757kB/s]\n",
      "'unzip' is not recognized as an internal or external command,\n",
      "operable program or batch file.\n"
     ]
    }
   ],
   "source": [
    "!pip install kaggle\n",
    "import os\n",
    "os.environ['KAGGLE_USERNAME'] = \"XXX\" \n",
    "os.environ['KAGGLE_KEY'] = \"XXX\"\n",
    "!kaggle datasets download clmentbisaillon/fake-and-real-news-dataset\n",
    "!unzip fake-and-real-news-dataset.zip"
   ]
  },
  {
   "cell_type": "markdown",
   "metadata": {
    "id": "RAWtw3D-Ja0p"
   },
   "source": [
    "## Анализируем датасет и готовим категориальный признак"
   ]
  },
  {
   "cell_type": "code",
   "execution_count": 6,
   "metadata": {
    "colab": {
     "base_uri": "https://localhost:8080/",
     "height": 406
    },
    "id": "g8-yQbdBBMZS",
    "outputId": "5bd0cb4a-9483-44e2-a8fd-89ac83cf5618"
   },
   "outputs": [
    {
     "data": {
      "text/html": [
       "<div>\n",
       "<style scoped>\n",
       "    .dataframe tbody tr th:only-of-type {\n",
       "        vertical-align: middle;\n",
       "    }\n",
       "\n",
       "    .dataframe tbody tr th {\n",
       "        vertical-align: top;\n",
       "    }\n",
       "\n",
       "    .dataframe thead th {\n",
       "        text-align: right;\n",
       "    }\n",
       "</style>\n",
       "<table border=\"1\" class=\"dataframe\">\n",
       "  <thead>\n",
       "    <tr style=\"text-align: right;\">\n",
       "      <th></th>\n",
       "      <th>title</th>\n",
       "      <th>text</th>\n",
       "      <th>subject</th>\n",
       "      <th>date</th>\n",
       "      <th>target</th>\n",
       "    </tr>\n",
       "  </thead>\n",
       "  <tbody>\n",
       "    <tr>\n",
       "      <th>0</th>\n",
       "      <td>Donald Trump Sends Out Embarrassing New Year’...</td>\n",
       "      <td>Donald Trump just couldn t wish all Americans ...</td>\n",
       "      <td>News</td>\n",
       "      <td>December 31, 2017</td>\n",
       "      <td>0</td>\n",
       "    </tr>\n",
       "    <tr>\n",
       "      <th>1</th>\n",
       "      <td>Drunk Bragging Trump Staffer Started Russian ...</td>\n",
       "      <td>House Intelligence Committee Chairman Devin Nu...</td>\n",
       "      <td>News</td>\n",
       "      <td>December 31, 2017</td>\n",
       "      <td>0</td>\n",
       "    </tr>\n",
       "    <tr>\n",
       "      <th>2</th>\n",
       "      <td>Sheriff David Clarke Becomes An Internet Joke...</td>\n",
       "      <td>On Friday, it was revealed that former Milwauk...</td>\n",
       "      <td>News</td>\n",
       "      <td>December 30, 2017</td>\n",
       "      <td>0</td>\n",
       "    </tr>\n",
       "    <tr>\n",
       "      <th>3</th>\n",
       "      <td>Trump Is So Obsessed He Even Has Obama’s Name...</td>\n",
       "      <td>On Christmas day, Donald Trump announced that ...</td>\n",
       "      <td>News</td>\n",
       "      <td>December 29, 2017</td>\n",
       "      <td>0</td>\n",
       "    </tr>\n",
       "    <tr>\n",
       "      <th>4</th>\n",
       "      <td>Pope Francis Just Called Out Donald Trump Dur...</td>\n",
       "      <td>Pope Francis used his annual Christmas Day mes...</td>\n",
       "      <td>News</td>\n",
       "      <td>December 25, 2017</td>\n",
       "      <td>0</td>\n",
       "    </tr>\n",
       "    <tr>\n",
       "      <th>...</th>\n",
       "      <td>...</td>\n",
       "      <td>...</td>\n",
       "      <td>...</td>\n",
       "      <td>...</td>\n",
       "      <td>...</td>\n",
       "    </tr>\n",
       "    <tr>\n",
       "      <th>9995</th>\n",
       "      <td>Obama says Clinton never jeopardized national ...</td>\n",
       "      <td>WASHINGTON (Reuters) - U.S. President Barack O...</td>\n",
       "      <td>politicsNews</td>\n",
       "      <td>April 10, 2016</td>\n",
       "      <td>1</td>\n",
       "    </tr>\n",
       "    <tr>\n",
       "      <th>9996</th>\n",
       "      <td>U.S. plans to curb tax 'inversions' could hit ...</td>\n",
       "      <td>LONDON (Reuters) - Planned changes that Presid...</td>\n",
       "      <td>politicsNews</td>\n",
       "      <td>April 11, 2016</td>\n",
       "      <td>1</td>\n",
       "    </tr>\n",
       "    <tr>\n",
       "      <th>9997</th>\n",
       "      <td>U.S. Democrat Clinton downplays chance of cont...</td>\n",
       "      <td>WASHINGTON (Reuters) - Democratic front-runner...</td>\n",
       "      <td>politicsNews</td>\n",
       "      <td>April 10, 2016</td>\n",
       "      <td>1</td>\n",
       "    </tr>\n",
       "    <tr>\n",
       "      <th>9998</th>\n",
       "      <td>Boston Globe denounces Trump candidacy in 'fro...</td>\n",
       "      <td>(Reuters) - Headlines screaming “Deportations ...</td>\n",
       "      <td>politicsNews</td>\n",
       "      <td>April 10, 2016</td>\n",
       "      <td>1</td>\n",
       "    </tr>\n",
       "    <tr>\n",
       "      <th>9999</th>\n",
       "      <td>Lawyers evasive about ex-U.S. House speaker's ...</td>\n",
       "      <td>(Reuters) - Former U.S. House Speaker Dennis H...</td>\n",
       "      <td>politicsNews</td>\n",
       "      <td>April 9, 2016</td>\n",
       "      <td>1</td>\n",
       "    </tr>\n",
       "  </tbody>\n",
       "</table>\n",
       "<p>20000 rows × 5 columns</p>\n",
       "</div>"
      ],
      "text/plain": [
       "                                                  title  \\\n",
       "0      Donald Trump Sends Out Embarrassing New Year’...   \n",
       "1      Drunk Bragging Trump Staffer Started Russian ...   \n",
       "2      Sheriff David Clarke Becomes An Internet Joke...   \n",
       "3      Trump Is So Obsessed He Even Has Obama’s Name...   \n",
       "4      Pope Francis Just Called Out Donald Trump Dur...   \n",
       "...                                                 ...   \n",
       "9995  Obama says Clinton never jeopardized national ...   \n",
       "9996  U.S. plans to curb tax 'inversions' could hit ...   \n",
       "9997  U.S. Democrat Clinton downplays chance of cont...   \n",
       "9998  Boston Globe denounces Trump candidacy in 'fro...   \n",
       "9999  Lawyers evasive about ex-U.S. House speaker's ...   \n",
       "\n",
       "                                                   text       subject  \\\n",
       "0     Donald Trump just couldn t wish all Americans ...          News   \n",
       "1     House Intelligence Committee Chairman Devin Nu...          News   \n",
       "2     On Friday, it was revealed that former Milwauk...          News   \n",
       "3     On Christmas day, Donald Trump announced that ...          News   \n",
       "4     Pope Francis used his annual Christmas Day mes...          News   \n",
       "...                                                 ...           ...   \n",
       "9995  WASHINGTON (Reuters) - U.S. President Barack O...  politicsNews   \n",
       "9996  LONDON (Reuters) - Planned changes that Presid...  politicsNews   \n",
       "9997  WASHINGTON (Reuters) - Democratic front-runner...  politicsNews   \n",
       "9998  (Reuters) - Headlines screaming “Deportations ...  politicsNews   \n",
       "9999  (Reuters) - Former U.S. House Speaker Dennis H...  politicsNews   \n",
       "\n",
       "                   date  target  \n",
       "0     December 31, 2017       0  \n",
       "1     December 31, 2017       0  \n",
       "2     December 30, 2017       0  \n",
       "3     December 29, 2017       0  \n",
       "4     December 25, 2017       0  \n",
       "...                 ...     ...  \n",
       "9995    April 10, 2016        1  \n",
       "9996    April 11, 2016        1  \n",
       "9997    April 10, 2016        1  \n",
       "9998    April 10, 2016        1  \n",
       "9999     April 9, 2016        1  \n",
       "\n",
       "[20000 rows x 5 columns]"
      ]
     },
     "execution_count": 6,
     "metadata": {},
     "output_type": "execute_result"
    }
   ],
   "source": [
    "SUBSAMPLE_SIZE = 10000\n",
    "\n",
    "df_fake = pd.read_csv('Fake.csv', encoding='utf-8')[:SUBSAMPLE_SIZE]\n",
    "df_fake['target'] = np.zeros(df_fake.shape[0], dtype=np.int8)\n",
    "df_true = pd.read_csv('True.csv', encoding='utf-8')[:SUBSAMPLE_SIZE]\n",
    "df_true['target'] = np.ones(df_true.shape[0], dtype=np.int8)\n",
    "df = pd.concat((df_fake, df_true), axis=0)\n",
    "df.sample(frac=1).reset_index(drop=True)\n",
    "df"
   ]
  },
  {
   "cell_type": "code",
   "execution_count": 7,
   "metadata": {
    "colab": {
     "base_uri": "https://localhost:8080/"
    },
    "id": "zCO9IE9fE3UP",
    "outputId": "a146bbbf-1a35-413b-b8e4-4c0a1d9074ba"
   },
   "outputs": [
    {
     "data": {
      "text/plain": [
       "1    10000\n",
       "0    10000\n",
       "Name: target, dtype: int64"
      ]
     },
     "execution_count": 7,
     "metadata": {},
     "output_type": "execute_result"
    }
   ],
   "source": [
    "df.target.value_counts()"
   ]
  },
  {
   "cell_type": "code",
   "execution_count": 8,
   "metadata": {
    "colab": {
     "base_uri": "https://localhost:8080/"
    },
    "id": "FNPyxTmuG1ua",
    "outputId": "389a4cb7-0490-477a-80ed-b4c11bb0eea0"
   },
   "outputs": [
    {
     "data": {
      "text/plain": [
       "politicsNews    10000\n",
       "News             9050\n",
       "politics          950\n",
       "Name: subject, dtype: int64"
      ]
     },
     "execution_count": 8,
     "metadata": {},
     "output_type": "execute_result"
    }
   ],
   "source": [
    "df.subject.value_counts()"
   ]
  },
  {
   "cell_type": "code",
   "execution_count": 9,
   "metadata": {
    "id": "6Rvx126OHFdx"
   },
   "outputs": [],
   "source": [
    "from category_encoders import TargetEncoder\n",
    "from sklearn.preprocessing import StandardScaler, LabelEncoder\n",
    "\n",
    "encoder = LabelEncoder()\n",
    "scaler = StandardScaler()\n",
    "df['subject'] = encoder.fit_transform(df.subject)"
   ]
  },
  {
   "cell_type": "code",
   "execution_count": 10,
   "metadata": {
    "colab": {
     "base_uri": "https://localhost:8080/"
    },
    "id": "3AiIGeR-Hgjw",
    "outputId": "8f5e16b8-7fc2-4d78-9ff8-0d0b89bfe039"
   },
   "outputs": [
    {
     "data": {
      "text/plain": [
       "array([0, 1, 2])"
      ]
     },
     "execution_count": 10,
     "metadata": {},
     "output_type": "execute_result"
    }
   ],
   "source": [
    "df.subject.unique()"
   ]
  },
  {
   "cell_type": "code",
   "execution_count": 11,
   "metadata": {
    "colab": {
     "base_uri": "https://localhost:8080/"
    },
    "id": "88SH_zNJUq3Q",
    "outputId": "f7737e8d-b71b-4224-cd57-311bbcb7d49a"
   },
   "outputs": [
    {
     "data": {
      "text/plain": [
       "10950"
      ]
     },
     "execution_count": 11,
     "metadata": {},
     "output_type": "execute_result"
    }
   ],
   "source": [
    "(df.subject - df.target).sum()"
   ]
  },
  {
   "cell_type": "code",
   "execution_count": 12,
   "metadata": {
    "colab": {
     "base_uri": "https://localhost:8080/"
    },
    "id": "_hh_gvbrHmNH",
    "outputId": "3cf6d900-cdee-44c4-fda2-5690970aa59a"
   },
   "outputs": [
    {
     "data": {
      "text/plain": [
       "November 9, 2016      115\n",
       "April 7, 2017          73\n",
       "February 1, 2017       51\n",
       "February 2, 2017       49\n",
       "January 23, 2017       47\n",
       "                     ... \n",
       "May 14, 2016            1\n",
       "December 11, 2017       1\n",
       "October 14, 2017        1\n",
       "December 30, 2017       1\n",
       "August 21, 2016         1\n",
       "Name: date, Length: 1480, dtype: int64"
      ]
     },
     "execution_count": 12,
     "metadata": {},
     "output_type": "execute_result"
    }
   ],
   "source": [
    "df.date.value_counts()"
   ]
  },
  {
   "cell_type": "code",
   "execution_count": 13,
   "metadata": {
    "id": "48yXqZpMIObX"
   },
   "outputs": [],
   "source": [
    "df.drop(columns=['date'], inplace=True)"
   ]
  },
  {
   "cell_type": "markdown",
   "metadata": {
    "id": "4cwQL6eyLLiE"
   },
   "source": [
    "## Сразу делим данные на две выборки train и test"
   ]
  },
  {
   "cell_type": "code",
   "execution_count": 14,
   "metadata": {
    "colab": {
     "base_uri": "https://localhost:8080/"
    },
    "id": "zELOVJedLKu9",
    "outputId": "7d23f9b5-29d3-4bfd-bc7a-88447218239f"
   },
   "outputs": [
    {
     "data": {
      "text/plain": [
       "((16000, 3), (16000,), (4000, 3), (4000,))"
      ]
     },
     "execution_count": 14,
     "metadata": {},
     "output_type": "execute_result"
    }
   ],
   "source": [
    "from sklearn.model_selection import train_test_split\n",
    "\n",
    "X = df[[i for i in df.columns if i !='target']]\n",
    "y = df.target\n",
    "\n",
    "x_train, x_test, y_train, y_test = train_test_split(X, y, test_size=0.2, stratify=y, random_state=42)\n",
    "\n",
    "x_train.shape, y_train.shape, x_test.shape, y_test.shape"
   ]
  },
  {
   "cell_type": "markdown",
   "metadata": {
    "id": "_DPKq5XVJlsw"
   },
   "source": [
    "## Предобрабатываем текстовые данные"
   ]
  },
  {
   "cell_type": "code",
   "execution_count": 15,
   "metadata": {
    "colab": {
     "base_uri": "https://localhost:8080/"
    },
    "id": "9Nl8ghWAJZAc",
    "outputId": "f25dca3e-a2d9-4d3f-e763-d2b94f30130f"
   },
   "outputs": [
    {
     "name": "stdout",
     "output_type": "stream",
     "text": [
      " Donald Trump Sends Out Embarrassing New Year’s Eve Message; This is Disturbing <class 'str'>\n"
     ]
    }
   ],
   "source": [
    "for title in df.title:\n",
    "  print(title, type(title))\n",
    "  break"
   ]
  },
  {
   "cell_type": "code",
   "execution_count": 16,
   "metadata": {
    "id": "BqYGRx0BJptr"
   },
   "outputs": [],
   "source": [
    "from sklearn.feature_extraction.text import TfidfVectorizer, CountVectorizer\n",
    "import re\n",
    "\n",
    "def preproc_func(title):\n",
    "  # make more preprocessing if it well be needed!\n",
    "  if isinstance(title, str):\n",
    "      title = re.sub('[^a-zA-Z0-9]', ' ', title)\n",
    "      return title.lower().strip()\n",
    "  else:\n",
    "    return ''\n",
    "\n",
    "def get_tfidf_matrix(df, column, preproc_function, vectorizer=None):\n",
    "  \"\"\"\n",
    "    returns matrix, trained vectorizer\n",
    "  \"\"\"\n",
    "  processed_col = df[column].apply(preproc_function)\n",
    "  if vectorizer is None:\n",
    "    vectorizer = TfidfVectorizer()\n",
    "    vectorizer.fit(processed_col)\n",
    "\n",
    "  matrix = vectorizer.transform(processed_col)\n",
    "  \n",
    "  return matrix, vectorizer\n",
    "\n",
    "def get_count_matrix(df, column, preproc_function, vectorizer=None):\n",
    "  \"\"\"\n",
    "    returns matrix, trained vectorizer\n",
    "  \"\"\"\n",
    "  processed_col = df[column].apply(preproc_function)\n",
    "  if vectorizer is None:\n",
    "    vectorizer = CountVectorizer()\n",
    "    vectorizer.fit(processed_col)\n",
    "\n",
    "  matrix = vectorizer.transform(processed_col)\n",
    "  return matrix, vectorizer\n",
    "\n",
    "\n",
    "train_title_matrix_tfidf, tfidf_vectorizer = get_tfidf_matrix(x_train, 'title', preproc_func)\n",
    "test_title_matrix_tfidf, tfidf_vectorizer = get_tfidf_matrix(x_test, 'title',\n",
    "                                                       preproc_func, vectorizer=tfidf_vectorizer)\n",
    "\n",
    "train_title_matrix_count, count_vectorizer = get_count_matrix(x_train, 'title', preproc_func)\n",
    "test_title_matrix_count, count_vectorizer = get_count_matrix(x_test, 'title',\n",
    "                                                       preproc_func, vectorizer=count_vectorizer)"
   ]
  },
  {
   "cell_type": "code",
   "execution_count": 17,
   "metadata": {
    "colab": {
     "base_uri": "https://localhost:8080/"
    },
    "id": "MTxU0vJ8KgCC",
    "outputId": "dc20ee2e-bfa3-4759-8a13-6b035bb3fc60"
   },
   "outputs": [
    {
     "data": {
      "text/plain": [
       "((16000, 13240), (4000, 13240), (16000, 13240), (4000, 13240))"
      ]
     },
     "execution_count": 17,
     "metadata": {},
     "output_type": "execute_result"
    }
   ],
   "source": [
    "train_title_matrix_tfidf.shape, test_title_matrix_tfidf.shape, train_title_matrix_count.shape, test_title_matrix_count.shape"
   ]
  },
  {
   "cell_type": "code",
   "execution_count": 18,
   "metadata": {
    "id": "IPeQhT-FKi6R"
   },
   "outputs": [],
   "source": [
    "train_text_matrix_tfidf, tfidf_text_vectorizer = get_tfidf_matrix(x_train, 'text', preproc_func)\n",
    "test_text_matrix_tfidf, tfidf_text_vectorizer = get_tfidf_matrix(x_test, 'text',\n",
    "                                                       preproc_func, vectorizer=tfidf_text_vectorizer)\n",
    "\n",
    "train_text_matrix_count, count_text_vectorizer = get_tfidf_matrix(x_train, 'text', preproc_func)\n",
    "test_text_matrix_count, count_text_vectorizer = get_tfidf_matrix(x_test, 'text',\n",
    "                                                       preproc_func, vectorizer=count_text_vectorizer)"
   ]
  },
  {
   "cell_type": "code",
   "execution_count": 19,
   "metadata": {
    "colab": {
     "base_uri": "https://localhost:8080/"
    },
    "id": "9K0r8YF3P-xi",
    "outputId": "0b1e01fb-1a47-41ee-839d-451ef2464561"
   },
   "outputs": [
    {
     "data": {
      "text/plain": [
       "((16000, 73574), (4000, 73574))"
      ]
     },
     "execution_count": 19,
     "metadata": {},
     "output_type": "execute_result"
    }
   ],
   "source": [
    "train_text_matrix_tfidf.shape, test_text_matrix_tfidf.shape"
   ]
  },
  {
   "cell_type": "code",
   "execution_count": 20,
   "metadata": {
    "colab": {
     "base_uri": "https://localhost:8080/"
    },
    "id": "U58Y7sj7TR9Z",
    "outputId": "ea12fd9a-39f5-478c-990c-b1f6857da694"
   },
   "outputs": [
    {
     "data": {
      "text/plain": [
       "((16000, 73574), (4000, 73574))"
      ]
     },
     "execution_count": 20,
     "metadata": {},
     "output_type": "execute_result"
    }
   ],
   "source": [
    "train_text_matrix_count.shape, test_text_matrix_count.shape"
   ]
  },
  {
   "cell_type": "code",
   "execution_count": 21,
   "metadata": {
    "id": "fFVF0rUPOKdu"
   },
   "outputs": [],
   "source": [
    "from scipy import sparse\n",
    "\n",
    "subject_train_sparse = sparse.csr_matrix(np.array(x_train.subject).reshape(-1, 1))\n",
    "subject_test_sparse = sparse.csr_matrix(np.array(x_test.subject).reshape(-1, 1))\n",
    "\n",
    "# subject_train_sparse.shape\n",
    "texts_tfidf_train_matrix = sparse.hstack((train_text_matrix_tfidf,train_title_matrix_tfidf, subject_train_sparse))\n",
    "texts_count_train_matrix = sparse.hstack((train_text_matrix_count,train_title_matrix_count, subject_train_sparse))\n",
    "texts_tfidf_test_matrix = sparse.hstack((test_text_matrix_tfidf,test_title_matrix_tfidf, subject_test_sparse))\n",
    "texts_count_test_matrix = sparse.hstack((test_text_matrix_count,test_title_matrix_count, subject_test_sparse))"
   ]
  },
  {
   "cell_type": "code",
   "execution_count": 22,
   "metadata": {
    "colab": {
     "base_uri": "https://localhost:8080/"
    },
    "id": "l4IUucnCUYsI",
    "outputId": "31261e3c-c984-4a9c-e544-b9245c11c4c2"
   },
   "outputs": [
    {
     "data": {
      "text/plain": [
       "(16000, 86815)"
      ]
     },
     "execution_count": 22,
     "metadata": {},
     "output_type": "execute_result"
    }
   ],
   "source": [
    "texts_tfidf_train_matrix.shape"
   ]
  },
  {
   "cell_type": "markdown",
   "metadata": {
    "id": "JF6e8JXVQWu5"
   },
   "source": [
    "## KNN with CountVectorizer"
   ]
  },
  {
   "cell_type": "code",
   "execution_count": 23,
   "metadata": {
    "colab": {
     "base_uri": "https://localhost:8080/"
    },
    "id": "bu2VLgsFXAdx",
    "outputId": "5425679a-785b-4d07-9593-512c28b6a060"
   },
   "outputs": [
    {
     "data": {
      "text/plain": [
       "dict_keys(['explained_variance', 'r2', 'max_error', 'neg_median_absolute_error', 'neg_mean_absolute_error', 'neg_mean_absolute_percentage_error', 'neg_mean_squared_error', 'neg_mean_squared_log_error', 'neg_root_mean_squared_error', 'neg_mean_poisson_deviance', 'neg_mean_gamma_deviance', 'accuracy', 'top_k_accuracy', 'roc_auc', 'roc_auc_ovr', 'roc_auc_ovo', 'roc_auc_ovr_weighted', 'roc_auc_ovo_weighted', 'balanced_accuracy', 'average_precision', 'neg_log_loss', 'neg_brier_score', 'adjusted_rand_score', 'rand_score', 'homogeneity_score', 'completeness_score', 'v_measure_score', 'mutual_info_score', 'adjusted_mutual_info_score', 'normalized_mutual_info_score', 'fowlkes_mallows_score', 'precision', 'precision_macro', 'precision_micro', 'precision_samples', 'precision_weighted', 'recall', 'recall_macro', 'recall_micro', 'recall_samples', 'recall_weighted', 'f1', 'f1_macro', 'f1_micro', 'f1_samples', 'f1_weighted', 'jaccard', 'jaccard_macro', 'jaccard_micro', 'jaccard_samples', 'jaccard_weighted'])"
      ]
     },
     "execution_count": 23,
     "metadata": {},
     "output_type": "execute_result"
    }
   ],
   "source": [
    "import sklearn\n",
    "sklearn.metrics.SCORERS.keys()"
   ]
  },
  {
   "cell_type": "code",
   "execution_count": 24,
   "metadata": {
    "colab": {
     "base_uri": "https://localhost:8080/",
     "height": 306
    },
    "id": "jvzNPRRxOBNw",
    "outputId": "49e27a9d-da8f-45f7-d04b-ded606e36169"
   },
   "outputs": [
    {
     "name": "stdout",
     "output_type": "stream",
     "text": [
      "Fitting 3 folds for each of 5 candidates, totalling 15 fits\n"
     ]
    },
    {
     "data": {
      "text/html": [
       "<div>\n",
       "<style scoped>\n",
       "    .dataframe tbody tr th:only-of-type {\n",
       "        vertical-align: middle;\n",
       "    }\n",
       "\n",
       "    .dataframe tbody tr th {\n",
       "        vertical-align: top;\n",
       "    }\n",
       "\n",
       "    .dataframe thead th {\n",
       "        text-align: right;\n",
       "    }\n",
       "</style>\n",
       "<table border=\"1\" class=\"dataframe\">\n",
       "  <thead>\n",
       "    <tr style=\"text-align: right;\">\n",
       "      <th></th>\n",
       "      <th>mean_fit_time</th>\n",
       "      <th>std_fit_time</th>\n",
       "      <th>mean_score_time</th>\n",
       "      <th>std_score_time</th>\n",
       "      <th>param_n_neighbors</th>\n",
       "      <th>params</th>\n",
       "      <th>split0_test_score</th>\n",
       "      <th>split1_test_score</th>\n",
       "      <th>split2_test_score</th>\n",
       "      <th>mean_test_score</th>\n",
       "      <th>std_test_score</th>\n",
       "      <th>rank_test_score</th>\n",
       "    </tr>\n",
       "  </thead>\n",
       "  <tbody>\n",
       "    <tr>\n",
       "      <th>0</th>\n",
       "      <td>0.068665</td>\n",
       "      <td>0.001695</td>\n",
       "      <td>14.359868</td>\n",
       "      <td>0.047684</td>\n",
       "      <td>2</td>\n",
       "      <td>{'n_neighbors': 2}</td>\n",
       "      <td>0.980308</td>\n",
       "      <td>0.975611</td>\n",
       "      <td>0.978240</td>\n",
       "      <td>0.978053</td>\n",
       "      <td>0.001922</td>\n",
       "      <td>1</td>\n",
       "    </tr>\n",
       "    <tr>\n",
       "      <th>1</th>\n",
       "      <td>0.066993</td>\n",
       "      <td>0.002455</td>\n",
       "      <td>14.629618</td>\n",
       "      <td>0.153571</td>\n",
       "      <td>3</td>\n",
       "      <td>{'n_neighbors': 3}</td>\n",
       "      <td>0.970165</td>\n",
       "      <td>0.963009</td>\n",
       "      <td>0.967715</td>\n",
       "      <td>0.966963</td>\n",
       "      <td>0.002969</td>\n",
       "      <td>2</td>\n",
       "    </tr>\n",
       "    <tr>\n",
       "      <th>2</th>\n",
       "      <td>0.070530</td>\n",
       "      <td>0.005369</td>\n",
       "      <td>15.269342</td>\n",
       "      <td>0.605137</td>\n",
       "      <td>5</td>\n",
       "      <td>{'n_neighbors': 5}</td>\n",
       "      <td>0.968849</td>\n",
       "      <td>0.960184</td>\n",
       "      <td>0.965457</td>\n",
       "      <td>0.964830</td>\n",
       "      <td>0.003565</td>\n",
       "      <td>3</td>\n",
       "    </tr>\n",
       "    <tr>\n",
       "      <th>3</th>\n",
       "      <td>0.066669</td>\n",
       "      <td>0.002608</td>\n",
       "      <td>16.109434</td>\n",
       "      <td>0.048507</td>\n",
       "      <td>7</td>\n",
       "      <td>{'n_neighbors': 7}</td>\n",
       "      <td>0.968473</td>\n",
       "      <td>0.959619</td>\n",
       "      <td>0.962445</td>\n",
       "      <td>0.963512</td>\n",
       "      <td>0.003692</td>\n",
       "      <td>4</td>\n",
       "    </tr>\n",
       "    <tr>\n",
       "      <th>4</th>\n",
       "      <td>0.064319</td>\n",
       "      <td>0.001900</td>\n",
       "      <td>12.447080</td>\n",
       "      <td>0.069296</td>\n",
       "      <td>9</td>\n",
       "      <td>{'n_neighbors': 9}</td>\n",
       "      <td>0.967532</td>\n",
       "      <td>0.957922</td>\n",
       "      <td>0.961880</td>\n",
       "      <td>0.962445</td>\n",
       "      <td>0.003944</td>\n",
       "      <td>5</td>\n",
       "    </tr>\n",
       "  </tbody>\n",
       "</table>\n",
       "</div>"
      ],
      "text/plain": [
       "   mean_fit_time  std_fit_time  mean_score_time  std_score_time  \\\n",
       "0       0.068665      0.001695        14.359868        0.047684   \n",
       "1       0.066993      0.002455        14.629618        0.153571   \n",
       "2       0.070530      0.005369        15.269342        0.605137   \n",
       "3       0.066669      0.002608        16.109434        0.048507   \n",
       "4       0.064319      0.001900        12.447080        0.069296   \n",
       "\n",
       "  param_n_neighbors              params  split0_test_score  split1_test_score  \\\n",
       "0                 2  {'n_neighbors': 2}           0.980308           0.975611   \n",
       "1                 3  {'n_neighbors': 3}           0.970165           0.963009   \n",
       "2                 5  {'n_neighbors': 5}           0.968849           0.960184   \n",
       "3                 7  {'n_neighbors': 7}           0.968473           0.959619   \n",
       "4                 9  {'n_neighbors': 9}           0.967532           0.957922   \n",
       "\n",
       "   split2_test_score  mean_test_score  std_test_score  rank_test_score  \n",
       "0           0.978240         0.978053        0.001922                1  \n",
       "1           0.967715         0.966963        0.002969                2  \n",
       "2           0.965457         0.964830        0.003565                3  \n",
       "3           0.962445         0.963512        0.003692                4  \n",
       "4           0.961880         0.962445        0.003944                5  "
      ]
     },
     "execution_count": 24,
     "metadata": {},
     "output_type": "execute_result"
    }
   ],
   "source": [
    "from sklearn.neighbors import KNeighborsClassifier\n",
    "from sklearn.metrics import classification_report\n",
    "from sklearn.model_selection import GridSearchCV\n",
    "\n",
    "\n",
    "parameters = {'n_neighbors': [2, 3, 5, 7, 9]}\n",
    "\n",
    "\n",
    "knn_clf = KNeighborsClassifier()\n",
    "\n",
    "knn_grid_count_clf = GridSearchCV(knn_clf, parameters, verbose=4, scoring='f1_macro', n_jobs=-1, cv=3)\n",
    "\n",
    "knn_grid_count_clf.fit(texts_count_train_matrix, y_train)\n",
    "\n",
    "pd.DataFrame(knn_grid_count_clf.cv_results_)"
   ]
  },
  {
   "cell_type": "code",
   "execution_count": 25,
   "metadata": {
    "colab": {
     "base_uri": "https://localhost:8080/"
    },
    "id": "rmoxSXq9YPDG",
    "outputId": "c9159a7b-ce20-456a-adc9-a963f1531f78"
   },
   "outputs": [
    {
     "name": "stdout",
     "output_type": "stream",
     "text": [
      "              precision    recall  f1-score   support\n",
      "\n",
      "           0     0.9979    0.9645    0.9809      2000\n",
      "           1     0.9657    0.9980    0.9816      2000\n",
      "\n",
      "    accuracy                         0.9812      4000\n",
      "   macro avg     0.9818    0.9812    0.9812      4000\n",
      "weighted avg     0.9818    0.9812    0.9812      4000\n",
      "\n"
     ]
    }
   ],
   "source": [
    "best_knn_count_clf = KNeighborsClassifier(n_neighbors=2)\n",
    "best_knn_count_clf.fit(texts_count_train_matrix, y_train)\n",
    "\n",
    "pred = best_knn_count_clf.predict(X=texts_count_test_matrix)\n",
    "\n",
    "best_knn_count = classification_report(y_test, pred, digits=4, output_dict=True)\n",
    "\n",
    "print(classification_report(y_test, pred, digits=4) )"
   ]
  },
  {
   "cell_type": "markdown",
   "metadata": {
    "id": "fC-P2wnhSJg0"
   },
   "source": [
    "## KNN with TfidfVectorizer"
   ]
  },
  {
   "cell_type": "code",
   "execution_count": 26,
   "metadata": {
    "colab": {
     "base_uri": "https://localhost:8080/",
     "height": 251
    },
    "id": "C_tue-8wQkcK",
    "outputId": "ddf9115b-54fb-46b8-dc06-bdff546cd20a"
   },
   "outputs": [
    {
     "name": "stdout",
     "output_type": "stream",
     "text": [
      "Fitting 3 folds for each of 5 candidates, totalling 15 fits\n"
     ]
    },
    {
     "data": {
      "text/html": [
       "<div>\n",
       "<style scoped>\n",
       "    .dataframe tbody tr th:only-of-type {\n",
       "        vertical-align: middle;\n",
       "    }\n",
       "\n",
       "    .dataframe tbody tr th {\n",
       "        vertical-align: top;\n",
       "    }\n",
       "\n",
       "    .dataframe thead th {\n",
       "        text-align: right;\n",
       "    }\n",
       "</style>\n",
       "<table border=\"1\" class=\"dataframe\">\n",
       "  <thead>\n",
       "    <tr style=\"text-align: right;\">\n",
       "      <th></th>\n",
       "      <th>mean_fit_time</th>\n",
       "      <th>std_fit_time</th>\n",
       "      <th>mean_score_time</th>\n",
       "      <th>std_score_time</th>\n",
       "      <th>param_n_neighbors</th>\n",
       "      <th>params</th>\n",
       "      <th>split0_test_score</th>\n",
       "      <th>split1_test_score</th>\n",
       "      <th>split2_test_score</th>\n",
       "      <th>mean_test_score</th>\n",
       "      <th>std_test_score</th>\n",
       "      <th>rank_test_score</th>\n",
       "    </tr>\n",
       "  </thead>\n",
       "  <tbody>\n",
       "    <tr>\n",
       "      <th>0</th>\n",
       "      <td>0.074137</td>\n",
       "      <td>0.003671</td>\n",
       "      <td>14.531715</td>\n",
       "      <td>0.077497</td>\n",
       "      <td>2</td>\n",
       "      <td>{'n_neighbors': 2}</td>\n",
       "      <td>0.999438</td>\n",
       "      <td>1.0</td>\n",
       "      <td>0.999625</td>\n",
       "      <td>0.999688</td>\n",
       "      <td>0.000234</td>\n",
       "      <td>4</td>\n",
       "    </tr>\n",
       "    <tr>\n",
       "      <th>1</th>\n",
       "      <td>0.068825</td>\n",
       "      <td>0.006023</td>\n",
       "      <td>14.795847</td>\n",
       "      <td>0.137342</td>\n",
       "      <td>3</td>\n",
       "      <td>{'n_neighbors': 3}</td>\n",
       "      <td>0.999438</td>\n",
       "      <td>1.0</td>\n",
       "      <td>0.999437</td>\n",
       "      <td>0.999625</td>\n",
       "      <td>0.000265</td>\n",
       "      <td>5</td>\n",
       "    </tr>\n",
       "    <tr>\n",
       "      <th>2</th>\n",
       "      <td>0.067547</td>\n",
       "      <td>0.006255</td>\n",
       "      <td>15.125217</td>\n",
       "      <td>0.302835</td>\n",
       "      <td>5</td>\n",
       "      <td>{'n_neighbors': 5}</td>\n",
       "      <td>0.999438</td>\n",
       "      <td>1.0</td>\n",
       "      <td>0.999812</td>\n",
       "      <td>0.999750</td>\n",
       "      <td>0.000234</td>\n",
       "      <td>3</td>\n",
       "    </tr>\n",
       "    <tr>\n",
       "      <th>3</th>\n",
       "      <td>0.065339</td>\n",
       "      <td>0.004700</td>\n",
       "      <td>15.211160</td>\n",
       "      <td>0.124978</td>\n",
       "      <td>7</td>\n",
       "      <td>{'n_neighbors': 7}</td>\n",
       "      <td>0.999813</td>\n",
       "      <td>1.0</td>\n",
       "      <td>0.999812</td>\n",
       "      <td>0.999875</td>\n",
       "      <td>0.000088</td>\n",
       "      <td>2</td>\n",
       "    </tr>\n",
       "    <tr>\n",
       "      <th>4</th>\n",
       "      <td>0.071679</td>\n",
       "      <td>0.006791</td>\n",
       "      <td>12.580699</td>\n",
       "      <td>0.063409</td>\n",
       "      <td>9</td>\n",
       "      <td>{'n_neighbors': 9}</td>\n",
       "      <td>1.000000</td>\n",
       "      <td>1.0</td>\n",
       "      <td>0.999812</td>\n",
       "      <td>0.999937</td>\n",
       "      <td>0.000088</td>\n",
       "      <td>1</td>\n",
       "    </tr>\n",
       "  </tbody>\n",
       "</table>\n",
       "</div>"
      ],
      "text/plain": [
       "   mean_fit_time  std_fit_time  mean_score_time  std_score_time  \\\n",
       "0       0.074137      0.003671        14.531715        0.077497   \n",
       "1       0.068825      0.006023        14.795847        0.137342   \n",
       "2       0.067547      0.006255        15.125217        0.302835   \n",
       "3       0.065339      0.004700        15.211160        0.124978   \n",
       "4       0.071679      0.006791        12.580699        0.063409   \n",
       "\n",
       "  param_n_neighbors              params  split0_test_score  split1_test_score  \\\n",
       "0                 2  {'n_neighbors': 2}           0.999438                1.0   \n",
       "1                 3  {'n_neighbors': 3}           0.999438                1.0   \n",
       "2                 5  {'n_neighbors': 5}           0.999438                1.0   \n",
       "3                 7  {'n_neighbors': 7}           0.999813                1.0   \n",
       "4                 9  {'n_neighbors': 9}           1.000000                1.0   \n",
       "\n",
       "   split2_test_score  mean_test_score  std_test_score  rank_test_score  \n",
       "0           0.999625         0.999688        0.000234                4  \n",
       "1           0.999437         0.999625        0.000265                5  \n",
       "2           0.999812         0.999750        0.000234                3  \n",
       "3           0.999812         0.999875        0.000088                2  \n",
       "4           0.999812         0.999937        0.000088                1  "
      ]
     },
     "execution_count": 26,
     "metadata": {},
     "output_type": "execute_result"
    }
   ],
   "source": [
    "parameters = {'n_neighbors': [2, 3, 5, 7, 9]}\n",
    "\n",
    "\n",
    "knn_clf = KNeighborsClassifier()\n",
    "\n",
    "knn_grid_tfidf_clf = GridSearchCV(knn_clf, parameters, verbose=4, scoring='f1_macro', n_jobs=-1, cv=3)\n",
    "\n",
    "knn_grid_tfidf_clf.fit(texts_tfidf_train_matrix, y_train)\n",
    "\n",
    "pd.DataFrame(knn_grid_tfidf_clf.cv_results_)"
   ]
  },
  {
   "cell_type": "code",
   "execution_count": 27,
   "metadata": {
    "colab": {
     "base_uri": "https://localhost:8080/"
    },
    "id": "zNudmZdtZzNB",
    "outputId": "548046a1-bf87-41e0-f62c-1f230eabe65c"
   },
   "outputs": [
    {
     "name": "stdout",
     "output_type": "stream",
     "text": [
      "              precision    recall  f1-score   support\n",
      "\n",
      "           0     1.0000    0.9995    0.9997      2000\n",
      "           1     0.9995    1.0000    0.9998      2000\n",
      "\n",
      "    accuracy                         0.9998      4000\n",
      "   macro avg     0.9998    0.9998    0.9997      4000\n",
      "weighted avg     0.9998    0.9998    0.9997      4000\n",
      "\n"
     ]
    }
   ],
   "source": [
    "best_knn_clf_tfidf = KNeighborsClassifier(n_neighbors=9)\n",
    "\n",
    "best_knn_clf_tfidf.fit(texts_tfidf_train_matrix, y_train)\n",
    "\n",
    "pred_tfidf = best_knn_clf_tfidf.predict(X=texts_tfidf_test_matrix)\n",
    "\n",
    "best_knn_tfidf = classification_report(y_test, pred_tfidf, digits=4, output_dict=True)\n",
    "\n",
    "print(classification_report(y_test, pred_tfidf, digits=4))"
   ]
  },
  {
   "cell_type": "markdown",
   "metadata": {
    "id": "AFEIjMtfSmp0"
   },
   "source": [
    "## Complement Bayes with CountVectorizer"
   ]
  },
  {
   "cell_type": "code",
   "execution_count": 28,
   "metadata": {
    "colab": {
     "base_uri": "https://localhost:8080/",
     "height": 418
    },
    "id": "drq5yI9CSWW2",
    "outputId": "cc87ef35-9d95-453f-a4f7-be520e2ef7f0"
   },
   "outputs": [
    {
     "name": "stdout",
     "output_type": "stream",
     "text": [
      "Fitting 3 folds for each of 10 candidates, totalling 30 fits\n"
     ]
    },
    {
     "data": {
      "text/html": [
       "<div>\n",
       "<style scoped>\n",
       "    .dataframe tbody tr th:only-of-type {\n",
       "        vertical-align: middle;\n",
       "    }\n",
       "\n",
       "    .dataframe tbody tr th {\n",
       "        vertical-align: top;\n",
       "    }\n",
       "\n",
       "    .dataframe thead th {\n",
       "        text-align: right;\n",
       "    }\n",
       "</style>\n",
       "<table border=\"1\" class=\"dataframe\">\n",
       "  <thead>\n",
       "    <tr style=\"text-align: right;\">\n",
       "      <th></th>\n",
       "      <th>mean_fit_time</th>\n",
       "      <th>std_fit_time</th>\n",
       "      <th>mean_score_time</th>\n",
       "      <th>std_score_time</th>\n",
       "      <th>param_alpha</th>\n",
       "      <th>param_norm</th>\n",
       "      <th>params</th>\n",
       "      <th>split0_test_score</th>\n",
       "      <th>split1_test_score</th>\n",
       "      <th>split2_test_score</th>\n",
       "      <th>mean_test_score</th>\n",
       "      <th>std_test_score</th>\n",
       "      <th>rank_test_score</th>\n",
       "    </tr>\n",
       "  </thead>\n",
       "  <tbody>\n",
       "    <tr>\n",
       "      <th>0</th>\n",
       "      <td>0.112033</td>\n",
       "      <td>0.000470</td>\n",
       "      <td>0.025598</td>\n",
       "      <td>0.000470</td>\n",
       "      <td>0</td>\n",
       "      <td>True</td>\n",
       "      <td>{'alpha': 0, 'norm': True}</td>\n",
       "      <td>0.812293</td>\n",
       "      <td>0.783548</td>\n",
       "      <td>0.806871</td>\n",
       "      <td>0.800904</td>\n",
       "      <td>0.012471</td>\n",
       "      <td>10</td>\n",
       "    </tr>\n",
       "    <tr>\n",
       "      <th>1</th>\n",
       "      <td>0.108708</td>\n",
       "      <td>0.011828</td>\n",
       "      <td>0.024934</td>\n",
       "      <td>0.002153</td>\n",
       "      <td>0</td>\n",
       "      <td>False</td>\n",
       "      <td>{'alpha': 0, 'norm': False}</td>\n",
       "      <td>0.928691</td>\n",
       "      <td>0.930947</td>\n",
       "      <td>0.926784</td>\n",
       "      <td>0.928808</td>\n",
       "      <td>0.001702</td>\n",
       "      <td>9</td>\n",
       "    </tr>\n",
       "    <tr>\n",
       "      <th>2</th>\n",
       "      <td>0.107381</td>\n",
       "      <td>0.010182</td>\n",
       "      <td>0.029587</td>\n",
       "      <td>0.006632</td>\n",
       "      <td>0.5</td>\n",
       "      <td>True</td>\n",
       "      <td>{'alpha': 0.5, 'norm': True}</td>\n",
       "      <td>0.980127</td>\n",
       "      <td>0.978808</td>\n",
       "      <td>0.980686</td>\n",
       "      <td>0.979873</td>\n",
       "      <td>0.000787</td>\n",
       "      <td>8</td>\n",
       "    </tr>\n",
       "    <tr>\n",
       "      <th>3</th>\n",
       "      <td>0.084441</td>\n",
       "      <td>0.016454</td>\n",
       "      <td>0.026263</td>\n",
       "      <td>0.001695</td>\n",
       "      <td>0.5</td>\n",
       "      <td>False</td>\n",
       "      <td>{'alpha': 0.5, 'norm': False}</td>\n",
       "      <td>0.979939</td>\n",
       "      <td>0.979184</td>\n",
       "      <td>0.980686</td>\n",
       "      <td>0.979936</td>\n",
       "      <td>0.000613</td>\n",
       "      <td>7</td>\n",
       "    </tr>\n",
       "    <tr>\n",
       "      <th>4</th>\n",
       "      <td>0.087101</td>\n",
       "      <td>0.012252</td>\n",
       "      <td>0.025930</td>\n",
       "      <td>0.000815</td>\n",
       "      <td>1</td>\n",
       "      <td>True</td>\n",
       "      <td>{'alpha': 1, 'norm': True}</td>\n",
       "      <td>0.981252</td>\n",
       "      <td>0.981810</td>\n",
       "      <td>0.982936</td>\n",
       "      <td>0.981999</td>\n",
       "      <td>0.000700</td>\n",
       "      <td>5</td>\n",
       "    </tr>\n",
       "    <tr>\n",
       "      <th>5</th>\n",
       "      <td>0.077867</td>\n",
       "      <td>0.014105</td>\n",
       "      <td>0.025323</td>\n",
       "      <td>0.000431</td>\n",
       "      <td>1</td>\n",
       "      <td>False</td>\n",
       "      <td>{'alpha': 1, 'norm': False}</td>\n",
       "      <td>0.981439</td>\n",
       "      <td>0.980497</td>\n",
       "      <td>0.981811</td>\n",
       "      <td>0.981249</td>\n",
       "      <td>0.000553</td>\n",
       "      <td>6</td>\n",
       "    </tr>\n",
       "    <tr>\n",
       "      <th>6</th>\n",
       "      <td>0.089918</td>\n",
       "      <td>0.013433</td>\n",
       "      <td>0.026681</td>\n",
       "      <td>0.001684</td>\n",
       "      <td>2</td>\n",
       "      <td>True</td>\n",
       "      <td>{'alpha': 2, 'norm': True}</td>\n",
       "      <td>0.983314</td>\n",
       "      <td>0.983310</td>\n",
       "      <td>0.984061</td>\n",
       "      <td>0.983562</td>\n",
       "      <td>0.000353</td>\n",
       "      <td>3</td>\n",
       "    </tr>\n",
       "    <tr>\n",
       "      <th>7</th>\n",
       "      <td>0.079303</td>\n",
       "      <td>0.013189</td>\n",
       "      <td>0.025336</td>\n",
       "      <td>0.000498</td>\n",
       "      <td>2</td>\n",
       "      <td>False</td>\n",
       "      <td>{'alpha': 2, 'norm': False}</td>\n",
       "      <td>0.982939</td>\n",
       "      <td>0.982560</td>\n",
       "      <td>0.983311</td>\n",
       "      <td>0.982937</td>\n",
       "      <td>0.000307</td>\n",
       "      <td>4</td>\n",
       "    </tr>\n",
       "    <tr>\n",
       "      <th>8</th>\n",
       "      <td>0.098666</td>\n",
       "      <td>0.004919</td>\n",
       "      <td>0.024669</td>\n",
       "      <td>0.000460</td>\n",
       "      <td>4</td>\n",
       "      <td>True</td>\n",
       "      <td>{'alpha': 4, 'norm': True}</td>\n",
       "      <td>0.984064</td>\n",
       "      <td>0.984811</td>\n",
       "      <td>0.985749</td>\n",
       "      <td>0.984874</td>\n",
       "      <td>0.000689</td>\n",
       "      <td>1</td>\n",
       "    </tr>\n",
       "    <tr>\n",
       "      <th>9</th>\n",
       "      <td>0.090268</td>\n",
       "      <td>0.006678</td>\n",
       "      <td>0.022824</td>\n",
       "      <td>0.005350</td>\n",
       "      <td>4</td>\n",
       "      <td>False</td>\n",
       "      <td>{'alpha': 4, 'norm': False}</td>\n",
       "      <td>0.984439</td>\n",
       "      <td>0.983497</td>\n",
       "      <td>0.985186</td>\n",
       "      <td>0.984374</td>\n",
       "      <td>0.000691</td>\n",
       "      <td>2</td>\n",
       "    </tr>\n",
       "  </tbody>\n",
       "</table>\n",
       "</div>"
      ],
      "text/plain": [
       "   mean_fit_time  std_fit_time  mean_score_time  std_score_time param_alpha  \\\n",
       "0       0.112033      0.000470         0.025598        0.000470           0   \n",
       "1       0.108708      0.011828         0.024934        0.002153           0   \n",
       "2       0.107381      0.010182         0.029587        0.006632         0.5   \n",
       "3       0.084441      0.016454         0.026263        0.001695         0.5   \n",
       "4       0.087101      0.012252         0.025930        0.000815           1   \n",
       "5       0.077867      0.014105         0.025323        0.000431           1   \n",
       "6       0.089918      0.013433         0.026681        0.001684           2   \n",
       "7       0.079303      0.013189         0.025336        0.000498           2   \n",
       "8       0.098666      0.004919         0.024669        0.000460           4   \n",
       "9       0.090268      0.006678         0.022824        0.005350           4   \n",
       "\n",
       "  param_norm                         params  split0_test_score  \\\n",
       "0       True     {'alpha': 0, 'norm': True}           0.812293   \n",
       "1      False    {'alpha': 0, 'norm': False}           0.928691   \n",
       "2       True   {'alpha': 0.5, 'norm': True}           0.980127   \n",
       "3      False  {'alpha': 0.5, 'norm': False}           0.979939   \n",
       "4       True     {'alpha': 1, 'norm': True}           0.981252   \n",
       "5      False    {'alpha': 1, 'norm': False}           0.981439   \n",
       "6       True     {'alpha': 2, 'norm': True}           0.983314   \n",
       "7      False    {'alpha': 2, 'norm': False}           0.982939   \n",
       "8       True     {'alpha': 4, 'norm': True}           0.984064   \n",
       "9      False    {'alpha': 4, 'norm': False}           0.984439   \n",
       "\n",
       "   split1_test_score  split2_test_score  mean_test_score  std_test_score  \\\n",
       "0           0.783548           0.806871         0.800904        0.012471   \n",
       "1           0.930947           0.926784         0.928808        0.001702   \n",
       "2           0.978808           0.980686         0.979873        0.000787   \n",
       "3           0.979184           0.980686         0.979936        0.000613   \n",
       "4           0.981810           0.982936         0.981999        0.000700   \n",
       "5           0.980497           0.981811         0.981249        0.000553   \n",
       "6           0.983310           0.984061         0.983562        0.000353   \n",
       "7           0.982560           0.983311         0.982937        0.000307   \n",
       "8           0.984811           0.985749         0.984874        0.000689   \n",
       "9           0.983497           0.985186         0.984374        0.000691   \n",
       "\n",
       "   rank_test_score  \n",
       "0               10  \n",
       "1                9  \n",
       "2                8  \n",
       "3                7  \n",
       "4                5  \n",
       "5                6  \n",
       "6                3  \n",
       "7                4  \n",
       "8                1  \n",
       "9                2  "
      ]
     },
     "execution_count": 28,
     "metadata": {},
     "output_type": "execute_result"
    }
   ],
   "source": [
    "from sklearn.naive_bayes import ComplementNB\n",
    "\n",
    "parameters = {'alpha': [0, 0.5, 1, 2, 4], 'norm': [True, False]}\n",
    "\n",
    "comp_clf = ComplementNB()\n",
    "\n",
    "comp_grid_count_clf = GridSearchCV(comp_clf, parameters, verbose=4, scoring='f1_macro', n_jobs=-1, cv=3)\n",
    "\n",
    "comp_grid_count_clf.fit(texts_count_train_matrix, y_train)\n",
    "\n",
    "pd.DataFrame(comp_grid_count_clf.cv_results_)"
   ]
  },
  {
   "cell_type": "code",
   "execution_count": 29,
   "metadata": {
    "colab": {
     "base_uri": "https://localhost:8080/"
    },
    "id": "zHDBWxIaa_iJ",
    "outputId": "50b01ba0-4cfa-43c1-8012-d6beab5e1a44"
   },
   "outputs": [
    {
     "name": "stdout",
     "output_type": "stream",
     "text": [
      "              precision    recall  f1-score   support\n",
      "\n",
      "           0     0.9899    0.9810    0.9854      2000\n",
      "           1     0.9812    0.9900    0.9856      2000\n",
      "\n",
      "    accuracy                         0.9855      4000\n",
      "   macro avg     0.9855    0.9855    0.9855      4000\n",
      "weighted avg     0.9855    0.9855    0.9855      4000\n",
      "\n"
     ]
    }
   ],
   "source": [
    "comp_clf = ComplementNB(alpha=4, norm=True)\n",
    "\n",
    "comp_clf.fit(texts_count_train_matrix, y_train)\n",
    "bayes_pred = comp_clf.predict(X=texts_count_test_matrix)\n",
    "\n",
    "best_comp_count = classification_report(y_test, bayes_pred, digits=4, output_dict=True)\n",
    "\n",
    "print(classification_report(y_test, bayes_pred, digits=4))"
   ]
  },
  {
   "cell_type": "markdown",
   "metadata": {
    "id": "qLBlohhrTCvz"
   },
   "source": [
    "## Complement Bayes with TfidfVectorizer"
   ]
  },
  {
   "cell_type": "code",
   "execution_count": 30,
   "metadata": {
    "colab": {
     "base_uri": "https://localhost:8080/",
     "height": 401
    },
    "id": "bG005uatS-6F",
    "outputId": "6594777a-4346-4bdd-e5bb-6778302ed2a5"
   },
   "outputs": [
    {
     "name": "stdout",
     "output_type": "stream",
     "text": [
      "Fitting 3 folds for each of 10 candidates, totalling 30 fits\n"
     ]
    },
    {
     "data": {
      "text/html": [
       "<div>\n",
       "<style scoped>\n",
       "    .dataframe tbody tr th:only-of-type {\n",
       "        vertical-align: middle;\n",
       "    }\n",
       "\n",
       "    .dataframe tbody tr th {\n",
       "        vertical-align: top;\n",
       "    }\n",
       "\n",
       "    .dataframe thead th {\n",
       "        text-align: right;\n",
       "    }\n",
       "</style>\n",
       "<table border=\"1\" class=\"dataframe\">\n",
       "  <thead>\n",
       "    <tr style=\"text-align: right;\">\n",
       "      <th></th>\n",
       "      <th>mean_fit_time</th>\n",
       "      <th>std_fit_time</th>\n",
       "      <th>mean_score_time</th>\n",
       "      <th>std_score_time</th>\n",
       "      <th>param_alpha</th>\n",
       "      <th>param_norm</th>\n",
       "      <th>params</th>\n",
       "      <th>split0_test_score</th>\n",
       "      <th>split1_test_score</th>\n",
       "      <th>split2_test_score</th>\n",
       "      <th>mean_test_score</th>\n",
       "      <th>std_test_score</th>\n",
       "      <th>rank_test_score</th>\n",
       "    </tr>\n",
       "  </thead>\n",
       "  <tbody>\n",
       "    <tr>\n",
       "      <th>0</th>\n",
       "      <td>0.102393</td>\n",
       "      <td>0.002352</td>\n",
       "      <td>0.024270</td>\n",
       "      <td>0.000470</td>\n",
       "      <td>0</td>\n",
       "      <td>True</td>\n",
       "      <td>{'alpha': 0, 'norm': True}</td>\n",
       "      <td>0.703004</td>\n",
       "      <td>0.674528</td>\n",
       "      <td>0.706436</td>\n",
       "      <td>0.694656</td>\n",
       "      <td>0.014301</td>\n",
       "      <td>10</td>\n",
       "    </tr>\n",
       "    <tr>\n",
       "      <th>1</th>\n",
       "      <td>0.103721</td>\n",
       "      <td>0.003549</td>\n",
       "      <td>0.024269</td>\n",
       "      <td>0.001244</td>\n",
       "      <td>0</td>\n",
       "      <td>False</td>\n",
       "      <td>{'alpha': 0, 'norm': False}</td>\n",
       "      <td>0.946349</td>\n",
       "      <td>0.949166</td>\n",
       "      <td>0.946147</td>\n",
       "      <td>0.947221</td>\n",
       "      <td>0.001378</td>\n",
       "      <td>9</td>\n",
       "    </tr>\n",
       "    <tr>\n",
       "      <th>2</th>\n",
       "      <td>0.101728</td>\n",
       "      <td>0.006361</td>\n",
       "      <td>0.023604</td>\n",
       "      <td>0.000470</td>\n",
       "      <td>0.5</td>\n",
       "      <td>True</td>\n",
       "      <td>{'alpha': 0.5, 'norm': True}</td>\n",
       "      <td>0.973736</td>\n",
       "      <td>0.969031</td>\n",
       "      <td>0.976737</td>\n",
       "      <td>0.973168</td>\n",
       "      <td>0.003172</td>\n",
       "      <td>5</td>\n",
       "    </tr>\n",
       "    <tr>\n",
       "      <th>3</th>\n",
       "      <td>0.080782</td>\n",
       "      <td>0.012157</td>\n",
       "      <td>0.023936</td>\n",
       "      <td>0.000814</td>\n",
       "      <td>0.5</td>\n",
       "      <td>False</td>\n",
       "      <td>{'alpha': 0.5, 'norm': False}</td>\n",
       "      <td>0.984249</td>\n",
       "      <td>0.980680</td>\n",
       "      <td>0.985184</td>\n",
       "      <td>0.983371</td>\n",
       "      <td>0.001941</td>\n",
       "      <td>1</td>\n",
       "    </tr>\n",
       "    <tr>\n",
       "      <th>4</th>\n",
       "      <td>0.088429</td>\n",
       "      <td>0.011781</td>\n",
       "      <td>0.023938</td>\n",
       "      <td>0.000814</td>\n",
       "      <td>1</td>\n",
       "      <td>True</td>\n",
       "      <td>{'alpha': 1, 'norm': True}</td>\n",
       "      <td>0.974487</td>\n",
       "      <td>0.970159</td>\n",
       "      <td>0.977112</td>\n",
       "      <td>0.973919</td>\n",
       "      <td>0.002867</td>\n",
       "      <td>4</td>\n",
       "    </tr>\n",
       "    <tr>\n",
       "      <th>5</th>\n",
       "      <td>0.084773</td>\n",
       "      <td>0.019765</td>\n",
       "      <td>0.023271</td>\n",
       "      <td>0.000469</td>\n",
       "      <td>1</td>\n",
       "      <td>False</td>\n",
       "      <td>{'alpha': 1, 'norm': False}</td>\n",
       "      <td>0.982935</td>\n",
       "      <td>0.978427</td>\n",
       "      <td>0.983683</td>\n",
       "      <td>0.981681</td>\n",
       "      <td>0.002322</td>\n",
       "      <td>2</td>\n",
       "    </tr>\n",
       "    <tr>\n",
       "      <th>6</th>\n",
       "      <td>0.091422</td>\n",
       "      <td>0.012987</td>\n",
       "      <td>0.024934</td>\n",
       "      <td>0.000815</td>\n",
       "      <td>2</td>\n",
       "      <td>True</td>\n",
       "      <td>{'alpha': 2, 'norm': True}</td>\n",
       "      <td>0.973172</td>\n",
       "      <td>0.967338</td>\n",
       "      <td>0.975234</td>\n",
       "      <td>0.971914</td>\n",
       "      <td>0.003344</td>\n",
       "      <td>7</td>\n",
       "    </tr>\n",
       "    <tr>\n",
       "      <th>7</th>\n",
       "      <td>0.079788</td>\n",
       "      <td>0.012160</td>\n",
       "      <td>0.025597</td>\n",
       "      <td>0.001244</td>\n",
       "      <td>2</td>\n",
       "      <td>False</td>\n",
       "      <td>{'alpha': 2, 'norm': False}</td>\n",
       "      <td>0.979557</td>\n",
       "      <td>0.975045</td>\n",
       "      <td>0.982369</td>\n",
       "      <td>0.978990</td>\n",
       "      <td>0.003017</td>\n",
       "      <td>3</td>\n",
       "    </tr>\n",
       "    <tr>\n",
       "      <th>8</th>\n",
       "      <td>0.100730</td>\n",
       "      <td>0.004953</td>\n",
       "      <td>0.024269</td>\n",
       "      <td>0.000471</td>\n",
       "      <td>4</td>\n",
       "      <td>True</td>\n",
       "      <td>{'alpha': 4, 'norm': True}</td>\n",
       "      <td>0.968285</td>\n",
       "      <td>0.964327</td>\n",
       "      <td>0.971663</td>\n",
       "      <td>0.968092</td>\n",
       "      <td>0.002998</td>\n",
       "      <td>8</td>\n",
       "    </tr>\n",
       "    <tr>\n",
       "      <th>9</th>\n",
       "      <td>0.096745</td>\n",
       "      <td>0.003254</td>\n",
       "      <td>0.020608</td>\n",
       "      <td>0.001884</td>\n",
       "      <td>4</td>\n",
       "      <td>False</td>\n",
       "      <td>{'alpha': 4, 'norm': False}</td>\n",
       "      <td>0.973547</td>\n",
       "      <td>0.968843</td>\n",
       "      <td>0.976736</td>\n",
       "      <td>0.973042</td>\n",
       "      <td>0.003242</td>\n",
       "      <td>6</td>\n",
       "    </tr>\n",
       "  </tbody>\n",
       "</table>\n",
       "</div>"
      ],
      "text/plain": [
       "   mean_fit_time  std_fit_time  mean_score_time  std_score_time param_alpha  \\\n",
       "0       0.102393      0.002352         0.024270        0.000470           0   \n",
       "1       0.103721      0.003549         0.024269        0.001244           0   \n",
       "2       0.101728      0.006361         0.023604        0.000470         0.5   \n",
       "3       0.080782      0.012157         0.023936        0.000814         0.5   \n",
       "4       0.088429      0.011781         0.023938        0.000814           1   \n",
       "5       0.084773      0.019765         0.023271        0.000469           1   \n",
       "6       0.091422      0.012987         0.024934        0.000815           2   \n",
       "7       0.079788      0.012160         0.025597        0.001244           2   \n",
       "8       0.100730      0.004953         0.024269        0.000471           4   \n",
       "9       0.096745      0.003254         0.020608        0.001884           4   \n",
       "\n",
       "  param_norm                         params  split0_test_score  \\\n",
       "0       True     {'alpha': 0, 'norm': True}           0.703004   \n",
       "1      False    {'alpha': 0, 'norm': False}           0.946349   \n",
       "2       True   {'alpha': 0.5, 'norm': True}           0.973736   \n",
       "3      False  {'alpha': 0.5, 'norm': False}           0.984249   \n",
       "4       True     {'alpha': 1, 'norm': True}           0.974487   \n",
       "5      False    {'alpha': 1, 'norm': False}           0.982935   \n",
       "6       True     {'alpha': 2, 'norm': True}           0.973172   \n",
       "7      False    {'alpha': 2, 'norm': False}           0.979557   \n",
       "8       True     {'alpha': 4, 'norm': True}           0.968285   \n",
       "9      False    {'alpha': 4, 'norm': False}           0.973547   \n",
       "\n",
       "   split1_test_score  split2_test_score  mean_test_score  std_test_score  \\\n",
       "0           0.674528           0.706436         0.694656        0.014301   \n",
       "1           0.949166           0.946147         0.947221        0.001378   \n",
       "2           0.969031           0.976737         0.973168        0.003172   \n",
       "3           0.980680           0.985184         0.983371        0.001941   \n",
       "4           0.970159           0.977112         0.973919        0.002867   \n",
       "5           0.978427           0.983683         0.981681        0.002322   \n",
       "6           0.967338           0.975234         0.971914        0.003344   \n",
       "7           0.975045           0.982369         0.978990        0.003017   \n",
       "8           0.964327           0.971663         0.968092        0.002998   \n",
       "9           0.968843           0.976736         0.973042        0.003242   \n",
       "\n",
       "   rank_test_score  \n",
       "0               10  \n",
       "1                9  \n",
       "2                5  \n",
       "3                1  \n",
       "4                4  \n",
       "5                2  \n",
       "6                7  \n",
       "7                3  \n",
       "8                8  \n",
       "9                6  "
      ]
     },
     "execution_count": 30,
     "metadata": {},
     "output_type": "execute_result"
    }
   ],
   "source": [
    "parameters = {'alpha': [0, 0.5, 1, 2, 4], 'norm': [True, False]}\n",
    "\n",
    "comp_clf = ComplementNB()\n",
    "\n",
    "comp_grid_tfidf_clf = GridSearchCV(comp_clf, parameters, verbose=4, scoring='f1_macro', n_jobs=-1, cv=3)\n",
    "\n",
    "comp_grid_tfidf_clf.fit(texts_tfidf_train_matrix, y_train)\n",
    "\n",
    "pd.DataFrame(comp_grid_tfidf_clf.cv_results_)\n"
   ]
  },
  {
   "cell_type": "code",
   "execution_count": 31,
   "metadata": {
    "colab": {
     "base_uri": "https://localhost:8080/"
    },
    "id": "054W4eeXXioi",
    "outputId": "864300fa-6c2f-4424-f285-2055b21df97c"
   },
   "outputs": [
    {
     "name": "stdout",
     "output_type": "stream",
     "text": [
      "              precision    recall  f1-score   support\n",
      "\n",
      "           0     0.9974    0.9735    0.9853      2000\n",
      "           1     0.9741    0.9975    0.9857      2000\n",
      "\n",
      "    accuracy                         0.9855      4000\n",
      "   macro avg     0.9858    0.9855    0.9855      4000\n",
      "weighted avg     0.9858    0.9855    0.9855      4000\n",
      "\n"
     ]
    }
   ],
   "source": [
    "comp_clf_tfidf = ComplementNB(alpha=0.5, norm=False)\n",
    "\n",
    "comp_clf_tfidf.fit(texts_tfidf_train_matrix, y_train)\n",
    "bayes_pred_tfidf = comp_clf_tfidf.predict(X=texts_tfidf_test_matrix)\n",
    "\n",
    "best_comp_tfidf = classification_report(y_test, bayes_pred_tfidf, digits=4, output_dict=True)\n",
    "\n",
    "print(classification_report(y_test, bayes_pred_tfidf, digits=4))"
   ]
  },
  {
   "cell_type": "markdown",
   "metadata": {
    "id": "ujufO7Wvgqcd"
   },
   "source": [
    "## Итоговое способов"
   ]
  },
  {
   "cell_type": "code",
   "execution_count": 32,
   "metadata": {
    "colab": {
     "base_uri": "https://localhost:8080/",
     "height": 167
    },
    "id": "RM0OlihadSiz",
    "outputId": "1b98369e-2f05-467a-bc09-08622fac1eed",
    "scrolled": true
   },
   "outputs": [
    {
     "data": {
      "text/html": [
       "<div>\n",
       "<style scoped>\n",
       "    .dataframe tbody tr th:only-of-type {\n",
       "        vertical-align: middle;\n",
       "    }\n",
       "\n",
       "    .dataframe tbody tr th {\n",
       "        vertical-align: top;\n",
       "    }\n",
       "\n",
       "    .dataframe thead th {\n",
       "        text-align: right;\n",
       "    }\n",
       "</style>\n",
       "<table border=\"1\" class=\"dataframe\">\n",
       "  <thead>\n",
       "    <tr style=\"text-align: right;\">\n",
       "      <th></th>\n",
       "      <th>labels</th>\n",
       "      <th>f1-score macro avg</th>\n",
       "      <th>precision macro</th>\n",
       "      <th>recall_macro</th>\n",
       "    </tr>\n",
       "  </thead>\n",
       "  <tbody>\n",
       "    <tr>\n",
       "      <th>0</th>\n",
       "      <td>KNeighborsClassifier TfidfVectorizer</td>\n",
       "      <td>0.999750</td>\n",
       "      <td>0.999750</td>\n",
       "      <td>0.99975</td>\n",
       "    </tr>\n",
       "    <tr>\n",
       "      <th>1</th>\n",
       "      <td>ComplementNB CountVectorizer</td>\n",
       "      <td>0.985500</td>\n",
       "      <td>0.985539</td>\n",
       "      <td>0.98550</td>\n",
       "    </tr>\n",
       "    <tr>\n",
       "      <th>2</th>\n",
       "      <td>ComplementNB TfidfVectorizer</td>\n",
       "      <td>0.985498</td>\n",
       "      <td>0.985780</td>\n",
       "      <td>0.98550</td>\n",
       "    </tr>\n",
       "    <tr>\n",
       "      <th>3</th>\n",
       "      <td>KNeighborsClassifier CountVectorizer</td>\n",
       "      <td>0.981245</td>\n",
       "      <td>0.981791</td>\n",
       "      <td>0.98125</td>\n",
       "    </tr>\n",
       "  </tbody>\n",
       "</table>\n",
       "</div>"
      ],
      "text/plain": [
       "                                 labels  f1-score macro avg  precision macro  \\\n",
       "0  KNeighborsClassifier TfidfVectorizer            0.999750         0.999750   \n",
       "1          ComplementNB CountVectorizer            0.985500         0.985539   \n",
       "2          ComplementNB TfidfVectorizer            0.985498         0.985780   \n",
       "3  KNeighborsClassifier CountVectorizer            0.981245         0.981791   \n",
       "\n",
       "   recall_macro  \n",
       "0       0.99975  \n",
       "1       0.98550  \n",
       "2       0.98550  \n",
       "3       0.98125  "
      ]
     },
     "execution_count": 32,
     "metadata": {},
     "output_type": "execute_result"
    }
   ],
   "source": [
    "best_comp_count['macro avg']\n",
    "\n",
    "models = ['ComplementNB CountVectorizer', 'ComplementNB TfidfVectorizer', 'KNeighborsClassifier CountVectorizer', 'KNeighborsClassifier TfidfVectorizer']\n",
    "f1 = []\n",
    "precision = []\n",
    "recall = []\n",
    "\n",
    "best_comp_count['macro avg']['f1-score']\n",
    "\n",
    "for enum, i in enumerate([best_comp_count, best_comp_tfidf, best_knn_count, best_knn_tfidf]):\n",
    "  # print(enum)\n",
    "  f1.append(i['macro avg']['f1-score'])\n",
    "  precision.append(i['macro avg']['precision'])\n",
    "  recall.append(i['macro avg']['recall'])\n",
    "\n",
    "pd.DataFrame({'labels':models, 'f1-score macro avg': f1, 'precision macro': precision, 'recall_macro': recall}).sort_values(by='f1-score macro avg', ascending=False).reset_index(drop=True)"
   ]
  },
  {
   "cell_type": "code",
   "execution_count": null,
   "metadata": {},
   "outputs": [],
   "source": []
  }
 ],
 "metadata": {
  "colab": {
   "collapsed_sections": [],
   "name": "MMO_RK2.ipynb",
   "provenance": [],
   "toc_visible": true
  },
  "kernelspec": {
   "display_name": "Python 3",
   "language": "python",
   "name": "python3"
  },
  "language_info": {
   "codemirror_mode": {
    "name": "ipython",
    "version": 3
   },
   "file_extension": ".py",
   "mimetype": "text/x-python",
   "name": "python",
   "nbconvert_exporter": "python",
   "pygments_lexer": "ipython3",
   "version": "3.6.5"
  }
 },
 "nbformat": 4,
 "nbformat_minor": 1
}
