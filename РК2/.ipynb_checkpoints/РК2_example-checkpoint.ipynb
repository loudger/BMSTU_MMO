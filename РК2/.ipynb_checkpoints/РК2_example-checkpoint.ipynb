{
 "cells": [
  {
   "cell_type": "markdown",
   "metadata": {
    "id": "YXPOqqsLUTAW"
   },
   "source": [
    "# Рубежный контроль №2 по курсу \"Методы машинного обучения\"\n",
    "## Студентка ИУ5-21М Курганова Александра\n",
    "### Методы обработки текстов. Решение задачи классификации текстов.\n",
    "#### Вариант №1: CountVectorizer, TfidfVectorizer, LogisticRegression, Multinomial Naive Bayes (MNB)"
   ]
  },
  {
   "cell_type": "code",
   "execution_count": 9,
   "metadata": {
    "executionInfo": {
     "elapsed": 929,
     "status": "ok",
     "timestamp": 1621154872033,
     "user": {
      "displayName": "Sasha Kurganova",
      "photoUrl": "https://lh3.googleusercontent.com/a-/AOh14GiSJJ9sBMDvTOa9RqZDxXruhgQHi8i9eqj-0dxOcw=s64",
      "userId": "06976869838572069954"
     },
     "user_tz": -180
    },
    "id": "kCEgqyGxTQce"
   },
   "outputs": [],
   "source": [
    "import numpy as np\n",
    "import pandas as pd\n",
    "from typing import Dict, Tuple\n",
    "from sklearn.feature_extraction.text import CountVectorizer, TfidfVectorizer\n",
    "from sklearn.model_selection import GridSearchCV, RandomizedSearchCV\n",
    "from sklearn.metrics import accuracy_score, balanced_accuracy_score\n",
    "from sklearn.metrics import precision_score, recall_score, f1_score, classification_report\n",
    "from sklearn.metrics import confusion_matrix\n",
    "from sklearn.model_selection import cross_val_score\n",
    "from sklearn.pipeline import Pipeline\n",
    "from sklearn.metrics import mean_absolute_error, mean_squared_error, mean_squared_log_error, median_absolute_error, r2_score \n",
    "from sklearn.metrics import roc_curve, roc_auc_score\n",
    "from sklearn.naive_bayes import MultinomialNB\n",
    "from sklearn.linear_model import LogisticRegression\n",
    "import seaborn as sns\n",
    "from collections import Counter\n",
    "from sklearn.datasets import fetch_20newsgroups\n",
    "import matplotlib.pyplot as plt\n",
    "\n",
    "%matplotlib inline \n",
    "sns.set(style=\"ticks\")"
   ]
  },
  {
   "cell_type": "code",
   "execution_count": 10,
   "metadata": {
    "executionInfo": {
     "elapsed": 1113,
     "status": "ok",
     "timestamp": 1621154872387,
     "user": {
      "displayName": "Sasha Kurganova",
      "photoUrl": "https://lh3.googleusercontent.com/a-/AOh14GiSJJ9sBMDvTOa9RqZDxXruhgQHi8i9eqj-0dxOcw=s64",
      "userId": "06976869838572069954"
     },
     "user_tz": -180
    },
    "id": "pgEZO_ZmVyVw"
   },
   "outputs": [],
   "source": [
    "categories = [\"talk.politics.guns\", \"alt.atheism\", \"sci.med\", \"rec.autos\"]\n",
    "newsgroups = fetch_20newsgroups(subset='train', categories=categories)\n",
    "data = newsgroups['data']"
   ]
  },
  {
   "cell_type": "code",
   "execution_count": 11,
   "metadata": {
    "executionInfo": {
     "elapsed": 913,
     "status": "ok",
     "timestamp": 1621154872388,
     "user": {
      "displayName": "Sasha Kurganova",
      "photoUrl": "https://lh3.googleusercontent.com/a-/AOh14GiSJJ9sBMDvTOa9RqZDxXruhgQHi8i9eqj-0dxOcw=s64",
      "userId": "06976869838572069954"
     },
     "user_tz": -180
    },
    "id": "iKNmKJ7fV91k"
   },
   "outputs": [],
   "source": [
    "def accuracy_score_for_classes(\n",
    "    y_true: np.ndarray, \n",
    "    y_pred: np.ndarray) -> Dict[int, float]:\n",
    "    \"\"\"\n",
    "    Вычисление метрики accuracy для каждого класса\n",
    "    y_true - истинные значения классов\n",
    "    y_pred - предсказанные значения классов\n",
    "    Возвращает словарь: ключ - метка класса, \n",
    "    значение - Accuracy для данного класса\n",
    "    \"\"\"\n",
    "    # Для удобства фильтрации сформируем Pandas DataFrame \n",
    "    d = {'t': y_true, 'p': y_pred}\n",
    "    df = pd.DataFrame(data=d)\n",
    "    # Метки классов\n",
    "    classes = np.unique(y_true)\n",
    "    # Результирующий словарь\n",
    "    res = dict()\n",
    "    # Перебор меток классов\n",
    "    for c in classes:\n",
    "        # отфильтруем данные, которые соответствуют \n",
    "        # текущей метке класса в истинных значениях\n",
    "        temp_data_flt = df[df['t']==c]\n",
    "        # расчет accuracy для заданной метки класса\n",
    "        temp_acc = accuracy_score(\n",
    "            temp_data_flt['t'].values, \n",
    "            temp_data_flt['p'].values)\n",
    "        # сохранение результата в словарь\n",
    "        res[c] = temp_acc\n",
    "    return res\n",
    "\n",
    "def print_accuracy_score_for_classes(\n",
    "    y_true: np.ndarray, \n",
    "    y_pred: np.ndarray):\n",
    "    \"\"\"\n",
    "    Вывод метрики accuracy для каждого класса\n",
    "    \"\"\"\n",
    "    accs = accuracy_score_for_classes(y_true, y_pred)\n",
    "    if len(accs)>0:\n",
    "        print('Метка \\t Accuracy')\n",
    "    for i in accs:\n",
    "        print('{} \\t {}'.format(i, accs[i]))"
   ]
  },
  {
   "cell_type": "markdown",
   "metadata": {
    "id": "nS5-C3H9WIqM"
   },
   "source": [
    "### CountVectorizer"
   ]
  },
  {
   "cell_type": "code",
   "execution_count": 12,
   "metadata": {
    "colab": {
     "base_uri": "https://localhost:8080/"
    },
    "executionInfo": {
     "elapsed": 1437,
     "status": "ok",
     "timestamp": 1621154873311,
     "user": {
      "displayName": "Sasha Kurganova",
      "photoUrl": "https://lh3.googleusercontent.com/a-/AOh14GiSJJ9sBMDvTOa9RqZDxXruhgQHi8i9eqj-0dxOcw=s64",
      "userId": "06976869838572069954"
     },
     "user_tz": -180
    },
    "id": "7hoXufAFWDQE",
    "outputId": "8f8f755f-3a25-46ef-ea10-1241c807f76f"
   },
   "outputs": [
    {
     "name": "stdout",
     "output_type": "stream",
     "text": [
      "Количество сформированных признаков - 37176\n"
     ]
    }
   ],
   "source": [
    "vocabVect = CountVectorizer()\n",
    "vocabVect.fit(data)\n",
    "corpusVocab = vocabVect.vocabulary_\n",
    "print('Количество сформированных признаков - {}'.format(len(corpusVocab)))"
   ]
  },
  {
   "cell_type": "code",
   "execution_count": 13,
   "metadata": {
    "colab": {
     "base_uri": "https://localhost:8080/"
    },
    "executionInfo": {
     "elapsed": 1233,
     "status": "ok",
     "timestamp": 1621154873312,
     "user": {
      "displayName": "Sasha Kurganova",
      "photoUrl": "https://lh3.googleusercontent.com/a-/AOh14GiSJJ9sBMDvTOa9RqZDxXruhgQHi8i9eqj-0dxOcw=s64",
      "userId": "06976869838572069954"
     },
     "user_tz": -180
    },
    "id": "CwkpOfnaWHST",
    "outputId": "ce946b6d-660f-4a3f-df80-091a47c54ba9"
   },
   "outputs": [
    {
     "name": "stdout",
     "output_type": "stream",
     "text": [
      "thom=33375\n",
      "morgan=23251\n",
      "ucs=34360\n",
      "mun=23527\n",
      "ca=8754\n",
      "thomas=33376\n",
      "clancy=9784\n",
      "subject=32210\n",
      "re=28101\n"
     ]
    }
   ],
   "source": [
    "for i in list(corpusVocab)[1:10]:\n",
    "    print('{}={}'.format(i, corpusVocab[i]))"
   ]
  },
  {
   "cell_type": "code",
   "execution_count": 14,
   "metadata": {
    "colab": {
     "base_uri": "https://localhost:8080/"
    },
    "executionInfo": {
     "elapsed": 1381,
     "status": "ok",
     "timestamp": 1621154873690,
     "user": {
      "displayName": "Sasha Kurganova",
      "photoUrl": "https://lh3.googleusercontent.com/a-/AOh14GiSJJ9sBMDvTOa9RqZDxXruhgQHi8i9eqj-0dxOcw=s64",
      "userId": "06976869838572069954"
     },
     "user_tz": -180
    },
    "id": "G-D1vgsvWPLQ",
    "outputId": "ec4af053-f541-417d-ef58-88086b499bdb"
   },
   "outputs": [
    {
     "data": {
      "text/plain": [
       "<2214x37176 sparse matrix of type '<class 'numpy.int64'>'\n",
       "\twith 375168 stored elements in Compressed Sparse Row format>"
      ]
     },
     "execution_count": 14,
     "metadata": {
      "tags": []
     },
     "output_type": "execute_result"
    }
   ],
   "source": [
    "test_features = vocabVect.transform(data)\n",
    "test_features"
   ]
  },
  {
   "cell_type": "code",
   "execution_count": 15,
   "metadata": {
    "colab": {
     "base_uri": "https://localhost:8080/"
    },
    "executionInfo": {
     "elapsed": 1541,
     "status": "ok",
     "timestamp": 1621154874039,
     "user": {
      "displayName": "Sasha Kurganova",
      "photoUrl": "https://lh3.googleusercontent.com/a-/AOh14GiSJJ9sBMDvTOa9RqZDxXruhgQHi8i9eqj-0dxOcw=s64",
      "userId": "06976869838572069954"
     },
     "user_tz": -180
    },
    "id": "lvjvwbCKWZrn",
    "outputId": "0ee8f93e-4f0b-4774-f9be-42c511be96de"
   },
   "outputs": [
    {
     "data": {
      "text/plain": [
       "37176"
      ]
     },
     "execution_count": 15,
     "metadata": {
      "tags": []
     },
     "output_type": "execute_result"
    }
   ],
   "source": [
    "# Размер нулевой строки\n",
    "len(test_features.todense()[0].getA1())"
   ]
  },
  {
   "cell_type": "code",
   "execution_count": 16,
   "metadata": {
    "colab": {
     "base_uri": "https://localhost:8080/"
    },
    "executionInfo": {
     "elapsed": 1329,
     "status": "ok",
     "timestamp": 1621154874039,
     "user": {
      "displayName": "Sasha Kurganova",
      "photoUrl": "https://lh3.googleusercontent.com/a-/AOh14GiSJJ9sBMDvTOa9RqZDxXruhgQHi8i9eqj-0dxOcw=s64",
      "userId": "06976869838572069954"
     },
     "user_tz": -180
    },
    "id": "V_qJrgs_WTfj",
    "outputId": "3f065fd7-67e2-43d2-ae5d-40ab4ea976ee"
   },
   "outputs": [
    {
     "data": {
      "text/plain": [
       "['025818u28037',\n",
       " '025924',\n",
       " '0278',\n",
       " '02908',\n",
       " '03',\n",
       " '030031',\n",
       " '030105',\n",
       " '030334',\n",
       " '0306',\n",
       " '030706',\n",
       " '030734',\n",
       " '031423',\n",
       " '0318',\n",
       " '0320',\n",
       " '032251',\n",
       " '032620',\n",
       " '032905',\n",
       " '033',\n",
       " '033446',\n",
       " '034']"
      ]
     },
     "execution_count": 16,
     "metadata": {
      "tags": []
     },
     "output_type": "execute_result"
    }
   ],
   "source": [
    "vocabVect.get_feature_names()[100:120]"
   ]
  },
  {
   "cell_type": "code",
   "execution_count": 17,
   "metadata": {
    "executionInfo": {
     "elapsed": 1140,
     "status": "ok",
     "timestamp": 1621154874040,
     "user": {
      "displayName": "Sasha Kurganova",
      "photoUrl": "https://lh3.googleusercontent.com/a-/AOh14GiSJJ9sBMDvTOa9RqZDxXruhgQHi8i9eqj-0dxOcw=s64",
      "userId": "06976869838572069954"
     },
     "user_tz": -180
    },
    "id": "XwOjR1ZLWXPO"
   },
   "outputs": [],
   "source": [
    "def VectorizeAndClassify(vectorizers_list, classifiers_list):\n",
    "    for v in vectorizers_list:\n",
    "        for c in classifiers_list:\n",
    "            pipeline1 = Pipeline([(\"vectorizer\", v), (\"classifier\", c)])\n",
    "            score = cross_val_score(pipeline1, newsgroups['data'], newsgroups['target'], scoring='accuracy', cv=3).mean()\n",
    "            print('Векторизация - {}'.format(v))\n",
    "            print('Модель для классификации - {}'.format(c))\n",
    "            print('Accuracy = {}'.format(score))\n",
    "            print('===========================')"
   ]
  },
  {
   "cell_type": "code",
   "execution_count": 18,
   "metadata": {
    "colab": {
     "base_uri": "https://localhost:8080/"
    },
    "executionInfo": {
     "elapsed": 45436,
     "status": "ok",
     "timestamp": 1621154918581,
     "user": {
      "displayName": "Sasha Kurganova",
      "photoUrl": "https://lh3.googleusercontent.com/a-/AOh14GiSJJ9sBMDvTOa9RqZDxXruhgQHi8i9eqj-0dxOcw=s64",
      "userId": "06976869838572069954"
     },
     "user_tz": -180
    },
    "id": "LzfFpMGIWo7U",
    "outputId": "03db2369-915b-4df1-a217-d8806229ee94"
   },
   "outputs": [
    {
     "name": "stderr",
     "output_type": "stream",
     "text": [
      "/usr/local/lib/python3.7/dist-packages/sklearn/linear_model/_logistic.py:940: ConvergenceWarning: lbfgs failed to converge (status=1):\n",
      "STOP: TOTAL NO. of ITERATIONS REACHED LIMIT.\n",
      "\n",
      "Increase the number of iterations (max_iter) or scale the data as shown in:\n",
      "    https://scikit-learn.org/stable/modules/preprocessing.html\n",
      "Please also refer to the documentation for alternative solver options:\n",
      "    https://scikit-learn.org/stable/modules/linear_model.html#logistic-regression\n",
      "  extra_warning_msg=_LOGISTIC_SOLVER_CONVERGENCE_MSG)\n",
      "/usr/local/lib/python3.7/dist-packages/sklearn/linear_model/_logistic.py:940: ConvergenceWarning: lbfgs failed to converge (status=1):\n",
      "STOP: TOTAL NO. of ITERATIONS REACHED LIMIT.\n",
      "\n",
      "Increase the number of iterations (max_iter) or scale the data as shown in:\n",
      "    https://scikit-learn.org/stable/modules/preprocessing.html\n",
      "Please also refer to the documentation for alternative solver options:\n",
      "    https://scikit-learn.org/stable/modules/linear_model.html#logistic-regression\n",
      "  extra_warning_msg=_LOGISTIC_SOLVER_CONVERGENCE_MSG)\n",
      "/usr/local/lib/python3.7/dist-packages/sklearn/linear_model/_logistic.py:940: ConvergenceWarning: lbfgs failed to converge (status=1):\n",
      "STOP: TOTAL NO. of ITERATIONS REACHED LIMIT.\n",
      "\n",
      "Increase the number of iterations (max_iter) or scale the data as shown in:\n",
      "    https://scikit-learn.org/stable/modules/preprocessing.html\n",
      "Please also refer to the documentation for alternative solver options:\n",
      "    https://scikit-learn.org/stable/modules/linear_model.html#logistic-regression\n",
      "  extra_warning_msg=_LOGISTIC_SOLVER_CONVERGENCE_MSG)\n"
     ]
    },
    {
     "name": "stdout",
     "output_type": "stream",
     "text": [
      "Векторизация - CountVectorizer(analyzer='word', binary=False, decode_error='strict',\n",
      "                dtype=<class 'numpy.int64'>, encoding='utf-8', input='content',\n",
      "                lowercase=True, max_df=1.0, max_features=None, min_df=1,\n",
      "                ngram_range=(1, 1), preprocessor=None, stop_words=None,\n",
      "                strip_accents=None, token_pattern='(?u)\\\\b\\\\w\\\\w+\\\\b',\n",
      "                tokenizer=None,\n",
      "                vocabulary={'00': 0, '000': 1, '0000': 2, '0000001200': 3,\n",
      "                            '00014': 4, '000152': 5, '000406': 6,\n",
      "                            '0005111312': 7, '0005111312na3em': 8, '000601': 9,\n",
      "                            '000710': 10, '000mi': 11, '000miles': 12,\n",
      "                            '000s': 13, '001': 14, '0010': 15, '001004': 16,\n",
      "                            '001125': 17, '001319': 18, '001642': 19, '002': 20,\n",
      "                            '002142': 21, '002651': 22, '003': 23,\n",
      "                            '003258u19250': 24, '0033': 25, '003522': 26,\n",
      "                            '004': 27, '004021809': 28, '004158': 29, ...})\n",
      "Модель для классификации - LogisticRegression(C=1.0, class_weight=None, dual=False, fit_intercept=True,\n",
      "                   intercept_scaling=1, l1_ratio=None, max_iter=100,\n",
      "                   multi_class='auto', n_jobs=None, penalty='l2',\n",
      "                   random_state=None, solver='lbfgs', tol=0.0001, verbose=0,\n",
      "                   warm_start=False)\n",
      "Accuracy = 0.951219512195122\n",
      "===========================\n",
      "Векторизация - CountVectorizer(analyzer='word', binary=False, decode_error='strict',\n",
      "                dtype=<class 'numpy.int64'>, encoding='utf-8', input='content',\n",
      "                lowercase=True, max_df=1.0, max_features=None, min_df=1,\n",
      "                ngram_range=(1, 1), preprocessor=None, stop_words=None,\n",
      "                strip_accents=None, token_pattern='(?u)\\\\b\\\\w\\\\w+\\\\b',\n",
      "                tokenizer=None,\n",
      "                vocabulary={'00': 0, '000': 1, '0000': 2, '0000001200': 3,\n",
      "                            '00014': 4, '000152': 5, '000406': 6,\n",
      "                            '0005111312': 7, '0005111312na3em': 8, '000601': 9,\n",
      "                            '000710': 10, '000mi': 11, '000miles': 12,\n",
      "                            '000s': 13, '001': 14, '0010': 15, '001004': 16,\n",
      "                            '001125': 17, '001319': 18, '001642': 19, '002': 20,\n",
      "                            '002142': 21, '002651': 22, '003': 23,\n",
      "                            '003258u19250': 24, '0033': 25, '003522': 26,\n",
      "                            '004': 27, '004021809': 28, '004158': 29, ...})\n",
      "Модель для классификации - MultinomialNB(alpha=1.0, class_prior=None, fit_prior=True)\n",
      "Accuracy = 0.9864498644986449\n",
      "===========================\n",
      "Векторизация - TfidfVectorizer(analyzer='word', binary=False, decode_error='strict',\n",
      "                dtype=<class 'numpy.float64'>, encoding='utf-8',\n",
      "                input='content', lowercase=True, max_df=1.0, max_features=None,\n",
      "                min_df=1, ngram_range=(1, 1), norm='l2', preprocessor=None,\n",
      "                smooth_idf=True, stop_words=None, strip_accents=None,\n",
      "                sublinear_tf=False, token_pattern='(?u)\\\\b\\\\w\\\\w+\\\\b',\n",
      "                tokenizer=None, use...\n",
      "                vocabulary={'00': 0, '000': 1, '0000': 2, '0000001200': 3,\n",
      "                            '00014': 4, '000152': 5, '000406': 6,\n",
      "                            '0005111312': 7, '0005111312na3em': 8, '000601': 9,\n",
      "                            '000710': 10, '000mi': 11, '000miles': 12,\n",
      "                            '000s': 13, '001': 14, '0010': 15, '001004': 16,\n",
      "                            '001125': 17, '001319': 18, '001642': 19, '002': 20,\n",
      "                            '002142': 21, '002651': 22, '003': 23,\n",
      "                            '003258u19250': 24, '0033': 25, '003522': 26,\n",
      "                            '004': 27, '004021809': 28, '004158': 29, ...})\n",
      "Модель для классификации - LogisticRegression(C=1.0, class_weight=None, dual=False, fit_intercept=True,\n",
      "                   intercept_scaling=1, l1_ratio=None, max_iter=100,\n",
      "                   multi_class='auto', n_jobs=None, penalty='l2',\n",
      "                   random_state=None, solver='lbfgs', tol=0.0001, verbose=0,\n",
      "                   warm_start=False)\n",
      "Accuracy = 0.971093044263776\n",
      "===========================\n",
      "Векторизация - TfidfVectorizer(analyzer='word', binary=False, decode_error='strict',\n",
      "                dtype=<class 'numpy.float64'>, encoding='utf-8',\n",
      "                input='content', lowercase=True, max_df=1.0, max_features=None,\n",
      "                min_df=1, ngram_range=(1, 1), norm='l2', preprocessor=None,\n",
      "                smooth_idf=True, stop_words=None, strip_accents=None,\n",
      "                sublinear_tf=False, token_pattern='(?u)\\\\b\\\\w\\\\w+\\\\b',\n",
      "                tokenizer=None, use...\n",
      "                vocabulary={'00': 0, '000': 1, '0000': 2, '0000001200': 3,\n",
      "                            '00014': 4, '000152': 5, '000406': 6,\n",
      "                            '0005111312': 7, '0005111312na3em': 8, '000601': 9,\n",
      "                            '000710': 10, '000mi': 11, '000miles': 12,\n",
      "                            '000s': 13, '001': 14, '0010': 15, '001004': 16,\n",
      "                            '001125': 17, '001319': 18, '001642': 19, '002': 20,\n",
      "                            '002142': 21, '002651': 22, '003': 23,\n",
      "                            '003258u19250': 24, '0033': 25, '003522': 26,\n",
      "                            '004': 27, '004021809': 28, '004158': 29, ...})\n",
      "Модель для классификации - MultinomialNB(alpha=1.0, class_prior=None, fit_prior=True)\n",
      "Accuracy = 0.9774164408310749\n",
      "===========================\n"
     ]
    }
   ],
   "source": [
    "vectorizers_list = [CountVectorizer(vocabulary = corpusVocab), TfidfVectorizer(vocabulary = corpusVocab)]\n",
    "classifiers_list = [LogisticRegression(), MultinomialNB()]\n",
    "VectorizeAndClassify(vectorizers_list, classifiers_list)"
   ]
  },
  {
   "cell_type": "markdown",
   "metadata": {
    "id": "5Dw96Ap1XcSE"
   },
   "source": [
    "###### Лучшую точность показал CountVectorizer и MultinomialNB (98,6%)"
   ]
  }
 ],
 "metadata": {
  "colab": {
   "authorship_tag": "ABX9TyMs/P8pBO7znjmB+K+TTHpu",
   "name": "rk2.ipynb",
   "provenance": []
  },
  "kernelspec": {
   "display_name": "Python 3",
   "language": "python",
   "name": "python3"
  },
  "language_info": {
   "codemirror_mode": {
    "name": "ipython",
    "version": 3
   },
   "file_extension": ".py",
   "mimetype": "text/x-python",
   "name": "python",
   "nbconvert_exporter": "python",
   "pygments_lexer": "ipython3",
   "version": "3.6.5"
  }
 },
 "nbformat": 4,
 "nbformat_minor": 1
}
