{
 "cells": [
  {
   "cell_type": "markdown",
   "metadata": {
    "id": "f-1id2vR-izk"
   },
   "source": [
    "# Рубежный контроль №2\n",
    "\n",
    "## Васильев А.Р. ИУ5-24М, 2021г.\n",
    "## Тема: Методы обработки текстов\n",
    "## Решение задачи классификации текстов.\n",
    "\n",
    "- Необходимо сформировать два варианта векторизации признаков - на основе CountVectorizer и на\n",
    "основе TfidfVectorizer.\n",
    "\n",
    "- В качестве классификаторов необходимо использовать два классификатора по варианту для Вашей\n",
    "группы\n",
    "### Группа: ИУ5-24М\n",
    "### Классификатор 1: KNeighborsClassifier\n",
    "### Классификатор 2: Complement Naive Bayes (CNB)\n",
    "\n",
    "- Для каждого метода необходимо оценить качество классификации\n",
    "- Сделать вывод о том, какой вариант векторизации признаков в паре с каким классификатором показал лучшее качество.\n",
    "\n",
    "Выбранный [Датасет]()"
   ]
  },
  {
   "cell_type": "code",
   "execution_count": 2,
   "metadata": {
    "colab": {
     "base_uri": "https://localhost:8080/"
    },
    "id": "e0ljTHHCBcqT",
    "outputId": "02db86cf-fe57-429f-a3fd-e2b33d765616"
   },
   "outputs": [
    {
     "name": "stdout",
     "output_type": "stream",
     "text": [
      "Collecting category_encoders\n",
      "\u001b[?25l  Downloading https://files.pythonhosted.org/packages/44/57/fcef41c248701ee62e8325026b90c432adea35555cbc870aff9cfba23727/category_encoders-2.2.2-py2.py3-none-any.whl (80kB)\n",
      "\r",
      "\u001b[K     |████                            | 10kB 14.6MB/s eta 0:00:01\r",
      "\u001b[K     |████████▏                       | 20kB 20.3MB/s eta 0:00:01\r",
      "\u001b[K     |████████████▏                   | 30kB 11.4MB/s eta 0:00:01\r",
      "\u001b[K     |████████████████▎               | 40kB 8.9MB/s eta 0:00:01\r",
      "\u001b[K     |████████████████████▎           | 51kB 5.5MB/s eta 0:00:01\r",
      "\u001b[K     |████████████████████████▍       | 61kB 6.4MB/s eta 0:00:01\r",
      "\u001b[K     |████████████████████████████▍   | 71kB 6.6MB/s eta 0:00:01\r",
      "\u001b[K     |████████████████████████████████| 81kB 3.7MB/s \n",
      "\u001b[?25hRequirement already satisfied: patsy>=0.5.1 in /usr/local/lib/python3.7/dist-packages (from category_encoders) (0.5.1)\n",
      "Requirement already satisfied: pandas>=0.21.1 in /usr/local/lib/python3.7/dist-packages (from category_encoders) (1.1.5)\n",
      "Requirement already satisfied: scikit-learn>=0.20.0 in /usr/local/lib/python3.7/dist-packages (from category_encoders) (0.22.2.post1)\n",
      "Requirement already satisfied: numpy>=1.14.0 in /usr/local/lib/python3.7/dist-packages (from category_encoders) (1.19.5)\n",
      "Requirement already satisfied: statsmodels>=0.9.0 in /usr/local/lib/python3.7/dist-packages (from category_encoders) (0.10.2)\n",
      "Requirement already satisfied: scipy>=1.0.0 in /usr/local/lib/python3.7/dist-packages (from category_encoders) (1.4.1)\n",
      "Requirement already satisfied: six in /usr/local/lib/python3.7/dist-packages (from patsy>=0.5.1->category_encoders) (1.15.0)\n",
      "Requirement already satisfied: pytz>=2017.2 in /usr/local/lib/python3.7/dist-packages (from pandas>=0.21.1->category_encoders) (2018.9)\n",
      "Requirement already satisfied: python-dateutil>=2.7.3 in /usr/local/lib/python3.7/dist-packages (from pandas>=0.21.1->category_encoders) (2.8.1)\n",
      "Requirement already satisfied: joblib>=0.11 in /usr/local/lib/python3.7/dist-packages (from scikit-learn>=0.20.0->category_encoders) (1.0.1)\n",
      "Installing collected packages: category-encoders\n",
      "Successfully installed category-encoders-2.2.2\n"
     ]
    }
   ],
   "source": [
    "import pandas as pd\n",
    "import numpy as np\n",
    "import matplotlib.pyplot as plt\n",
    "import seaborn as sns\n",
    "!pip install category_encoders"
   ]
  },
  {
   "cell_type": "code",
   "execution_count": 5,
   "metadata": {
    "colab": {
     "base_uri": "https://localhost:8080/"
    },
    "id": "gIYiWd9_-jAJ",
    "outputId": "4de4b0f5-c485-4c11-bbc0-3bea1c865e47"
   },
   "outputs": [
    {
     "name": "stdout",
     "output_type": "stream",
     "text": [
      "Requirement already satisfied: kaggle in /usr/local/lib/python3.7/dist-packages (1.5.12)\n",
      "Requirement already satisfied: certifi in /usr/local/lib/python3.7/dist-packages (from kaggle) (2020.12.5)\n",
      "Requirement already satisfied: python-slugify in /usr/local/lib/python3.7/dist-packages (from kaggle) (5.0.2)\n",
      "Requirement already satisfied: requests in /usr/local/lib/python3.7/dist-packages (from kaggle) (2.23.0)\n",
      "Requirement already satisfied: six>=1.10 in /usr/local/lib/python3.7/dist-packages (from kaggle) (1.15.0)\n",
      "Requirement already satisfied: tqdm in /usr/local/lib/python3.7/dist-packages (from kaggle) (4.41.1)\n",
      "Requirement already satisfied: python-dateutil in /usr/local/lib/python3.7/dist-packages (from kaggle) (2.8.1)\n",
      "Requirement already satisfied: urllib3 in /usr/local/lib/python3.7/dist-packages (from kaggle) (1.24.3)\n",
      "Requirement already satisfied: text-unidecode>=1.3 in /usr/local/lib/python3.7/dist-packages (from python-slugify->kaggle) (1.3)\n",
      "Requirement already satisfied: chardet<4,>=3.0.2 in /usr/local/lib/python3.7/dist-packages (from requests->kaggle) (3.0.4)\n",
      "Requirement already satisfied: idna<3,>=2.5 in /usr/local/lib/python3.7/dist-packages (from requests->kaggle) (2.10)\n",
      "fake-and-real-news-dataset.zip: Skipping, found more recently modified local copy (use --force to force download)\n",
      "Archive:  fake-and-real-news-dataset.zip\n",
      "replace Fake.csv? [y]es, [n]o, [A]ll, [N]one, [r]ename: "
     ]
    }
   ],
   "source": [
    "!pip install kaggle\n",
    "import os\n",
    "os.environ['KAGGLE_USERNAME'] = \"XXXXXXXXXXXXXXXXXXXXXXXXXXXXXXXXX\" \n",
    "os.environ['KAGGLE_KEY'] = \"XXXXXXXXXXXXXXXXXXXXXXXXXXXXXXXXXXXXXX\"\n",
    "!kaggle datasets download clmentbisaillon/fake-and-real-news-dataset\n",
    "!unzip fake-and-real-news-dataset.zip"
   ]
  },
  {
   "cell_type": "markdown",
   "metadata": {
    "id": "RAWtw3D-Ja0p"
   },
   "source": [
    "## Анализируем датасет и готовим категориальный признак"
   ]
  },
  {
   "cell_type": "code",
   "execution_count": 46,
   "metadata": {
    "colab": {
     "base_uri": "https://localhost:8080/",
     "height": 406
    },
    "id": "g8-yQbdBBMZS",
    "outputId": "5bd0cb4a-9483-44e2-a8fd-89ac83cf5618"
   },
   "outputs": [
    {
     "data": {
      "text/html": [
       "<div>\n",
       "<style scoped>\n",
       "    .dataframe tbody tr th:only-of-type {\n",
       "        vertical-align: middle;\n",
       "    }\n",
       "\n",
       "    .dataframe tbody tr th {\n",
       "        vertical-align: top;\n",
       "    }\n",
       "\n",
       "    .dataframe thead th {\n",
       "        text-align: right;\n",
       "    }\n",
       "</style>\n",
       "<table border=\"1\" class=\"dataframe\">\n",
       "  <thead>\n",
       "    <tr style=\"text-align: right;\">\n",
       "      <th></th>\n",
       "      <th>title</th>\n",
       "      <th>text</th>\n",
       "      <th>subject</th>\n",
       "      <th>date</th>\n",
       "      <th>target</th>\n",
       "    </tr>\n",
       "  </thead>\n",
       "  <tbody>\n",
       "    <tr>\n",
       "      <th>0</th>\n",
       "      <td>Donald Trump Sends Out Embarrassing New Year’...</td>\n",
       "      <td>Donald Trump just couldn t wish all Americans ...</td>\n",
       "      <td>News</td>\n",
       "      <td>December 31, 2017</td>\n",
       "      <td>0</td>\n",
       "    </tr>\n",
       "    <tr>\n",
       "      <th>1</th>\n",
       "      <td>Drunk Bragging Trump Staffer Started Russian ...</td>\n",
       "      <td>House Intelligence Committee Chairman Devin Nu...</td>\n",
       "      <td>News</td>\n",
       "      <td>December 31, 2017</td>\n",
       "      <td>0</td>\n",
       "    </tr>\n",
       "    <tr>\n",
       "      <th>2</th>\n",
       "      <td>Sheriff David Clarke Becomes An Internet Joke...</td>\n",
       "      <td>On Friday, it was revealed that former Milwauk...</td>\n",
       "      <td>News</td>\n",
       "      <td>December 30, 2017</td>\n",
       "      <td>0</td>\n",
       "    </tr>\n",
       "    <tr>\n",
       "      <th>3</th>\n",
       "      <td>Trump Is So Obsessed He Even Has Obama’s Name...</td>\n",
       "      <td>On Christmas day, Donald Trump announced that ...</td>\n",
       "      <td>News</td>\n",
       "      <td>December 29, 2017</td>\n",
       "      <td>0</td>\n",
       "    </tr>\n",
       "    <tr>\n",
       "      <th>4</th>\n",
       "      <td>Pope Francis Just Called Out Donald Trump Dur...</td>\n",
       "      <td>Pope Francis used his annual Christmas Day mes...</td>\n",
       "      <td>News</td>\n",
       "      <td>December 25, 2017</td>\n",
       "      <td>0</td>\n",
       "    </tr>\n",
       "    <tr>\n",
       "      <th>...</th>\n",
       "      <td>...</td>\n",
       "      <td>...</td>\n",
       "      <td>...</td>\n",
       "      <td>...</td>\n",
       "      <td>...</td>\n",
       "    </tr>\n",
       "    <tr>\n",
       "      <th>9995</th>\n",
       "      <td>Obama says Clinton never jeopardized national ...</td>\n",
       "      <td>WASHINGTON (Reuters) - U.S. President Barack O...</td>\n",
       "      <td>politicsNews</td>\n",
       "      <td>April 10, 2016</td>\n",
       "      <td>1</td>\n",
       "    </tr>\n",
       "    <tr>\n",
       "      <th>9996</th>\n",
       "      <td>U.S. plans to curb tax 'inversions' could hit ...</td>\n",
       "      <td>LONDON (Reuters) - Planned changes that Presid...</td>\n",
       "      <td>politicsNews</td>\n",
       "      <td>April 11, 2016</td>\n",
       "      <td>1</td>\n",
       "    </tr>\n",
       "    <tr>\n",
       "      <th>9997</th>\n",
       "      <td>U.S. Democrat Clinton downplays chance of cont...</td>\n",
       "      <td>WASHINGTON (Reuters) - Democratic front-runner...</td>\n",
       "      <td>politicsNews</td>\n",
       "      <td>April 10, 2016</td>\n",
       "      <td>1</td>\n",
       "    </tr>\n",
       "    <tr>\n",
       "      <th>9998</th>\n",
       "      <td>Boston Globe denounces Trump candidacy in 'fro...</td>\n",
       "      <td>(Reuters) - Headlines screaming “Deportations ...</td>\n",
       "      <td>politicsNews</td>\n",
       "      <td>April 10, 2016</td>\n",
       "      <td>1</td>\n",
       "    </tr>\n",
       "    <tr>\n",
       "      <th>9999</th>\n",
       "      <td>Lawyers evasive about ex-U.S. House speaker's ...</td>\n",
       "      <td>(Reuters) - Former U.S. House Speaker Dennis H...</td>\n",
       "      <td>politicsNews</td>\n",
       "      <td>April 9, 2016</td>\n",
       "      <td>1</td>\n",
       "    </tr>\n",
       "  </tbody>\n",
       "</table>\n",
       "<p>20000 rows × 5 columns</p>\n",
       "</div>"
      ],
      "text/plain": [
       "                                                  title  ... target\n",
       "0      Donald Trump Sends Out Embarrassing New Year’...  ...      0\n",
       "1      Drunk Bragging Trump Staffer Started Russian ...  ...      0\n",
       "2      Sheriff David Clarke Becomes An Internet Joke...  ...      0\n",
       "3      Trump Is So Obsessed He Even Has Obama’s Name...  ...      0\n",
       "4      Pope Francis Just Called Out Donald Trump Dur...  ...      0\n",
       "...                                                 ...  ...    ...\n",
       "9995  Obama says Clinton never jeopardized national ...  ...      1\n",
       "9996  U.S. plans to curb tax 'inversions' could hit ...  ...      1\n",
       "9997  U.S. Democrat Clinton downplays chance of cont...  ...      1\n",
       "9998  Boston Globe denounces Trump candidacy in 'fro...  ...      1\n",
       "9999  Lawyers evasive about ex-U.S. House speaker's ...  ...      1\n",
       "\n",
       "[20000 rows x 5 columns]"
      ]
     },
     "execution_count": 46,
     "metadata": {
      "tags": []
     },
     "output_type": "execute_result"
    }
   ],
   "source": [
    "SUBSAMPLE_SIZE = 10000\n",
    "\n",
    "df_fake = pd.read_csv('Fake.csv', encoding='utf-8')[:SUBSAMPLE_SIZE]\n",
    "df_fake['target'] = np.zeros(df_fake.shape[0], dtype=np.int8)\n",
    "df_true = pd.read_csv('True.csv', encoding='utf-8')[:SUBSAMPLE_SIZE]\n",
    "df_true['target'] = np.ones(df_true.shape[0], dtype=np.int8)\n",
    "df = pd.concat((df_fake, df_true), axis=0)\n",
    "df.sample(frac=1).reset_index(drop=True)\n",
    "df"
   ]
  },
  {
   "cell_type": "code",
   "execution_count": 47,
   "metadata": {
    "colab": {
     "base_uri": "https://localhost:8080/"
    },
    "id": "zCO9IE9fE3UP",
    "outputId": "a146bbbf-1a35-413b-b8e4-4c0a1d9074ba"
   },
   "outputs": [
    {
     "data": {
      "text/plain": [
       "1    10000\n",
       "0    10000\n",
       "Name: target, dtype: int64"
      ]
     },
     "execution_count": 47,
     "metadata": {
      "tags": []
     },
     "output_type": "execute_result"
    }
   ],
   "source": [
    "df.target.value_counts()"
   ]
  },
  {
   "cell_type": "code",
   "execution_count": 48,
   "metadata": {
    "colab": {
     "base_uri": "https://localhost:8080/"
    },
    "id": "FNPyxTmuG1ua",
    "outputId": "389a4cb7-0490-477a-80ed-b4c11bb0eea0"
   },
   "outputs": [
    {
     "data": {
      "text/plain": [
       "politicsNews    10000\n",
       "News             9050\n",
       "politics          950\n",
       "Name: subject, dtype: int64"
      ]
     },
     "execution_count": 48,
     "metadata": {
      "tags": []
     },
     "output_type": "execute_result"
    }
   ],
   "source": [
    "df.subject.value_counts()"
   ]
  },
  {
   "cell_type": "code",
   "execution_count": 49,
   "metadata": {
    "id": "6Rvx126OHFdx"
   },
   "outputs": [],
   "source": [
    "from category_encoders import TargetEncoder\n",
    "from sklearn.preprocessing import StandardScaler, LabelEncoder\n",
    "\n",
    "encoder = LabelEncoder()\n",
    "scaler = StandardScaler()\n",
    "df['subject'] = encoder.fit_transform(df.subject)"
   ]
  },
  {
   "cell_type": "code",
   "execution_count": 50,
   "metadata": {
    "colab": {
     "base_uri": "https://localhost:8080/"
    },
    "id": "3AiIGeR-Hgjw",
    "outputId": "8f5e16b8-7fc2-4d78-9ff8-0d0b89bfe039"
   },
   "outputs": [
    {
     "data": {
      "text/plain": [
       "array([0, 1, 2])"
      ]
     },
     "execution_count": 50,
     "metadata": {
      "tags": []
     },
     "output_type": "execute_result"
    }
   ],
   "source": [
    "df.subject.unique()"
   ]
  },
  {
   "cell_type": "code",
   "execution_count": 51,
   "metadata": {
    "colab": {
     "base_uri": "https://localhost:8080/"
    },
    "id": "88SH_zNJUq3Q",
    "outputId": "f7737e8d-b71b-4224-cd57-311bbcb7d49a"
   },
   "outputs": [
    {
     "data": {
      "text/plain": [
       "10950"
      ]
     },
     "execution_count": 51,
     "metadata": {
      "tags": []
     },
     "output_type": "execute_result"
    }
   ],
   "source": [
    "(df.subject - df.target).sum()"
   ]
  },
  {
   "cell_type": "code",
   "execution_count": 52,
   "metadata": {
    "colab": {
     "base_uri": "https://localhost:8080/"
    },
    "id": "_hh_gvbrHmNH",
    "outputId": "3cf6d900-cdee-44c4-fda2-5690970aa59a"
   },
   "outputs": [
    {
     "data": {
      "text/plain": [
       "November 9, 2016     115\n",
       "April 7, 2017         73\n",
       "February 1, 2017      51\n",
       "February 2, 2017      49\n",
       "January 23, 2017      47\n",
       "                    ... \n",
       "May 22, 2016           1\n",
       "May 28, 2016           1\n",
       "December 22, 2017      1\n",
       "November 19, 2017      1\n",
       "December 4, 2017       1\n",
       "Name: date, Length: 1480, dtype: int64"
      ]
     },
     "execution_count": 52,
     "metadata": {
      "tags": []
     },
     "output_type": "execute_result"
    }
   ],
   "source": [
    "df.date.value_counts()"
   ]
  },
  {
   "cell_type": "code",
   "execution_count": 53,
   "metadata": {
    "id": "48yXqZpMIObX"
   },
   "outputs": [],
   "source": [
    "df.drop(columns=['date'], inplace=True)"
   ]
  },
  {
   "cell_type": "markdown",
   "metadata": {
    "id": "4cwQL6eyLLiE"
   },
   "source": [
    "## Сразу делим данные на две выборки train и test"
   ]
  },
  {
   "cell_type": "code",
   "execution_count": 54,
   "metadata": {
    "colab": {
     "base_uri": "https://localhost:8080/"
    },
    "id": "zELOVJedLKu9",
    "outputId": "7d23f9b5-29d3-4bfd-bc7a-88447218239f"
   },
   "outputs": [
    {
     "data": {
      "text/plain": [
       "((16000, 3), (16000,), (4000, 3), (4000,))"
      ]
     },
     "execution_count": 54,
     "metadata": {
      "tags": []
     },
     "output_type": "execute_result"
    }
   ],
   "source": [
    "from sklearn.model_selection import train_test_split\n",
    "\n",
    "X = df[[i for i in df.columns if i !='target']]\n",
    "y = df.target\n",
    "\n",
    "x_train, x_test, y_train, y_test = train_test_split(X, y, test_size=0.2, stratify=y, random_state=42)\n",
    "\n",
    "x_train.shape, y_train.shape, x_test.shape, y_test.shape"
   ]
  },
  {
   "cell_type": "markdown",
   "metadata": {
    "id": "_DPKq5XVJlsw"
   },
   "source": [
    "## Предобрабатываем текстовые данные"
   ]
  },
  {
   "cell_type": "code",
   "execution_count": 55,
   "metadata": {
    "colab": {
     "base_uri": "https://localhost:8080/"
    },
    "id": "9Nl8ghWAJZAc",
    "outputId": "f25dca3e-a2d9-4d3f-e763-d2b94f30130f"
   },
   "outputs": [
    {
     "name": "stdout",
     "output_type": "stream",
     "text": [
      " Donald Trump Sends Out Embarrassing New Year’s Eve Message; This is Disturbing <class 'str'>\n"
     ]
    }
   ],
   "source": [
    "for title in df.title:\n",
    "  print(title, type(title))\n",
    "  break"
   ]
  },
  {
   "cell_type": "code",
   "execution_count": 56,
   "metadata": {
    "id": "BqYGRx0BJptr"
   },
   "outputs": [],
   "source": [
    "from sklearn.feature_extraction.text import TfidfVectorizer, CountVectorizer\n",
    "import re\n",
    "\n",
    "def preproc_func(title):\n",
    "  # make more preprocessing if it well be needed!\n",
    "  if isinstance(title, str):\n",
    "      title = re.sub('[^a-zA-Z0-9]', ' ', title)\n",
    "      return title.lower().strip()\n",
    "  else:\n",
    "    return ''\n",
    "\n",
    "def get_tfidf_matrix(df, column, preproc_function, vectorizer=None):\n",
    "  \"\"\"\n",
    "    returns matrix, trained vectorizer\n",
    "  \"\"\"\n",
    "  processed_col = df[column].apply(preproc_function)\n",
    "  if vectorizer is None:\n",
    "    vectorizer = TfidfVectorizer()\n",
    "    vectorizer.fit(processed_col)\n",
    "\n",
    "  matrix = vectorizer.transform(processed_col)\n",
    "  \n",
    "  return matrix, vectorizer\n",
    "\n",
    "def get_count_matrix(df, column, preproc_function, vectorizer=None):\n",
    "  \"\"\"\n",
    "    returns matrix, trained vectorizer\n",
    "  \"\"\"\n",
    "  processed_col = df[column].apply(preproc_function)\n",
    "  if vectorizer is None:\n",
    "    vectorizer = CountVectorizer()\n",
    "    vectorizer.fit(processed_col)\n",
    "\n",
    "  matrix = vectorizer.transform(processed_col)\n",
    "  return matrix, vectorizer\n",
    "\n",
    "\n",
    "train_title_matrix_tfidf, tfidf_vectorizer = get_tfidf_matrix(x_train, 'title', preproc_func)\n",
    "test_title_matrix_tfidf, tfidf_vectorizer = get_tfidf_matrix(x_test, 'title',\n",
    "                                                       preproc_func, vectorizer=tfidf_vectorizer)\n",
    "\n",
    "train_title_matrix_count, count_vectorizer = get_count_matrix(x_train, 'title', preproc_func)\n",
    "test_title_matrix_count, count_vectorizer = get_count_matrix(x_test, 'title',\n",
    "                                                       preproc_func, vectorizer=count_vectorizer)"
   ]
  },
  {
   "cell_type": "code",
   "execution_count": 57,
   "metadata": {
    "colab": {
     "base_uri": "https://localhost:8080/"
    },
    "id": "MTxU0vJ8KgCC",
    "outputId": "dc20ee2e-bfa3-4759-8a13-6b035bb3fc60"
   },
   "outputs": [
    {
     "data": {
      "text/plain": [
       "((16000, 13240), (4000, 13240), (16000, 13240), (4000, 13240))"
      ]
     },
     "execution_count": 57,
     "metadata": {
      "tags": []
     },
     "output_type": "execute_result"
    }
   ],
   "source": [
    "train_title_matrix_tfidf.shape, test_title_matrix_tfidf.shape, train_title_matrix_count.shape, test_title_matrix_count.shape"
   ]
  },
  {
   "cell_type": "code",
   "execution_count": 58,
   "metadata": {
    "id": "IPeQhT-FKi6R"
   },
   "outputs": [],
   "source": [
    "train_text_matrix_tfidf, tfidf_text_vectorizer = get_tfidf_matrix(x_train, 'text', preproc_func)\n",
    "test_text_matrix_tfidf, tfidf_text_vectorizer = get_tfidf_matrix(x_test, 'text',\n",
    "                                                       preproc_func, vectorizer=tfidf_text_vectorizer)\n",
    "\n",
    "train_text_matrix_count, count_text_vectorizer = get_tfidf_matrix(x_train, 'text', preproc_func)\n",
    "test_text_matrix_count, count_text_vectorizer = get_tfidf_matrix(x_test, 'text',\n",
    "                                                       preproc_func, vectorizer=count_text_vectorizer)"
   ]
  },
  {
   "cell_type": "code",
   "execution_count": 59,
   "metadata": {
    "colab": {
     "base_uri": "https://localhost:8080/"
    },
    "id": "9K0r8YF3P-xi",
    "outputId": "0b1e01fb-1a47-41ee-839d-451ef2464561"
   },
   "outputs": [
    {
     "data": {
      "text/plain": [
       "((16000, 73574), (4000, 73574))"
      ]
     },
     "execution_count": 59,
     "metadata": {
      "tags": []
     },
     "output_type": "execute_result"
    }
   ],
   "source": [
    "train_text_matrix_tfidf.shape, test_text_matrix_tfidf.shape"
   ]
  },
  {
   "cell_type": "code",
   "execution_count": 60,
   "metadata": {
    "colab": {
     "base_uri": "https://localhost:8080/"
    },
    "id": "U58Y7sj7TR9Z",
    "outputId": "ea12fd9a-39f5-478c-990c-b1f6857da694"
   },
   "outputs": [
    {
     "data": {
      "text/plain": [
       "((16000, 73574), (4000, 73574))"
      ]
     },
     "execution_count": 60,
     "metadata": {
      "tags": []
     },
     "output_type": "execute_result"
    }
   ],
   "source": [
    "train_text_matrix_count.shape, test_text_matrix_count.shape"
   ]
  },
  {
   "cell_type": "code",
   "execution_count": 61,
   "metadata": {
    "id": "fFVF0rUPOKdu"
   },
   "outputs": [],
   "source": [
    "from scipy import sparse\n",
    "\n",
    "subject_train_sparse = sparse.csr_matrix(np.array(x_train.subject).reshape(-1, 1))\n",
    "subject_test_sparse = sparse.csr_matrix(np.array(x_test.subject).reshape(-1, 1))\n",
    "\n",
    "# subject_train_sparse.shape\n",
    "texts_tfidf_train_matrix = sparse.hstack((train_text_matrix_tfidf,train_title_matrix_tfidf, subject_train_sparse))\n",
    "texts_count_train_matrix = sparse.hstack((train_text_matrix_count,train_title_matrix_count, subject_train_sparse))\n",
    "texts_tfidf_test_matrix = sparse.hstack((test_text_matrix_tfidf,test_title_matrix_tfidf, subject_test_sparse))\n",
    "texts_count_test_matrix = sparse.hstack((test_text_matrix_count,test_title_matrix_count, subject_test_sparse))"
   ]
  },
  {
   "cell_type": "code",
   "execution_count": 62,
   "metadata": {
    "colab": {
     "base_uri": "https://localhost:8080/"
    },
    "id": "l4IUucnCUYsI",
    "outputId": "31261e3c-c984-4a9c-e544-b9245c11c4c2"
   },
   "outputs": [
    {
     "data": {
      "text/plain": [
       "(16000, 86815)"
      ]
     },
     "execution_count": 62,
     "metadata": {
      "tags": []
     },
     "output_type": "execute_result"
    }
   ],
   "source": [
    "texts_tfidf_train_matrix.shape"
   ]
  },
  {
   "cell_type": "markdown",
   "metadata": {
    "id": "JF6e8JXVQWu5"
   },
   "source": [
    "## KNN with CountVectorizer"
   ]
  },
  {
   "cell_type": "code",
   "execution_count": 63,
   "metadata": {
    "colab": {
     "base_uri": "https://localhost:8080/"
    },
    "id": "bu2VLgsFXAdx",
    "outputId": "5425679a-785b-4d07-9593-512c28b6a060"
   },
   "outputs": [
    {
     "data": {
      "text/plain": [
       "dict_keys(['explained_variance', 'r2', 'max_error', 'neg_median_absolute_error', 'neg_mean_absolute_error', 'neg_mean_squared_error', 'neg_mean_squared_log_error', 'neg_root_mean_squared_error', 'neg_mean_poisson_deviance', 'neg_mean_gamma_deviance', 'accuracy', 'roc_auc', 'roc_auc_ovr', 'roc_auc_ovo', 'roc_auc_ovr_weighted', 'roc_auc_ovo_weighted', 'balanced_accuracy', 'average_precision', 'neg_log_loss', 'neg_brier_score', 'adjusted_rand_score', 'homogeneity_score', 'completeness_score', 'v_measure_score', 'mutual_info_score', 'adjusted_mutual_info_score', 'normalized_mutual_info_score', 'fowlkes_mallows_score', 'precision', 'precision_macro', 'precision_micro', 'precision_samples', 'precision_weighted', 'recall', 'recall_macro', 'recall_micro', 'recall_samples', 'recall_weighted', 'f1', 'f1_macro', 'f1_micro', 'f1_samples', 'f1_weighted', 'jaccard', 'jaccard_macro', 'jaccard_micro', 'jaccard_samples', 'jaccard_weighted'])"
      ]
     },
     "execution_count": 63,
     "metadata": {
      "tags": []
     },
     "output_type": "execute_result"
    }
   ],
   "source": [
    "import sklearn\n",
    "sklearn.metrics.SCORERS.keys()"
   ]
  },
  {
   "cell_type": "code",
   "execution_count": 68,
   "metadata": {
    "colab": {
     "base_uri": "https://localhost:8080/",
     "height": 306
    },
    "id": "jvzNPRRxOBNw",
    "outputId": "49e27a9d-da8f-45f7-d04b-ded606e36169"
   },
   "outputs": [
    {
     "name": "stdout",
     "output_type": "stream",
     "text": [
      "Fitting 3 folds for each of 5 candidates, totalling 15 fits\n"
     ]
    },
    {
     "name": "stderr",
     "output_type": "stream",
     "text": [
      "[Parallel(n_jobs=-1)]: Using backend LokyBackend with 2 concurrent workers.\n",
      "/usr/local/lib/python3.7/dist-packages/joblib/externals/loky/process_executor.py:691: UserWarning: A worker stopped while some jobs were given to the executor. This can be caused by a too short worker timeout or by a memory leak.\n",
      "  \"timeout or by a memory leak.\", UserWarning\n",
      "[Parallel(n_jobs=-1)]: Done  15 out of  15 | elapsed:  2.3min finished\n"
     ]
    },
    {
     "data": {
      "text/html": [
       "<div>\n",
       "<style scoped>\n",
       "    .dataframe tbody tr th:only-of-type {\n",
       "        vertical-align: middle;\n",
       "    }\n",
       "\n",
       "    .dataframe tbody tr th {\n",
       "        vertical-align: top;\n",
       "    }\n",
       "\n",
       "    .dataframe thead th {\n",
       "        text-align: right;\n",
       "    }\n",
       "</style>\n",
       "<table border=\"1\" class=\"dataframe\">\n",
       "  <thead>\n",
       "    <tr style=\"text-align: right;\">\n",
       "      <th></th>\n",
       "      <th>mean_fit_time</th>\n",
       "      <th>std_fit_time</th>\n",
       "      <th>mean_score_time</th>\n",
       "      <th>std_score_time</th>\n",
       "      <th>param_n_neighbors</th>\n",
       "      <th>params</th>\n",
       "      <th>split0_test_score</th>\n",
       "      <th>split1_test_score</th>\n",
       "      <th>split2_test_score</th>\n",
       "      <th>mean_test_score</th>\n",
       "      <th>std_test_score</th>\n",
       "      <th>rank_test_score</th>\n",
       "    </tr>\n",
       "  </thead>\n",
       "  <tbody>\n",
       "    <tr>\n",
       "      <th>0</th>\n",
       "      <td>0.043154</td>\n",
       "      <td>0.006815</td>\n",
       "      <td>17.902901</td>\n",
       "      <td>0.059754</td>\n",
       "      <td>2</td>\n",
       "      <td>{'n_neighbors': 2}</td>\n",
       "      <td>0.980308</td>\n",
       "      <td>0.975611</td>\n",
       "      <td>0.978240</td>\n",
       "      <td>0.978053</td>\n",
       "      <td>0.001922</td>\n",
       "      <td>1</td>\n",
       "    </tr>\n",
       "    <tr>\n",
       "      <th>1</th>\n",
       "      <td>0.038842</td>\n",
       "      <td>0.003350</td>\n",
       "      <td>17.913085</td>\n",
       "      <td>0.087726</td>\n",
       "      <td>3</td>\n",
       "      <td>{'n_neighbors': 3}</td>\n",
       "      <td>0.970165</td>\n",
       "      <td>0.963009</td>\n",
       "      <td>0.967715</td>\n",
       "      <td>0.966963</td>\n",
       "      <td>0.002969</td>\n",
       "      <td>2</td>\n",
       "    </tr>\n",
       "    <tr>\n",
       "      <th>2</th>\n",
       "      <td>0.032646</td>\n",
       "      <td>0.001017</td>\n",
       "      <td>18.183517</td>\n",
       "      <td>0.161322</td>\n",
       "      <td>5</td>\n",
       "      <td>{'n_neighbors': 5}</td>\n",
       "      <td>0.968849</td>\n",
       "      <td>0.960184</td>\n",
       "      <td>0.965457</td>\n",
       "      <td>0.964830</td>\n",
       "      <td>0.003565</td>\n",
       "      <td>3</td>\n",
       "    </tr>\n",
       "    <tr>\n",
       "      <th>3</th>\n",
       "      <td>0.037480</td>\n",
       "      <td>0.005340</td>\n",
       "      <td>18.015832</td>\n",
       "      <td>0.229499</td>\n",
       "      <td>7</td>\n",
       "      <td>{'n_neighbors': 7}</td>\n",
       "      <td>0.968473</td>\n",
       "      <td>0.959619</td>\n",
       "      <td>0.962445</td>\n",
       "      <td>0.963512</td>\n",
       "      <td>0.003692</td>\n",
       "      <td>4</td>\n",
       "    </tr>\n",
       "    <tr>\n",
       "      <th>4</th>\n",
       "      <td>0.033504</td>\n",
       "      <td>0.002923</td>\n",
       "      <td>15.156522</td>\n",
       "      <td>3.367733</td>\n",
       "      <td>9</td>\n",
       "      <td>{'n_neighbors': 9}</td>\n",
       "      <td>0.967532</td>\n",
       "      <td>0.957922</td>\n",
       "      <td>0.961880</td>\n",
       "      <td>0.962445</td>\n",
       "      <td>0.003944</td>\n",
       "      <td>5</td>\n",
       "    </tr>\n",
       "  </tbody>\n",
       "</table>\n",
       "</div>"
      ],
      "text/plain": [
       "   mean_fit_time  std_fit_time  ...  std_test_score  rank_test_score\n",
       "0       0.043154      0.006815  ...        0.001922                1\n",
       "1       0.038842      0.003350  ...        0.002969                2\n",
       "2       0.032646      0.001017  ...        0.003565                3\n",
       "3       0.037480      0.005340  ...        0.003692                4\n",
       "4       0.033504      0.002923  ...        0.003944                5\n",
       "\n",
       "[5 rows x 12 columns]"
      ]
     },
     "execution_count": 68,
     "metadata": {
      "tags": []
     },
     "output_type": "execute_result"
    }
   ],
   "source": [
    "from sklearn.neighbors import KNeighborsClassifier\n",
    "from sklearn.metrics import classification_report\n",
    "from sklearn.model_selection import GridSearchCV\n",
    "\n",
    "\n",
    "parameters = {'n_neighbors': [2, 3, 5, 7, 9]}\n",
    "\n",
    "\n",
    "knn_clf = KNeighborsClassifier()\n",
    "\n",
    "knn_grid_count_clf = GridSearchCV(knn_clf, parameters, verbose=4, scoring='f1_macro', n_jobs=-1, cv=3)\n",
    "\n",
    "knn_grid_count_clf.fit(texts_count_train_matrix, y_train)\n",
    "\n",
    "pd.DataFrame(knn_grid_count_clf.cv_results_)"
   ]
  },
  {
   "cell_type": "code",
   "execution_count": 88,
   "metadata": {
    "colab": {
     "base_uri": "https://localhost:8080/"
    },
    "id": "rmoxSXq9YPDG",
    "outputId": "c9159a7b-ce20-456a-adc9-a963f1531f78"
   },
   "outputs": [
    {
     "name": "stdout",
     "output_type": "stream",
     "text": [
      "              precision    recall  f1-score   support\n",
      "\n",
      "           0     0.9979    0.9645    0.9809      2000\n",
      "           1     0.9657    0.9980    0.9816      2000\n",
      "\n",
      "    accuracy                         0.9812      4000\n",
      "   macro avg     0.9818    0.9812    0.9812      4000\n",
      "weighted avg     0.9818    0.9812    0.9812      4000\n",
      "\n"
     ]
    }
   ],
   "source": [
    "best_knn_count_clf = KNeighborsClassifier(n_neighbors=2)\n",
    "best_knn_count_clf.fit(texts_count_train_matrix, y_train)\n",
    "\n",
    "pred = best_knn_count_clf.predict(X=texts_count_test_matrix)\n",
    "\n",
    "best_knn_count = classification_report(y_test, pred, digits=4, output_dict=True)\n",
    "\n",
    "print(classification_report(y_test, pred, digits=4) )"
   ]
  },
  {
   "cell_type": "markdown",
   "metadata": {
    "id": "fC-P2wnhSJg0"
   },
   "source": [
    "## KNN with TfidfVectorizer"
   ]
  },
  {
   "cell_type": "code",
   "execution_count": 70,
   "metadata": {
    "colab": {
     "base_uri": "https://localhost:8080/",
     "height": 251
    },
    "id": "C_tue-8wQkcK",
    "outputId": "ddf9115b-54fb-46b8-dc06-bdff546cd20a"
   },
   "outputs": [
    {
     "name": "stdout",
     "output_type": "stream",
     "text": [
      "Fitting 3 folds for each of 5 candidates, totalling 15 fits\n"
     ]
    },
    {
     "name": "stderr",
     "output_type": "stream",
     "text": [
      "[Parallel(n_jobs=-1)]: Using backend LokyBackend with 2 concurrent workers.\n",
      "[Parallel(n_jobs=-1)]: Done  15 out of  15 | elapsed:  2.2min finished\n"
     ]
    },
    {
     "data": {
      "text/html": [
       "<div>\n",
       "<style scoped>\n",
       "    .dataframe tbody tr th:only-of-type {\n",
       "        vertical-align: middle;\n",
       "    }\n",
       "\n",
       "    .dataframe tbody tr th {\n",
       "        vertical-align: top;\n",
       "    }\n",
       "\n",
       "    .dataframe thead th {\n",
       "        text-align: right;\n",
       "    }\n",
       "</style>\n",
       "<table border=\"1\" class=\"dataframe\">\n",
       "  <thead>\n",
       "    <tr style=\"text-align: right;\">\n",
       "      <th></th>\n",
       "      <th>mean_fit_time</th>\n",
       "      <th>std_fit_time</th>\n",
       "      <th>mean_score_time</th>\n",
       "      <th>std_score_time</th>\n",
       "      <th>param_n_neighbors</th>\n",
       "      <th>params</th>\n",
       "      <th>split0_test_score</th>\n",
       "      <th>split1_test_score</th>\n",
       "      <th>split2_test_score</th>\n",
       "      <th>mean_test_score</th>\n",
       "      <th>std_test_score</th>\n",
       "      <th>rank_test_score</th>\n",
       "    </tr>\n",
       "  </thead>\n",
       "  <tbody>\n",
       "    <tr>\n",
       "      <th>0</th>\n",
       "      <td>0.040579</td>\n",
       "      <td>0.008529</td>\n",
       "      <td>17.776371</td>\n",
       "      <td>0.101339</td>\n",
       "      <td>2</td>\n",
       "      <td>{'n_neighbors': 2}</td>\n",
       "      <td>0.999438</td>\n",
       "      <td>1.0</td>\n",
       "      <td>0.999625</td>\n",
       "      <td>0.999688</td>\n",
       "      <td>0.000234</td>\n",
       "      <td>4</td>\n",
       "    </tr>\n",
       "    <tr>\n",
       "      <th>1</th>\n",
       "      <td>0.033366</td>\n",
       "      <td>0.002534</td>\n",
       "      <td>17.876721</td>\n",
       "      <td>0.032259</td>\n",
       "      <td>3</td>\n",
       "      <td>{'n_neighbors': 3}</td>\n",
       "      <td>0.999438</td>\n",
       "      <td>1.0</td>\n",
       "      <td>0.999437</td>\n",
       "      <td>0.999625</td>\n",
       "      <td>0.000265</td>\n",
       "      <td>5</td>\n",
       "    </tr>\n",
       "    <tr>\n",
       "      <th>2</th>\n",
       "      <td>0.032483</td>\n",
       "      <td>0.000412</td>\n",
       "      <td>17.735867</td>\n",
       "      <td>0.167531</td>\n",
       "      <td>5</td>\n",
       "      <td>{'n_neighbors': 5}</td>\n",
       "      <td>0.999438</td>\n",
       "      <td>1.0</td>\n",
       "      <td>0.999812</td>\n",
       "      <td>0.999750</td>\n",
       "      <td>0.000234</td>\n",
       "      <td>3</td>\n",
       "    </tr>\n",
       "    <tr>\n",
       "      <th>3</th>\n",
       "      <td>0.032828</td>\n",
       "      <td>0.000958</td>\n",
       "      <td>17.826399</td>\n",
       "      <td>0.103103</td>\n",
       "      <td>7</td>\n",
       "      <td>{'n_neighbors': 7}</td>\n",
       "      <td>0.999813</td>\n",
       "      <td>1.0</td>\n",
       "      <td>0.999812</td>\n",
       "      <td>0.999875</td>\n",
       "      <td>0.000088</td>\n",
       "      <td>2</td>\n",
       "    </tr>\n",
       "    <tr>\n",
       "      <th>4</th>\n",
       "      <td>0.033005</td>\n",
       "      <td>0.001057</td>\n",
       "      <td>15.127525</td>\n",
       "      <td>3.763987</td>\n",
       "      <td>9</td>\n",
       "      <td>{'n_neighbors': 9}</td>\n",
       "      <td>1.000000</td>\n",
       "      <td>1.0</td>\n",
       "      <td>0.999812</td>\n",
       "      <td>0.999937</td>\n",
       "      <td>0.000088</td>\n",
       "      <td>1</td>\n",
       "    </tr>\n",
       "  </tbody>\n",
       "</table>\n",
       "</div>"
      ],
      "text/plain": [
       "   mean_fit_time  std_fit_time  ...  std_test_score  rank_test_score\n",
       "0       0.040579      0.008529  ...        0.000234                4\n",
       "1       0.033366      0.002534  ...        0.000265                5\n",
       "2       0.032483      0.000412  ...        0.000234                3\n",
       "3       0.032828      0.000958  ...        0.000088                2\n",
       "4       0.033005      0.001057  ...        0.000088                1\n",
       "\n",
       "[5 rows x 12 columns]"
      ]
     },
     "execution_count": 70,
     "metadata": {
      "tags": []
     },
     "output_type": "execute_result"
    }
   ],
   "source": [
    "parameters = {'n_neighbors': [2, 3, 5, 7, 9]}\n",
    "\n",
    "\n",
    "knn_clf = KNeighborsClassifier()\n",
    "\n",
    "knn_grid_tfidf_clf = GridSearchCV(knn_clf, parameters, verbose=4, scoring='f1_macro', n_jobs=-1, cv=3)\n",
    "\n",
    "knn_grid_tfidf_clf.fit(texts_tfidf_train_matrix, y_train)\n",
    "\n",
    "pd.DataFrame(knn_grid_tfidf_clf.cv_results_)"
   ]
  },
  {
   "cell_type": "code",
   "execution_count": 87,
   "metadata": {
    "colab": {
     "base_uri": "https://localhost:8080/"
    },
    "id": "zNudmZdtZzNB",
    "outputId": "548046a1-bf87-41e0-f62c-1f230eabe65c"
   },
   "outputs": [
    {
     "name": "stdout",
     "output_type": "stream",
     "text": [
      "              precision    recall  f1-score   support\n",
      "\n",
      "           0     1.0000    0.9995    0.9997      2000\n",
      "           1     0.9995    1.0000    0.9998      2000\n",
      "\n",
      "    accuracy                         0.9998      4000\n",
      "   macro avg     0.9998    0.9998    0.9997      4000\n",
      "weighted avg     0.9998    0.9998    0.9997      4000\n",
      "\n"
     ]
    }
   ],
   "source": [
    "best_knn_clf_tfidf = KNeighborsClassifier(n_neighbors=9)\n",
    "\n",
    "best_knn_clf_tfidf.fit(texts_tfidf_train_matrix, y_train)\n",
    "\n",
    "pred_tfidf = best_knn_clf_tfidf.predict(X=texts_tfidf_test_matrix)\n",
    "\n",
    "best_knn_tfidf = classification_report(y_test, pred_tfidf, digits=4, output_dict=True)\n",
    "\n",
    "print(classification_report(y_test, pred_tfidf, digits=4))"
   ]
  },
  {
   "cell_type": "markdown",
   "metadata": {
    "id": "AFEIjMtfSmp0"
   },
   "source": [
    "## Complement Bayes with CountVectorizer"
   ]
  },
  {
   "cell_type": "code",
   "execution_count": 76,
   "metadata": {
    "colab": {
     "base_uri": "https://localhost:8080/",
     "height": 418
    },
    "id": "drq5yI9CSWW2",
    "outputId": "cc87ef35-9d95-453f-a4f7-be520e2ef7f0"
   },
   "outputs": [
    {
     "name": "stdout",
     "output_type": "stream",
     "text": [
      "Fitting 3 folds for each of 10 candidates, totalling 30 fits\n"
     ]
    },
    {
     "name": "stderr",
     "output_type": "stream",
     "text": [
      "[Parallel(n_jobs=-1)]: Using backend LokyBackend with 2 concurrent workers.\n",
      "[Parallel(n_jobs=-1)]: Done  21 tasks      | elapsed:    2.5s\n",
      "[Parallel(n_jobs=-1)]: Done  30 out of  30 | elapsed:    3.0s finished\n"
     ]
    },
    {
     "data": {
      "text/html": [
       "<div>\n",
       "<style scoped>\n",
       "    .dataframe tbody tr th:only-of-type {\n",
       "        vertical-align: middle;\n",
       "    }\n",
       "\n",
       "    .dataframe tbody tr th {\n",
       "        vertical-align: top;\n",
       "    }\n",
       "\n",
       "    .dataframe thead th {\n",
       "        text-align: right;\n",
       "    }\n",
       "</style>\n",
       "<table border=\"1\" class=\"dataframe\">\n",
       "  <thead>\n",
       "    <tr style=\"text-align: right;\">\n",
       "      <th></th>\n",
       "      <th>mean_fit_time</th>\n",
       "      <th>std_fit_time</th>\n",
       "      <th>mean_score_time</th>\n",
       "      <th>std_score_time</th>\n",
       "      <th>param_alpha</th>\n",
       "      <th>param_norm</th>\n",
       "      <th>params</th>\n",
       "      <th>split0_test_score</th>\n",
       "      <th>split1_test_score</th>\n",
       "      <th>split2_test_score</th>\n",
       "      <th>mean_test_score</th>\n",
       "      <th>std_test_score</th>\n",
       "      <th>rank_test_score</th>\n",
       "    </tr>\n",
       "  </thead>\n",
       "  <tbody>\n",
       "    <tr>\n",
       "      <th>0</th>\n",
       "      <td>0.082283</td>\n",
       "      <td>0.006767</td>\n",
       "      <td>0.022128</td>\n",
       "      <td>0.001450</td>\n",
       "      <td>0</td>\n",
       "      <td>True</td>\n",
       "      <td>{'alpha': 0, 'norm': True}</td>\n",
       "      <td>0.812293</td>\n",
       "      <td>0.783548</td>\n",
       "      <td>0.806871</td>\n",
       "      <td>0.800904</td>\n",
       "      <td>0.012471</td>\n",
       "      <td>10</td>\n",
       "    </tr>\n",
       "    <tr>\n",
       "      <th>1</th>\n",
       "      <td>0.071416</td>\n",
       "      <td>0.003475</td>\n",
       "      <td>0.025980</td>\n",
       "      <td>0.003800</td>\n",
       "      <td>0</td>\n",
       "      <td>False</td>\n",
       "      <td>{'alpha': 0, 'norm': False}</td>\n",
       "      <td>0.928691</td>\n",
       "      <td>0.930947</td>\n",
       "      <td>0.926784</td>\n",
       "      <td>0.928808</td>\n",
       "      <td>0.001702</td>\n",
       "      <td>9</td>\n",
       "    </tr>\n",
       "    <tr>\n",
       "      <th>2</th>\n",
       "      <td>0.071194</td>\n",
       "      <td>0.004742</td>\n",
       "      <td>0.024543</td>\n",
       "      <td>0.004015</td>\n",
       "      <td>0.5</td>\n",
       "      <td>True</td>\n",
       "      <td>{'alpha': 0.5, 'norm': True}</td>\n",
       "      <td>0.980127</td>\n",
       "      <td>0.978808</td>\n",
       "      <td>0.980686</td>\n",
       "      <td>0.979873</td>\n",
       "      <td>0.000787</td>\n",
       "      <td>8</td>\n",
       "    </tr>\n",
       "    <tr>\n",
       "      <th>3</th>\n",
       "      <td>0.074546</td>\n",
       "      <td>0.007701</td>\n",
       "      <td>0.025762</td>\n",
       "      <td>0.003408</td>\n",
       "      <td>0.5</td>\n",
       "      <td>False</td>\n",
       "      <td>{'alpha': 0.5, 'norm': False}</td>\n",
       "      <td>0.979939</td>\n",
       "      <td>0.979184</td>\n",
       "      <td>0.980686</td>\n",
       "      <td>0.979936</td>\n",
       "      <td>0.000613</td>\n",
       "      <td>7</td>\n",
       "    </tr>\n",
       "    <tr>\n",
       "      <th>4</th>\n",
       "      <td>0.081686</td>\n",
       "      <td>0.010859</td>\n",
       "      <td>0.023026</td>\n",
       "      <td>0.002556</td>\n",
       "      <td>1</td>\n",
       "      <td>True</td>\n",
       "      <td>{'alpha': 1, 'norm': True}</td>\n",
       "      <td>0.981252</td>\n",
       "      <td>0.981810</td>\n",
       "      <td>0.982936</td>\n",
       "      <td>0.981999</td>\n",
       "      <td>0.000700</td>\n",
       "      <td>5</td>\n",
       "    </tr>\n",
       "    <tr>\n",
       "      <th>5</th>\n",
       "      <td>0.074433</td>\n",
       "      <td>0.000955</td>\n",
       "      <td>0.024953</td>\n",
       "      <td>0.004297</td>\n",
       "      <td>1</td>\n",
       "      <td>False</td>\n",
       "      <td>{'alpha': 1, 'norm': False}</td>\n",
       "      <td>0.981439</td>\n",
       "      <td>0.980497</td>\n",
       "      <td>0.981811</td>\n",
       "      <td>0.981249</td>\n",
       "      <td>0.000553</td>\n",
       "      <td>6</td>\n",
       "    </tr>\n",
       "    <tr>\n",
       "      <th>6</th>\n",
       "      <td>0.076517</td>\n",
       "      <td>0.001306</td>\n",
       "      <td>0.021385</td>\n",
       "      <td>0.000913</td>\n",
       "      <td>2</td>\n",
       "      <td>True</td>\n",
       "      <td>{'alpha': 2, 'norm': True}</td>\n",
       "      <td>0.983314</td>\n",
       "      <td>0.983310</td>\n",
       "      <td>0.984061</td>\n",
       "      <td>0.983562</td>\n",
       "      <td>0.000353</td>\n",
       "      <td>3</td>\n",
       "    </tr>\n",
       "    <tr>\n",
       "      <th>7</th>\n",
       "      <td>0.071744</td>\n",
       "      <td>0.003374</td>\n",
       "      <td>0.026582</td>\n",
       "      <td>0.003688</td>\n",
       "      <td>2</td>\n",
       "      <td>False</td>\n",
       "      <td>{'alpha': 2, 'norm': False}</td>\n",
       "      <td>0.982939</td>\n",
       "      <td>0.982560</td>\n",
       "      <td>0.983311</td>\n",
       "      <td>0.982937</td>\n",
       "      <td>0.000307</td>\n",
       "      <td>4</td>\n",
       "    </tr>\n",
       "    <tr>\n",
       "      <th>8</th>\n",
       "      <td>0.075935</td>\n",
       "      <td>0.005429</td>\n",
       "      <td>0.025764</td>\n",
       "      <td>0.003974</td>\n",
       "      <td>4</td>\n",
       "      <td>True</td>\n",
       "      <td>{'alpha': 4, 'norm': True}</td>\n",
       "      <td>0.984064</td>\n",
       "      <td>0.984811</td>\n",
       "      <td>0.985749</td>\n",
       "      <td>0.984874</td>\n",
       "      <td>0.000689</td>\n",
       "      <td>1</td>\n",
       "    </tr>\n",
       "    <tr>\n",
       "      <th>9</th>\n",
       "      <td>0.088978</td>\n",
       "      <td>0.009061</td>\n",
       "      <td>0.020555</td>\n",
       "      <td>0.001498</td>\n",
       "      <td>4</td>\n",
       "      <td>False</td>\n",
       "      <td>{'alpha': 4, 'norm': False}</td>\n",
       "      <td>0.984439</td>\n",
       "      <td>0.983497</td>\n",
       "      <td>0.985186</td>\n",
       "      <td>0.984374</td>\n",
       "      <td>0.000691</td>\n",
       "      <td>2</td>\n",
       "    </tr>\n",
       "  </tbody>\n",
       "</table>\n",
       "</div>"
      ],
      "text/plain": [
       "   mean_fit_time  std_fit_time  ...  std_test_score  rank_test_score\n",
       "0       0.082283      0.006767  ...        0.012471               10\n",
       "1       0.071416      0.003475  ...        0.001702                9\n",
       "2       0.071194      0.004742  ...        0.000787                8\n",
       "3       0.074546      0.007701  ...        0.000613                7\n",
       "4       0.081686      0.010859  ...        0.000700                5\n",
       "5       0.074433      0.000955  ...        0.000553                6\n",
       "6       0.076517      0.001306  ...        0.000353                3\n",
       "7       0.071744      0.003374  ...        0.000307                4\n",
       "8       0.075935      0.005429  ...        0.000689                1\n",
       "9       0.088978      0.009061  ...        0.000691                2\n",
       "\n",
       "[10 rows x 13 columns]"
      ]
     },
     "execution_count": 76,
     "metadata": {
      "tags": []
     },
     "output_type": "execute_result"
    }
   ],
   "source": [
    "from sklearn.naive_bayes import ComplementNB\n",
    "\n",
    "parameters = {'alpha': [0, 0.5, 1, 2, 4], 'norm': [True, False]}\n",
    "\n",
    "comp_clf = ComplementNB()\n",
    "\n",
    "comp_grid_count_clf = GridSearchCV(comp_clf, parameters, verbose=4, scoring='f1_macro', n_jobs=-1, cv=3)\n",
    "\n",
    "comp_grid_count_clf.fit(texts_count_train_matrix, y_train)\n",
    "\n",
    "pd.DataFrame(comp_grid_count_clf.cv_results_)"
   ]
  },
  {
   "cell_type": "code",
   "execution_count": 84,
   "metadata": {
    "colab": {
     "base_uri": "https://localhost:8080/"
    },
    "id": "zHDBWxIaa_iJ",
    "outputId": "50b01ba0-4cfa-43c1-8012-d6beab5e1a44"
   },
   "outputs": [
    {
     "name": "stdout",
     "output_type": "stream",
     "text": [
      "              precision    recall  f1-score   support\n",
      "\n",
      "           0     0.9899    0.9810    0.9854      2000\n",
      "           1     0.9812    0.9900    0.9856      2000\n",
      "\n",
      "    accuracy                         0.9855      4000\n",
      "   macro avg     0.9855    0.9855    0.9855      4000\n",
      "weighted avg     0.9855    0.9855    0.9855      4000\n",
      "\n"
     ]
    }
   ],
   "source": [
    "comp_clf = ComplementNB(alpha=4, norm=True)\n",
    "\n",
    "comp_clf.fit(texts_count_train_matrix, y_train)\n",
    "bayes_pred = comp_clf.predict(X=texts_count_test_matrix)\n",
    "\n",
    "best_comp_count = classification_report(y_test, bayes_pred, digits=4, output_dict=True)\n",
    "\n",
    "print(classification_report(y_test, bayes_pred, digits=4))"
   ]
  },
  {
   "cell_type": "markdown",
   "metadata": {
    "id": "qLBlohhrTCvz"
   },
   "source": [
    "## Complement Bayes with TfidfVectorizer"
   ]
  },
  {
   "cell_type": "code",
   "execution_count": 78,
   "metadata": {
    "colab": {
     "base_uri": "https://localhost:8080/",
     "height": 401
    },
    "id": "bG005uatS-6F",
    "outputId": "6594777a-4346-4bdd-e5bb-6778302ed2a5"
   },
   "outputs": [
    {
     "name": "stdout",
     "output_type": "stream",
     "text": [
      "Fitting 3 folds for each of 10 candidates, totalling 30 fits\n"
     ]
    },
    {
     "name": "stderr",
     "output_type": "stream",
     "text": [
      "[Parallel(n_jobs=-1)]: Using backend LokyBackend with 2 concurrent workers.\n",
      "[Parallel(n_jobs=-1)]: Done  30 out of  30 | elapsed:    1.7s finished\n"
     ]
    },
    {
     "data": {
      "text/html": [
       "<div>\n",
       "<style scoped>\n",
       "    .dataframe tbody tr th:only-of-type {\n",
       "        vertical-align: middle;\n",
       "    }\n",
       "\n",
       "    .dataframe tbody tr th {\n",
       "        vertical-align: top;\n",
       "    }\n",
       "\n",
       "    .dataframe thead th {\n",
       "        text-align: right;\n",
       "    }\n",
       "</style>\n",
       "<table border=\"1\" class=\"dataframe\">\n",
       "  <thead>\n",
       "    <tr style=\"text-align: right;\">\n",
       "      <th></th>\n",
       "      <th>mean_fit_time</th>\n",
       "      <th>std_fit_time</th>\n",
       "      <th>mean_score_time</th>\n",
       "      <th>std_score_time</th>\n",
       "      <th>param_alpha</th>\n",
       "      <th>param_norm</th>\n",
       "      <th>params</th>\n",
       "      <th>split0_test_score</th>\n",
       "      <th>split1_test_score</th>\n",
       "      <th>split2_test_score</th>\n",
       "      <th>mean_test_score</th>\n",
       "      <th>std_test_score</th>\n",
       "      <th>rank_test_score</th>\n",
       "    </tr>\n",
       "  </thead>\n",
       "  <tbody>\n",
       "    <tr>\n",
       "      <th>0</th>\n",
       "      <td>0.083233</td>\n",
       "      <td>0.002153</td>\n",
       "      <td>0.024081</td>\n",
       "      <td>0.002496</td>\n",
       "      <td>0</td>\n",
       "      <td>True</td>\n",
       "      <td>{'alpha': 0, 'norm': True}</td>\n",
       "      <td>0.703004</td>\n",
       "      <td>0.674528</td>\n",
       "      <td>0.706436</td>\n",
       "      <td>0.694656</td>\n",
       "      <td>0.014301</td>\n",
       "      <td>10</td>\n",
       "    </tr>\n",
       "    <tr>\n",
       "      <th>1</th>\n",
       "      <td>0.087036</td>\n",
       "      <td>0.004704</td>\n",
       "      <td>0.029833</td>\n",
       "      <td>0.002978</td>\n",
       "      <td>0</td>\n",
       "      <td>False</td>\n",
       "      <td>{'alpha': 0, 'norm': False}</td>\n",
       "      <td>0.946349</td>\n",
       "      <td>0.949166</td>\n",
       "      <td>0.946147</td>\n",
       "      <td>0.947221</td>\n",
       "      <td>0.001378</td>\n",
       "      <td>9</td>\n",
       "    </tr>\n",
       "    <tr>\n",
       "      <th>2</th>\n",
       "      <td>0.077481</td>\n",
       "      <td>0.006106</td>\n",
       "      <td>0.025016</td>\n",
       "      <td>0.003635</td>\n",
       "      <td>0.5</td>\n",
       "      <td>True</td>\n",
       "      <td>{'alpha': 0.5, 'norm': True}</td>\n",
       "      <td>0.973736</td>\n",
       "      <td>0.969031</td>\n",
       "      <td>0.976737</td>\n",
       "      <td>0.973168</td>\n",
       "      <td>0.003172</td>\n",
       "      <td>5</td>\n",
       "    </tr>\n",
       "    <tr>\n",
       "      <th>3</th>\n",
       "      <td>0.077322</td>\n",
       "      <td>0.002169</td>\n",
       "      <td>0.023997</td>\n",
       "      <td>0.002036</td>\n",
       "      <td>0.5</td>\n",
       "      <td>False</td>\n",
       "      <td>{'alpha': 0.5, 'norm': False}</td>\n",
       "      <td>0.984249</td>\n",
       "      <td>0.980680</td>\n",
       "      <td>0.985184</td>\n",
       "      <td>0.983371</td>\n",
       "      <td>0.001941</td>\n",
       "      <td>1</td>\n",
       "    </tr>\n",
       "    <tr>\n",
       "      <th>4</th>\n",
       "      <td>0.083339</td>\n",
       "      <td>0.006933</td>\n",
       "      <td>0.023331</td>\n",
       "      <td>0.001769</td>\n",
       "      <td>1</td>\n",
       "      <td>True</td>\n",
       "      <td>{'alpha': 1, 'norm': True}</td>\n",
       "      <td>0.974487</td>\n",
       "      <td>0.970159</td>\n",
       "      <td>0.977112</td>\n",
       "      <td>0.973919</td>\n",
       "      <td>0.002867</td>\n",
       "      <td>4</td>\n",
       "    </tr>\n",
       "    <tr>\n",
       "      <th>5</th>\n",
       "      <td>0.074882</td>\n",
       "      <td>0.002866</td>\n",
       "      <td>0.025482</td>\n",
       "      <td>0.004060</td>\n",
       "      <td>1</td>\n",
       "      <td>False</td>\n",
       "      <td>{'alpha': 1, 'norm': False}</td>\n",
       "      <td>0.982935</td>\n",
       "      <td>0.978427</td>\n",
       "      <td>0.983683</td>\n",
       "      <td>0.981681</td>\n",
       "      <td>0.002322</td>\n",
       "      <td>2</td>\n",
       "    </tr>\n",
       "    <tr>\n",
       "      <th>6</th>\n",
       "      <td>0.072398</td>\n",
       "      <td>0.003656</td>\n",
       "      <td>0.026683</td>\n",
       "      <td>0.002331</td>\n",
       "      <td>2</td>\n",
       "      <td>True</td>\n",
       "      <td>{'alpha': 2, 'norm': True}</td>\n",
       "      <td>0.973172</td>\n",
       "      <td>0.967338</td>\n",
       "      <td>0.975234</td>\n",
       "      <td>0.971914</td>\n",
       "      <td>0.003344</td>\n",
       "      <td>7</td>\n",
       "    </tr>\n",
       "    <tr>\n",
       "      <th>7</th>\n",
       "      <td>0.073242</td>\n",
       "      <td>0.003548</td>\n",
       "      <td>0.030089</td>\n",
       "      <td>0.005934</td>\n",
       "      <td>2</td>\n",
       "      <td>False</td>\n",
       "      <td>{'alpha': 2, 'norm': False}</td>\n",
       "      <td>0.979557</td>\n",
       "      <td>0.975045</td>\n",
       "      <td>0.982369</td>\n",
       "      <td>0.978990</td>\n",
       "      <td>0.003017</td>\n",
       "      <td>3</td>\n",
       "    </tr>\n",
       "    <tr>\n",
       "      <th>8</th>\n",
       "      <td>0.076986</td>\n",
       "      <td>0.004502</td>\n",
       "      <td>0.026368</td>\n",
       "      <td>0.002535</td>\n",
       "      <td>4</td>\n",
       "      <td>True</td>\n",
       "      <td>{'alpha': 4, 'norm': True}</td>\n",
       "      <td>0.968285</td>\n",
       "      <td>0.964327</td>\n",
       "      <td>0.971663</td>\n",
       "      <td>0.968092</td>\n",
       "      <td>0.002998</td>\n",
       "      <td>8</td>\n",
       "    </tr>\n",
       "    <tr>\n",
       "      <th>9</th>\n",
       "      <td>0.075503</td>\n",
       "      <td>0.006863</td>\n",
       "      <td>0.024912</td>\n",
       "      <td>0.006045</td>\n",
       "      <td>4</td>\n",
       "      <td>False</td>\n",
       "      <td>{'alpha': 4, 'norm': False}</td>\n",
       "      <td>0.973547</td>\n",
       "      <td>0.968843</td>\n",
       "      <td>0.976736</td>\n",
       "      <td>0.973042</td>\n",
       "      <td>0.003242</td>\n",
       "      <td>6</td>\n",
       "    </tr>\n",
       "  </tbody>\n",
       "</table>\n",
       "</div>"
      ],
      "text/plain": [
       "   mean_fit_time  std_fit_time  ...  std_test_score  rank_test_score\n",
       "0       0.083233      0.002153  ...        0.014301               10\n",
       "1       0.087036      0.004704  ...        0.001378                9\n",
       "2       0.077481      0.006106  ...        0.003172                5\n",
       "3       0.077322      0.002169  ...        0.001941                1\n",
       "4       0.083339      0.006933  ...        0.002867                4\n",
       "5       0.074882      0.002866  ...        0.002322                2\n",
       "6       0.072398      0.003656  ...        0.003344                7\n",
       "7       0.073242      0.003548  ...        0.003017                3\n",
       "8       0.076986      0.004502  ...        0.002998                8\n",
       "9       0.075503      0.006863  ...        0.003242                6\n",
       "\n",
       "[10 rows x 13 columns]"
      ]
     },
     "execution_count": 78,
     "metadata": {
      "tags": []
     },
     "output_type": "execute_result"
    }
   ],
   "source": [
    "parameters = {'alpha': [0, 0.5, 1, 2, 4], 'norm': [True, False]}\n",
    "\n",
    "comp_clf = ComplementNB()\n",
    "\n",
    "comp_grid_tfidf_clf = GridSearchCV(comp_clf, parameters, verbose=4, scoring='f1_macro', n_jobs=-1, cv=3)\n",
    "\n",
    "comp_grid_tfidf_clf.fit(texts_tfidf_train_matrix, y_train)\n",
    "\n",
    "pd.DataFrame(comp_grid_tfidf_clf.cv_results_)\n"
   ]
  },
  {
   "cell_type": "code",
   "execution_count": 86,
   "metadata": {
    "colab": {
     "base_uri": "https://localhost:8080/"
    },
    "id": "054W4eeXXioi",
    "outputId": "864300fa-6c2f-4424-f285-2055b21df97c"
   },
   "outputs": [
    {
     "name": "stdout",
     "output_type": "stream",
     "text": [
      "              precision    recall  f1-score   support\n",
      "\n",
      "           0     0.9974    0.9735    0.9853      2000\n",
      "           1     0.9741    0.9975    0.9857      2000\n",
      "\n",
      "    accuracy                         0.9855      4000\n",
      "   macro avg     0.9858    0.9855    0.9855      4000\n",
      "weighted avg     0.9858    0.9855    0.9855      4000\n",
      "\n"
     ]
    }
   ],
   "source": [
    "comp_clf_tfidf = ComplementNB(alpha=0.5, norm=False)\n",
    "\n",
    "comp_clf_tfidf.fit(texts_tfidf_train_matrix, y_train)\n",
    "bayes_pred_tfidf = comp_clf_tfidf.predict(X=texts_tfidf_test_matrix)\n",
    "\n",
    "best_comp_tfidf = classification_report(y_test, bayes_pred_tfidf, digits=4, output_dict=True)\n",
    "\n",
    "print(classification_report(y_test, bayes_pred_tfidf, digits=4))"
   ]
  },
  {
   "cell_type": "markdown",
   "metadata": {
    "id": "ujufO7Wvgqcd"
   },
   "source": [
    "## Итоговое способов"
   ]
  },
  {
   "cell_type": "code",
   "execution_count": 110,
   "metadata": {
    "colab": {
     "base_uri": "https://localhost:8080/",
     "height": 167
    },
    "id": "RM0OlihadSiz",
    "outputId": "1b98369e-2f05-467a-bc09-08622fac1eed"
   },
   "outputs": [
    {
     "data": {
      "text/html": [
       "<div>\n",
       "<style scoped>\n",
       "    .dataframe tbody tr th:only-of-type {\n",
       "        vertical-align: middle;\n",
       "    }\n",
       "\n",
       "    .dataframe tbody tr th {\n",
       "        vertical-align: top;\n",
       "    }\n",
       "\n",
       "    .dataframe thead th {\n",
       "        text-align: right;\n",
       "    }\n",
       "</style>\n",
       "<table border=\"1\" class=\"dataframe\">\n",
       "  <thead>\n",
       "    <tr style=\"text-align: right;\">\n",
       "      <th></th>\n",
       "      <th>labels</th>\n",
       "      <th>f1-score macro avg</th>\n",
       "      <th>precision macro</th>\n",
       "      <th>recall_macro</th>\n",
       "    </tr>\n",
       "  </thead>\n",
       "  <tbody>\n",
       "    <tr>\n",
       "      <th>0</th>\n",
       "      <td>KNeighborsClassifier TfidfVectorizer</td>\n",
       "      <td>0.999750</td>\n",
       "      <td>0.999750</td>\n",
       "      <td>0.99975</td>\n",
       "    </tr>\n",
       "    <tr>\n",
       "      <th>1</th>\n",
       "      <td>ComplementNB CountVectorizer</td>\n",
       "      <td>0.985500</td>\n",
       "      <td>0.985539</td>\n",
       "      <td>0.98550</td>\n",
       "    </tr>\n",
       "    <tr>\n",
       "      <th>2</th>\n",
       "      <td>ComplementNB TfidfVectorizer</td>\n",
       "      <td>0.985498</td>\n",
       "      <td>0.985780</td>\n",
       "      <td>0.98550</td>\n",
       "    </tr>\n",
       "    <tr>\n",
       "      <th>3</th>\n",
       "      <td>KNeighborsClassifier CountVectorizer</td>\n",
       "      <td>0.981245</td>\n",
       "      <td>0.981791</td>\n",
       "      <td>0.98125</td>\n",
       "    </tr>\n",
       "  </tbody>\n",
       "</table>\n",
       "</div>"
      ],
      "text/plain": [
       "                                 labels  ...  recall_macro\n",
       "0  KNeighborsClassifier TfidfVectorizer  ...       0.99975\n",
       "1          ComplementNB CountVectorizer  ...       0.98550\n",
       "2          ComplementNB TfidfVectorizer  ...       0.98550\n",
       "3  KNeighborsClassifier CountVectorizer  ...       0.98125\n",
       "\n",
       "[4 rows x 4 columns]"
      ]
     },
     "execution_count": 110,
     "metadata": {
      "tags": []
     },
     "output_type": "execute_result"
    }
   ],
   "source": [
    "best_comp_count['macro avg']\n",
    "\n",
    "models = ['ComplementNB CountVectorizer', 'ComplementNB TfidfVectorizer', 'KNeighborsClassifier CountVectorizer', 'KNeighborsClassifier TfidfVectorizer']\n",
    "f1 = []\n",
    "precision = []\n",
    "recall = []\n",
    "\n",
    "best_comp_count['macro avg']['f1-score']\n",
    "\n",
    "for enum, i in enumerate([best_comp_count, best_comp_tfidf, best_knn_count, best_knn_tfidf]):\n",
    "  # print(enum)\n",
    "  f1.append(i['macro avg']['f1-score'])\n",
    "  precision.append(i['macro avg']['precision'])\n",
    "  recall.append(i['macro avg']['recall'])\n",
    "\n",
    "pd.DataFrame({'labels':models, 'f1-score macro avg': f1, 'precision macro': precision, 'recall_macro': recall}).sort_values(by='f1-score macro avg', ascending=False).reset_index(drop=True)"
   ]
  }
 ],
 "metadata": {
  "colab": {
   "collapsed_sections": [],
   "name": "MMO_RK2.ipynb",
   "provenance": [],
   "toc_visible": true
  },
  "kernelspec": {
   "display_name": "Python 3",
   "language": "python",
   "name": "python3"
  },
  "language_info": {
   "codemirror_mode": {
    "name": "ipython",
    "version": 3
   },
   "file_extension": ".py",
   "mimetype": "text/x-python",
   "name": "python",
   "nbconvert_exporter": "python",
   "pygments_lexer": "ipython3",
   "version": "3.6.5"
  }
 },
 "nbformat": 4,
 "nbformat_minor": 1
}
