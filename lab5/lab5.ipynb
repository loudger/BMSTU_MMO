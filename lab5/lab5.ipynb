{
 "cells": [
  {
   "cell_type": "code",
   "execution_count": 39,
   "id": "70ed5a1c",
   "metadata": {},
   "outputs": [],
   "source": [
    "text = \"Варенька, такая милая, добродушная и отзывчивая девушка, глаза которой всегда лучились добротой и теплом, с невозмутимым видом сущего демона шла к бару «Гадкий Гарри» с автоматом Томпсона наперевес, готовая укатать в асфальт этих мерзких, грязных, вонючих и скользких типов, посмевших пялиться на ее прелести и пускать похотливые слюни.\"\n",
    "# text = \" Это было на рассвете. Я стоял на назначенном месте с моими тремя секундантами. С неизъяснимым нетерпением ожидал я моего приятеля. Я увидел его издали. Он шёл пешком, с мундиром на сабле, сопровождаемый одним секундантом. Мы пошли к нему навстречу. Он приближался, держа фуражку, наполненную черешнями. Секунданты отмерили нам двенадцать шагов. Мне должно было стрелять первому: но волнение злобы во мне было столь сильно, что я не понадеялся на верность руки и, чтобы дать себе время остыть, уступал ему первый выстрел; противник мой не соглашался. Положили бросить жребий: первый нумер достался ему, вечному любимцу счастия. Он прицелился и прострелил мне фуражку. Очередь была за мною. Жизнь его наконец была в моих руках; я глядел на него жадно, стараясь уловить хотя одну тень беспокойства... Он стоял под пистолетом, выбирая из фуражки спелые черешни и выплёвывая косточки, которые долетали до меня. Его равнодушие взбесило меня. Что пользы мне, подумал я, лишить его жизни, когда он ею вовсе не дорожит? Злобная мысль мелькнула в уме моём. Я опустил пистолет.\""
   ]
  },
  {
   "cell_type": "code",
   "execution_count": 40,
   "id": "71c46369",
   "metadata": {},
   "outputs": [
    {
     "name": "stdout",
     "output_type": "stream",
     "text": [
      "Requirement already satisfied: nltk in c:\\users\\arthur\\appdata\\local\\programs\\python\\python36\\lib\\site-packages (3.6.2)"
     ]
    },
    {
     "name": "stderr",
     "output_type": "stream",
     "text": [
      "WARNING: You are using pip version 21.0.1; however, version 21.1.1 is available.\n",
      "You should consider upgrading via the 'c:\\users\\arthur\\appdata\\local\\programs\\python\\python36\\python.exe -m pip install --upgrade pip' command.\n"
     ]
    },
    {
     "name": "stdout",
     "output_type": "stream",
     "text": [
      "\n",
      "Requirement already satisfied: joblib in c:\\users\\arthur\\appdata\\local\\programs\\python\\python36\\lib\\site-packages (from nltk) (1.0.1)\n",
      "Requirement already satisfied: click in c:\\users\\arthur\\appdata\\local\\programs\\python\\python36\\lib\\site-packages (from nltk) (7.1.2)\n",
      "Requirement already satisfied: regex in c:\\users\\arthur\\appdata\\local\\programs\\python\\python36\\lib\\site-packages (from nltk) (2021.4.4)\n",
      "Requirement already satisfied: tqdm in c:\\users\\arthur\\appdata\\local\\programs\\python\\python36\\lib\\site-packages (from nltk) (4.60.0)\n",
      "Requirement already satisfied: spacy in c:\\users\\arthur\\appdata\\local\\programs\\python\\python36\\lib\\site-packages (3.0.6)\n",
      "Requirement already satisfied: srsly<3.0.0,>=2.4.1 in c:\\users\\arthur\\appdata\\local\\programs\\python\\python36\\lib\\site-packages (from spacy) (2.4.1)\n",
      "Requirement already satisfied: pathy>=0.3.5 in c:\\users\\arthur\\appdata\\local\\programs\\python\\python36\\lib\\site-packages (from spacy) (0.5.2)\n",
      "Requirement already satisfied: spacy-legacy<3.1.0,>=3.0.4 in c:\\users\\arthur\\appdata\\local\\programs\\python\\python36\\lib\\site-packages (from spacy) (3.0.5)\n",
      "Requirement already satisfied: wasabi<1.1.0,>=0.8.1 in c:\\users\\arthur\\appdata\\local\\programs\\python\\python36\\lib\\site-packages (from spacy) (0.8.2)\n",
      "Requirement already satisfied: thinc<8.1.0,>=8.0.3 in c:\\users\\arthur\\appdata\\local\\programs\\python\\python36\\lib\\site-packages (from spacy) (8.0.3)\n",
      "Requirement already satisfied: cymem<2.1.0,>=2.0.2 in c:\\users\\arthur\\appdata\\local\\programs\\python\\python36\\lib\\site-packages (from spacy) (2.0.5)\n",
      "Requirement already satisfied: jinja2 in c:\\users\\arthur\\appdata\\local\\programs\\python\\python36\\lib\\site-packages (from spacy) (2.11.3)\n",
      "Requirement already satisfied: murmurhash<1.1.0,>=0.28.0 in c:\\users\\arthur\\appdata\\local\\programs\\python\\python36\\lib\\site-packages (from spacy) (1.0.5)\n",
      "Requirement already satisfied: tqdm<5.0.0,>=4.38.0 in c:\\users\\arthur\\appdata\\local\\programs\\python\\python36\\lib\\site-packages (from spacy) (4.60.0)\n",
      "Requirement already satisfied: typing-extensions<4.0.0.0,>=3.7.4 in c:\\users\\arthur\\appdata\\local\\programs\\python\\python36\\lib\\site-packages (from spacy) (3.7.4.3)\n",
      "Requirement already satisfied: numpy>=1.15.0 in c:\\users\\arthur\\appdata\\local\\programs\\python\\python36\\lib\\site-packages (from spacy) (1.19.5)\n",
      "Requirement already satisfied: blis<0.8.0,>=0.4.0 in c:\\users\\arthur\\appdata\\local\\programs\\python\\python36\\lib\\site-packages (from spacy) (0.7.4)\n",
      "Requirement already satisfied: catalogue<2.1.0,>=2.0.3 in c:\\users\\arthur\\appdata\\local\\programs\\python\\python36\\lib\\site-packages (from spacy) (2.0.4)\n",
      "Requirement already satisfied: typer<0.4.0,>=0.3.0 in c:\\users\\arthur\\appdata\\local\\programs\\python\\python36\\lib\\site-packages (from spacy) (0.3.2)\n",
      "Requirement already satisfied: requests<3.0.0,>=2.13.0 in c:\\users\\arthur\\appdata\\local\\programs\\python\\python36\\lib\\site-packages (from spacy) (2.25.1)\n",
      "Requirement already satisfied: setuptools in c:\\users\\arthur\\appdata\\local\\programs\\python\\python36\\lib\\site-packages (from spacy) (54.2.0)\n",
      "Requirement already satisfied: packaging>=20.0 in c:\\users\\arthur\\appdata\\local\\programs\\python\\python36\\lib\\site-packages (from spacy) (20.9)\n",
      "Requirement already satisfied: preshed<3.1.0,>=3.0.2 in c:\\users\\arthur\\appdata\\local\\programs\\python\\python36\\lib\\site-packages (from spacy) (3.0.5)\n",
      "Requirement already satisfied: pydantic<1.8.0,>=1.7.1 in c:\\users\\arthur\\appdata\\local\\programs\\python\\python36\\lib\\site-packages (from spacy) (1.7.4)\n",
      "Requirement already satisfied: zipp>=0.5 in c:\\users\\arthur\\appdata\\local\\programs\\python\\python36\\lib\\site-packages (from catalogue<2.1.0,>=2.0.3->spacy) (3.4.0)\n",
      "Requirement already satisfied: pyparsing>=2.0.2 in c:\\users\\arthur\\appdata\\local\\programs\\python\\python36\\lib\\site-packages (from packaging>=20.0->spacy) (2.4.7)\n",
      "Requirement already satisfied: dataclasses<1.0,>=0.6 in c:\\users\\arthur\\appdata\\local\\programs\\python\\python36\\lib\\site-packages (from pathy>=0.3.5->spacy) (0.8)\n",
      "Requirement already satisfied: smart-open<4.0.0,>=2.2.0 in c:\\users\\arthur\\appdata\\local\\programs\\python\\python36\\lib\\site-packages (from pathy>=0.3.5->spacy) (3.0.0)\n",
      "Requirement already satisfied: idna<3,>=2.5 in c:\\users\\arthur\\appdata\\local\\programs\\python\\python36\\lib\\site-packages (from requests<3.0.0,>=2.13.0->spacy) (2.10)\n",
      "Requirement already satisfied: certifi>=2017.4.17 in c:\\users\\arthur\\appdata\\local\\programs\\python\\python36\\lib\\site-packages (from requests<3.0.0,>=2.13.0->spacy) (2020.12.5)\n",
      "Requirement already satisfied: urllib3<1.27,>=1.21.1 in c:\\users\\arthur\\appdata\\local\\programs\\python\\python36\\lib\\site-packages (from requests<3.0.0,>=2.13.0->spacy) (1.26.4)\n",
      "Requirement already satisfied: chardet<5,>=3.0.2 in c:\\users\\arthur\\appdata\\local\\programs\\python\\python36\\lib\\site-packages (from requests<3.0.0,>=2.13.0->spacy) (4.0.0)\n",
      "Requirement already satisfied: contextvars<3,>=2.4 in c:\\users\\arthur\\appdata\\local\\programs\\python\\python36\\lib\\site-packages (from thinc<8.1.0,>=8.0.3->spacy) (2.4)\n",
      "Requirement already satisfied: immutables>=0.9 in c:\\users\\arthur\\appdata\\local\\programs\\python\\python36\\lib\\site-packages (from contextvars<3,>=2.4->thinc<8.1.0,>=8.0.3->spacy) (0.15)\n",
      "Requirement already satisfied: click<7.2.0,>=7.1.1 in c:\\users\\arthur\\appdata\\local\\programs\\python\\python36\\lib\\site-packages (from typer<0.4.0,>=0.3.0->spacy) (7.1.2)\n",
      "Requirement already satisfied: MarkupSafe>=0.23 in c:\\users\\arthur\\appdata\\local\\programs\\python\\python36\\lib\\site-packages (from jinja2->spacy) (1.1.1)\n"
     ]
    },
    {
     "name": "stderr",
     "output_type": "stream",
     "text": [
      "WARNING: You are using pip version 21.0.1; however, version 21.1.1 is available.\n",
      "You should consider upgrading via the 'c:\\users\\arthur\\appdata\\local\\programs\\python\\python36\\python.exe -m pip install --upgrade pip' command.\n"
     ]
    }
   ],
   "source": [
    "!pip install nltk\n",
    "!pip install spacy\n",
    "!pip install navec\n",
    "!pip install slovnet\n",
    "!pip install razdel\n",
    "!pip install natasha"
   ]
  },
  {
   "cell_type": "markdown",
   "id": "a67fe758",
   "metadata": {},
   "source": [
    "Для произвольного предложения или текста решите следующие задачи:\n",
    "\n",
    "    Токенизация. \n",
    "    Частеречная разметка.\n",
    "    Лемматизация.\n",
    "    Выделение (распознавание) именованных сущностей.\n",
    "    Разбор предложения."
   ]
  },
  {
   "cell_type": "markdown",
   "id": "97a16074",
   "metadata": {},
   "source": [
    "## Токенизация"
   ]
  },
  {
   "cell_type": "code",
   "execution_count": 41,
   "id": "2c982468",
   "metadata": {},
   "outputs": [
    {
     "name": "stderr",
     "output_type": "stream",
     "text": [
      "[nltk_data] Downloading package punkt to\n",
      "[nltk_data]     C:\\Users\\arthur\\AppData\\Roaming\\nltk_data...\n",
      "[nltk_data]   Package punkt is already up-to-date!\n"
     ]
    },
    {
     "data": {
      "text/plain": [
       "True"
      ]
     },
     "execution_count": 41,
     "metadata": {},
     "output_type": "execute_result"
    }
   ],
   "source": [
    "import nltk\n",
    "nltk.download('punkt')"
   ]
  },
  {
   "cell_type": "code",
   "execution_count": 42,
   "id": "5c455606",
   "metadata": {},
   "outputs": [
    {
     "data": {
      "text/plain": [
       "['BlanklineTokenizer',\n",
       " 'LegalitySyllableTokenizer',\n",
       " 'LineTokenizer',\n",
       " 'MWETokenizer',\n",
       " 'NLTKWordTokenizer',\n",
       " 'PunktSentenceTokenizer',\n",
       " 'RegexpTokenizer',\n",
       " 'ReppTokenizer',\n",
       " 'SExprTokenizer',\n",
       " 'SpaceTokenizer',\n",
       " 'StanfordSegmenter',\n",
       " 'SyllableTokenizer',\n",
       " 'TabTokenizer',\n",
       " 'TextTilingTokenizer',\n",
       " 'ToktokTokenizer',\n",
       " 'TreebankWordTokenizer',\n",
       " 'TweetTokenizer',\n",
       " 'WhitespaceTokenizer']"
      ]
     },
     "execution_count": 42,
     "metadata": {},
     "output_type": "execute_result"
    }
   ],
   "source": [
    "from nltk import tokenize\n",
    "dir(tokenize)[:18]"
   ]
  },
  {
   "cell_type": "code",
   "execution_count": 43,
   "id": "220ceb6f",
   "metadata": {},
   "outputs": [
    {
     "data": {
      "text/plain": [
       "['Варенька',\n",
       " ',',\n",
       " 'такая',\n",
       " 'милая',\n",
       " ',',\n",
       " 'добродушная',\n",
       " 'и',\n",
       " 'отзывчивая',\n",
       " 'девушка',\n",
       " ',',\n",
       " 'глаза',\n",
       " 'которой',\n",
       " 'всегда',\n",
       " 'лучились',\n",
       " 'добротой',\n",
       " 'и',\n",
       " 'теплом',\n",
       " ',',\n",
       " 'с',\n",
       " 'невозмутимым',\n",
       " 'видом',\n",
       " 'сущего',\n",
       " 'демона',\n",
       " 'шла',\n",
       " 'к',\n",
       " 'бару',\n",
       " '«',\n",
       " 'Гадкий',\n",
       " 'Гарри',\n",
       " '»',\n",
       " 'с',\n",
       " 'автоматом',\n",
       " 'Томпсона',\n",
       " 'наперевес',\n",
       " ',',\n",
       " 'готовая',\n",
       " 'укатать',\n",
       " 'в',\n",
       " 'асфальт',\n",
       " 'этих',\n",
       " 'мерзких',\n",
       " ',',\n",
       " 'грязных',\n",
       " ',',\n",
       " 'вонючих',\n",
       " 'и',\n",
       " 'скользких',\n",
       " 'типов',\n",
       " ',',\n",
       " 'посмевших',\n",
       " 'пялиться',\n",
       " 'на',\n",
       " 'ее',\n",
       " 'прелести',\n",
       " 'и',\n",
       " 'пускать',\n",
       " 'похотливые',\n",
       " 'слюни',\n",
       " '.']"
      ]
     },
     "execution_count": 43,
     "metadata": {},
     "output_type": "execute_result"
    }
   ],
   "source": [
    "nltk_tk_1 = nltk.WordPunctTokenizer()\n",
    "tokenized_text = nltk_tk_1.tokenize(text)\n",
    "tokenized_text"
   ]
  },
  {
   "cell_type": "code",
   "execution_count": 44,
   "id": "c54103e2",
   "metadata": {},
   "outputs": [
    {
     "name": "stdout",
     "output_type": "stream",
     "text": [
      "1\n"
     ]
    },
    {
     "data": {
      "text/plain": [
       "['Варенька, такая милая, добродушная и отзывчивая девушка, глаза которой всегда лучились добротой и теплом, с невозмутимым видом сущего демона шла к бару «Гадкий Гарри» с автоматом Томпсона наперевес, готовая укатать в асфальт этих мерзких, грязных, вонючих и скользких типов, посмевших пялиться на ее прелести и пускать похотливые слюни.']"
      ]
     },
     "execution_count": 44,
     "metadata": {},
     "output_type": "execute_result"
    }
   ],
   "source": [
    "# Токенизация по предложениям\n",
    "nltk_tk_sents = nltk.tokenize.sent_tokenize(text)\n",
    "print(len(nltk_tk_sents))\n",
    "nltk_tk_sents"
   ]
  },
  {
   "cell_type": "markdown",
   "id": "6fe8b190",
   "metadata": {},
   "source": [
    "## Частеречная разметка"
   ]
  },
  {
   "cell_type": "code",
   "execution_count": 45,
   "id": "874a351b",
   "metadata": {},
   "outputs": [
    {
     "name": "stdout",
     "output_type": "stream",
     "text": [
      "Requirement already satisfied: navec in c:\\users\\arthur\\appdata\\local\\programs\\python\\python36\\lib\\site-packages (0.10.0)\n",
      "Requirement already satisfied: numpy in c:\\users\\arthur\\appdata\\local\\programs\\python\\python36\\lib\\site-packages (from navec) (1.19.5)\n"
     ]
    },
    {
     "name": "stderr",
     "output_type": "stream",
     "text": [
      "WARNING: You are using pip version 21.0.1; however, version 21.1.1 is available.\n",
      "You should consider upgrading via the 'c:\\users\\arthur\\appdata\\local\\programs\\python\\python36\\python.exe -m pip install --upgrade pip' command.\n"
     ]
    },
    {
     "name": "stdout",
     "output_type": "stream",
     "text": [
      "Requirement already satisfied: slovnet in c:\\users\\arthur\\appdata\\local\\programs\\python\\python36\\lib\\site-packages (0.5.0)\n",
      "Requirement already satisfied: razdel in c:\\users\\arthur\\appdata\\local\\programs\\python\\python36\\lib\\site-packages (from slovnet) (0.5.0)\n",
      "Requirement already satisfied: navec in c:\\users\\arthur\\appdata\\local\\programs\\python\\python36\\lib\\site-packages (from slovnet) (0.10.0)\n",
      "Requirement already satisfied: numpy in c:\\users\\arthur\\appdata\\local\\programs\\python\\python36\\lib\\site-packages (from slovnet) (1.19.5)\n"
     ]
    },
    {
     "name": "stderr",
     "output_type": "stream",
     "text": [
      "WARNING: You are using pip version 21.0.1; however, version 21.1.1 is available.\n",
      "You should consider upgrading via the 'c:\\users\\arthur\\appdata\\local\\programs\\python\\python36\\python.exe -m pip install --upgrade pip' command.\n"
     ]
    },
    {
     "name": "stdout",
     "output_type": "stream",
     "text": [
      "Requirement already satisfied: razdel in c:\\users\\arthur\\appdata\\local\\programs\\python\\python36\\lib\\site-packages (0.5.0)\n"
     ]
    },
    {
     "name": "stderr",
     "output_type": "stream",
     "text": [
      "WARNING: You are using pip version 21.0.1; however, version 21.1.1 is available.\n",
      "You should consider upgrading via the 'c:\\users\\arthur\\appdata\\local\\programs\\python\\python36\\python.exe -m pip install --upgrade pip' command.\n"
     ]
    }
   ],
   "source": [
    "from navec import Navec\n",
    "from slovnet import Morph\n",
    "from razdel import tokenize, sentenize"
   ]
  },
  {
   "cell_type": "code",
   "execution_count": 46,
   "id": "6202f8d5",
   "metadata": {},
   "outputs": [],
   "source": [
    "# Этот вариант токенизации нужен для последующей обработки\n",
    "def n_sentenize(text):\n",
    "    n_sen_chunk = []\n",
    "    for sent in sentenize(text):\n",
    "        tokens = [_.text for _ in tokenize(sent.text)]\n",
    "        n_sen_chunk.append(tokens)\n",
    "    return n_sen_chunk"
   ]
  },
  {
   "cell_type": "code",
   "execution_count": 47,
   "id": "6f04ba43",
   "metadata": {},
   "outputs": [],
   "source": [
    "# Файл необходимо скачать по ссылке https://github.com/natasha/navec#downloads\n",
    "navec = Navec.load('navec_news_v1_1B_250K_300d_100q.tar')"
   ]
  },
  {
   "cell_type": "code",
   "execution_count": 48,
   "id": "40c6eda6",
   "metadata": {},
   "outputs": [],
   "source": [
    "n_morph = Morph.load('slovnet_morph_news_v1.tar', batch_size=4)"
   ]
  },
  {
   "cell_type": "code",
   "execution_count": 49,
   "id": "0b9480a8",
   "metadata": {},
   "outputs": [],
   "source": [
    "morph_res = n_morph.navec(navec)"
   ]
  },
  {
   "cell_type": "code",
   "execution_count": 50,
   "id": "c05e1f90",
   "metadata": {},
   "outputs": [],
   "source": [
    "def print_pos(markup):\n",
    "    for token in markup.tokens:\n",
    "        print('{} - {}'.format(token.text, token.tag))"
   ]
  },
  {
   "cell_type": "code",
   "execution_count": 51,
   "id": "0d6e20f3",
   "metadata": {},
   "outputs": [
    {
     "name": "stdout",
     "output_type": "stream",
     "text": [
      "Варенька - PROPN|Animacy=Anim|Case=Gen|Gender=Masc|Number=Sing\n",
      ", - PUNCT\n",
      "такая - DET|Case=Nom|Gender=Fem|Number=Sing\n",
      "милая - ADJ|Case=Nom|Degree=Pos|Gender=Fem|Number=Sing\n",
      ", - PUNCT\n",
      "добродушная - ADJ|Case=Nom|Degree=Pos|Gender=Fem|Number=Sing\n",
      "и - CCONJ\n",
      "отзывчивая - ADJ|Case=Nom|Degree=Pos|Gender=Fem|Number=Sing\n",
      "девушка - NOUN|Animacy=Anim|Case=Nom|Gender=Fem|Number=Sing\n",
      ", - PUNCT\n",
      "глаза - NOUN|Animacy=Inan|Case=Nom|Gender=Masc|Number=Plur\n",
      "которой - PRON|Case=Gen|Gender=Fem|Number=Sing\n",
      "всегда - ADV|Degree=Pos\n",
      "лучились - ADJ|Case=Ins|Degree=Pos|Gender=Fem|Number=Sing\n",
      "добротой - NOUN|Animacy=Inan|Case=Ins|Gender=Fem|Number=Sing\n",
      "и - CCONJ\n",
      "теплом - NOUN|Animacy=Inan|Case=Ins|Gender=Neut|Number=Sing\n",
      ", - PUNCT\n",
      "с - ADP\n",
      "невозмутимым - ADJ|Case=Ins|Degree=Pos|Gender=Masc|Number=Sing\n",
      "видом - NOUN|Animacy=Inan|Case=Ins|Gender=Masc|Number=Sing\n",
      "сущего - NOUN|Animacy=Inan|Case=Gen|Gender=Masc|Number=Sing\n",
      "демона - NOUN|Animacy=Inan|Case=Gen|Gender=Masc|Number=Sing\n",
      "шла - VERB|Aspect=Imp|Gender=Fem|Mood=Ind|Number=Sing|Tense=Past|VerbForm=Fin|Voice=Act\n",
      "к - ADP\n",
      "бару - NOUN|Animacy=Inan|Case=Dat|Gender=Masc|Number=Sing\n",
      "« - PUNCT\n",
      "Гадкий - NOUN|Animacy=Anim|Case=Nom|Gender=Masc|Number=Sing\n",
      "Гарри - PROPN|Animacy=Anim|Case=Nom|Gender=Masc|Number=Sing\n",
      "» - PUNCT\n",
      "с - ADP\n",
      "автоматом - NOUN|Animacy=Inan|Case=Ins|Gender=Masc|Number=Sing\n",
      "Томпсона - PROPN|Animacy=Anim|Case=Gen|Gender=Masc|Number=Sing\n",
      "наперевес - NOUN|Animacy=Inan|Case=Ins|Gender=Fem|Number=Sing\n",
      ", - PUNCT\n",
      "готовая - ADJ|Case=Nom|Degree=Pos|Gender=Fem|Number=Sing\n",
      "укатать - VERB|Aspect=Perf|Gender=Fem|Mood=Ind|Number=Sing|Tense=Past|VerbForm=Fin|Voice=Act\n",
      "в - ADP\n",
      "асфальт - NOUN|Animacy=Inan|Case=Acc|Gender=Masc|Number=Sing\n",
      "этих - DET|Case=Gen|Number=Plur\n",
      "мерзких - ADJ|Case=Gen|Degree=Pos|Number=Plur\n",
      ", - PUNCT\n",
      "грязных - ADJ|Case=Gen|Degree=Pos|Number=Plur\n",
      ", - PUNCT\n",
      "вонючих - ADJ|Case=Gen|Degree=Pos|Number=Plur\n",
      "и - CCONJ\n",
      "скользких - ADJ|Case=Gen|Degree=Pos|Number=Plur\n",
      "типов - NOUN|Animacy=Inan|Case=Gen|Gender=Masc|Number=Plur\n",
      ", - PUNCT\n",
      "посмевших - VERB|Aspect=Perf|Case=Gen|Number=Plur|Tense=Past|VerbForm=Part|Voice=Pass\n",
      "пялиться - NOUN|Animacy=Inan|Case=Ins|Gender=Fem|Number=Sing\n",
      "на - ADP\n",
      "ее - DET\n",
      "прелести - NOUN|Animacy=Inan|Case=Acc|Gender=Fem|Number=Plur\n",
      "и - CCONJ\n",
      "пускать - VERB|Aspect=Imp|VerbForm=Inf|Voice=Act\n",
      "похотливые - ADJ|Animacy=Inan|Case=Acc|Degree=Pos|Number=Plur\n",
      "слюни - NOUN|Animacy=Inan|Case=Acc|Gender=Fem|Number=Plur\n",
      ". - PUNCT\n"
     ]
    },
    {
     "data": {
      "text/plain": [
       "[None]"
      ]
     },
     "execution_count": 51,
     "metadata": {},
     "output_type": "execute_result"
    }
   ],
   "source": [
    "n_sen_chunk_1 = n_sentenize(text)\n",
    "n_text1_markup = list(_ for _ in n_morph.map(n_sen_chunk_1))\n",
    "[print_pos(x) for x in n_text1_markup]"
   ]
  },
  {
   "cell_type": "markdown",
   "id": "04629098",
   "metadata": {},
   "source": [
    "## Лемматизация"
   ]
  },
  {
   "cell_type": "code",
   "execution_count": 53,
   "id": "fe6a3c5c",
   "metadata": {},
   "outputs": [],
   "source": [
    "from natasha import Doc, Segmenter, NewsEmbedding, NewsMorphTagger, MorphVocab"
   ]
  },
  {
   "cell_type": "code",
   "execution_count": 54,
   "id": "edc44466",
   "metadata": {},
   "outputs": [],
   "source": [
    "def n_lemmatize(text):\n",
    "    emb = NewsEmbedding()\n",
    "    morph_tagger = NewsMorphTagger(emb)\n",
    "    segmenter = Segmenter()\n",
    "    morph_vocab = MorphVocab()\n",
    "    doc = Doc(text)\n",
    "    doc.segment(segmenter)\n",
    "    doc.tag_morph(morph_tagger)\n",
    "    for token in doc.tokens:\n",
    "        token.lemmatize(morph_vocab)\n",
    "    return doc"
   ]
  },
  {
   "cell_type": "code",
   "execution_count": 55,
   "id": "ece7f158",
   "metadata": {},
   "outputs": [
    {
     "data": {
      "text/plain": [
       "{'Варенька': 'варенька',\n",
       " ',': ',',\n",
       " 'такая': 'такой',\n",
       " 'милая': 'милый',\n",
       " 'добродушная': 'добродушный',\n",
       " 'и': 'и',\n",
       " 'отзывчивая': 'отзывчивый',\n",
       " 'девушка': 'девушка',\n",
       " 'глаза': 'глаз',\n",
       " 'которой': 'который',\n",
       " 'всегда': 'всегда',\n",
       " 'лучились': 'лучились',\n",
       " 'добротой': 'доброта',\n",
       " 'теплом': 'тепло',\n",
       " 'с': 'с',\n",
       " 'невозмутимым': 'невозмутимый',\n",
       " 'видом': 'вид',\n",
       " 'сущего': 'сущий',\n",
       " 'демона': 'демон',\n",
       " 'шла': 'идти',\n",
       " 'к': 'к',\n",
       " 'бару': 'бару',\n",
       " '«': '«',\n",
       " 'Гадкий': 'гадкий',\n",
       " 'Гарри': 'гарри',\n",
       " '»': '»',\n",
       " 'автоматом': 'автомат',\n",
       " 'Томпсона': 'томпсон',\n",
       " 'наперевес': 'наперевес',\n",
       " 'готовая': 'готовый',\n",
       " 'укатать': 'укатать',\n",
       " 'в': 'в',\n",
       " 'асфальт': 'асфальт',\n",
       " 'этих': 'этот',\n",
       " 'мерзких': 'мерзкий',\n",
       " 'грязных': 'грязный',\n",
       " 'вонючих': 'вонючий',\n",
       " 'скользких': 'скользкий',\n",
       " 'типов': 'тип',\n",
       " 'посмевших': 'посметь',\n",
       " 'пялиться': 'пялиться',\n",
       " 'на': 'на',\n",
       " 'ее': 'ее',\n",
       " 'прелести': 'прелесть',\n",
       " 'пускать': 'пускать',\n",
       " 'похотливые': 'похотливый',\n",
       " 'слюни': 'слюни',\n",
       " '.': '.'}"
      ]
     },
     "execution_count": 55,
     "metadata": {},
     "output_type": "execute_result"
    }
   ],
   "source": [
    "n_doc1 = n_lemmatize(text)\n",
    "{_.text: _.lemma for _ in n_doc1.tokens}"
   ]
  },
  {
   "cell_type": "markdown",
   "id": "41504631",
   "metadata": {},
   "source": [
    "## Выделение (распознавание) именованных сущностей"
   ]
  },
  {
   "cell_type": "code",
   "execution_count": 56,
   "id": "ed334196",
   "metadata": {},
   "outputs": [],
   "source": [
    "from slovnet import NER\n",
    "from ipymarkup import show_span_ascii_markup as show_markup"
   ]
  },
  {
   "cell_type": "code",
   "execution_count": 57,
   "id": "72b4729b",
   "metadata": {},
   "outputs": [],
   "source": [
    "ner = NER.load('slovnet_ner_news_v1.tar')\n"
   ]
  },
  {
   "cell_type": "code",
   "execution_count": 58,
   "id": "5c6252bd",
   "metadata": {},
   "outputs": [],
   "source": [
    "ner_res = ner.navec(navec)"
   ]
  },
  {
   "cell_type": "code",
   "execution_count": 59,
   "id": "bcbd65f1",
   "metadata": {},
   "outputs": [],
   "source": [
    "markup_ner = ner(text)"
   ]
  },
  {
   "cell_type": "code",
   "execution_count": 60,
   "id": "bc847e18",
   "metadata": {},
   "outputs": [
    {
     "data": {
      "text/plain": [
       "SpanMarkup(\n",
       "    text='Варенька, такая милая, добродушная и отзывчивая девушка, глаза которой всегда лучились добротой и теплом, с невозмутимым видом сущего демона шла к бару «Гадкий Гарри» с автоматом Томпсона наперевес, готовая укатать в асфальт этих мерзких, грязных, вонючих и скользких типов, посмевших пялиться на ее прелести и пускать похотливые слюни.',\n",
       "    spans=[Span(\n",
       "         start=0,\n",
       "         stop=8,\n",
       "         type='PER'\n",
       "     ),\n",
       "     Span(\n",
       "         start=179,\n",
       "         stop=187,\n",
       "         type='PER'\n",
       "     )]\n",
       ")"
      ]
     },
     "execution_count": 60,
     "metadata": {},
     "output_type": "execute_result"
    }
   ],
   "source": [
    "markup_ner"
   ]
  },
  {
   "cell_type": "code",
   "execution_count": 61,
   "id": "f045fdc9",
   "metadata": {},
   "outputs": [
    {
     "name": "stdout",
     "output_type": "stream",
     "text": [
      "Варенька, такая милая, добродушная и отзывчивая девушка, глаза которой\n",
      "PER─────                                                              \n",
      " всегда лучились добротой и теплом, с невозмутимым видом сущего демона\n",
      " шла к бару «Гадкий Гарри» с автоматом Томпсона наперевес, готовая \n",
      "                                       PER─────                    \n",
      "укатать в асфальт этих мерзких, грязных, вонючих и скользких типов, \n",
      "посмевших пялиться на ее прелести и пускать похотливые слюни.\n"
     ]
    }
   ],
   "source": [
    "show_markup(markup_ner.text, markup_ner.spans)"
   ]
  },
  {
   "cell_type": "markdown",
   "id": "9f24ad7e",
   "metadata": {},
   "source": [
    "## Разбор предложения"
   ]
  },
  {
   "cell_type": "code",
   "execution_count": 62,
   "id": "0acfb60f",
   "metadata": {},
   "outputs": [],
   "source": [
    "from natasha import NewsSyntaxParser"
   ]
  },
  {
   "cell_type": "code",
   "execution_count": 63,
   "id": "413c67c5",
   "metadata": {},
   "outputs": [],
   "source": [
    "emb = NewsEmbedding()\n",
    "syntax_parser = NewsSyntaxParser(emb)"
   ]
  },
  {
   "cell_type": "code",
   "execution_count": 64,
   "id": "4ea79d27",
   "metadata": {},
   "outputs": [
    {
     "name": "stdout",
     "output_type": "stream",
     "text": [
      "                ┌──────────────► Варенька     nsubj\n",
      "                │                ,            \n",
      "                │             ┌► такая        det\n",
      "                │         ┌►┌─└─ милая        amod\n",
      "    ┌──────────►│         │ │    ,            punct\n",
      "    │   ┌──────►│         │ │    добродушная  conj\n",
      "    │   │       │         │ │ ┌► и            cc\n",
      "    │   │       │         │ └►└─ отзывчивая   conj\n",
      "  ┌►│   │     ┌─│         └───── девушка      obj\n",
      "  │ │   │     │ │         ┌────► ,            punct\n",
      "  │ │   │     │ │         │ ┌►┌─ глаза        nsubj\n",
      "  │ │   │     │ │         │ │ └► которой      nmod\n",
      "  │ │   │     │ │         │ │ ┌► всегда       advmod\n",
      "┌─│ │   │     │ │ ┌──────►└─└─└─ лучились     acl:relcl\n",
      "│ │ │   │ ┌───│ │ │       ┌─└──► добротой     obl\n",
      "│ │ │   │ │   │ │ │       │   ┌► и            cc\n",
      "│ │ │   │ │   │ │ │       └──►└─ теплом       conj\n",
      "│ │ │   │ │ ┌►│ │ │              ,            punct\n",
      "│ │ │   │ │ │ │ │ │         ┌──► с            case\n",
      "│ │ │   │ │ │ │ │ │         │ ┌► невозмутимым amod\n",
      "│ │ │   │ │ │ │ │ │     ┌►┌─└─└─ видом        obl\n",
      "│ │ │   │ │ │ │ │ │     │ │   ┌► сущего       amod\n",
      "│ │ │   │ │ │ │ │ │     │ └──►└─ демона       nmod\n",
      "│ │ │ ┌─│ │ │ │ └─│ ┌───└───┌─── шла          \n",
      "│ │ │ │ │ │ │ │   │ │       │ ┌► к            case\n",
      "│ │ │ │ │ │ │ │   └─│ ┌───┌─└►└─ бару         obl\n",
      "│ │ │ │ │ │ │ │     │ │   │   ┌► «            punct\n",
      "│ │ │ │ │ │ │ │     │ │ ┌─└►┌─└─ Гадкий       appos\n",
      "│ │ │ │ │ │ │ │     │ │ │   └──► Гарри        flat:name\n",
      "│ │ │ │ │ │ │ │     │ │ └──────► »            punct\n",
      "│ │ │ │ │ │ │ │     │ │       ┌► с            case\n",
      "│ │ │ │ │ │ │ │     │ └────►┌─└─ автоматом    nmod\n",
      "│ │ │ │ │ │ │ │     │       └──► Томпсона     nmod\n",
      "│ │ │ │ │ │ │ │     └──────────► наперевес    obl\n",
      "│ │ │ │ │ │ │ │   ┌────────────► ,            punct\n",
      "│ │ │ │ │ │ │ │   │           ┌► готовая      nsubj\n",
      "│ │ │ │ │ │ │ └──►│         ┌─└─ укатать      acl\n",
      "│ │ │ │ │ │ │     │         │ ┌► в            case\n",
      "│ │ │ │ │ │ │     │         └►└─ асфальт      obl\n",
      "│ │ │ │ │ │ │     │ ┌──────────► этих         det\n",
      "│ │ │ │ └─│ │     │ │ ┌►┌─┌─┌─── мерзких      amod\n",
      "│ │ │ │   │ │     │ │ │ │ │ │ ┌► ,            punct\n",
      "│ │ │ │   │ │     │ │ │ │ │ └►└─ грязных      conj\n",
      "│ │ │ │   │ │     │ │ │ │ │   ┌► ,            punct\n",
      "│ │ └─│   │ │     │ │ │ │ └──►└─ вонючих      conj\n",
      "│ │   │   │ │     │ │ │ │     ┌► и            cc\n",
      "│ │   │   │ │     │ │ │ └────►└─ скользких    conj\n",
      "│ │   │   └►│     │ └─└───┌─┌─── типов        conj\n",
      "│ │   │     │     │       │ │ ┌► ,            punct\n",
      "│ └───│     └─────└─────┌─│ └►└─ посмевших    acl\n",
      "│     │                 │ └────► пялиться     acl\n",
      "│     │                 │   ┌──► на           case\n",
      "│     │                 │   │ ┌► ее           det\n",
      "│     │                 └──►└─└─ прелести     obl\n",
      "│     │                       ┌► и            cc\n",
      "└────►│                     ┌─└─ пускать      conj\n",
      "      │                     │ ┌► похотливые   amod\n",
      "      │                     └►└─ слюни        obj\n",
      "      └────────────────────────► .            punct\n"
     ]
    }
   ],
   "source": [
    "n_doc1.parse_syntax(syntax_parser)\n",
    "n_doc1.sents[0].syntax.print()"
   ]
  }
 ],
 "metadata": {
  "kernelspec": {
   "display_name": "Python 3",
   "language": "python",
   "name": "python3"
  },
  "language_info": {
   "codemirror_mode": {
    "name": "ipython",
    "version": 3
   },
   "file_extension": ".py",
   "mimetype": "text/x-python",
   "name": "python",
   "nbconvert_exporter": "python",
   "pygments_lexer": "ipython3",
   "version": "3.6.5"
  }
 },
 "nbformat": 4,
 "nbformat_minor": 5
}
