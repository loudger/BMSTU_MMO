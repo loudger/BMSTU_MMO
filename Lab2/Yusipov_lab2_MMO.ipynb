{
 "cells": [
  {
   "cell_type": "markdown",
   "id": "80174180",
   "metadata": {},
   "source": [
    "# Юсипов Артур ИУ5-24М"
   ]
  },
  {
   "cell_type": "markdown",
   "id": "6fce61dd",
   "metadata": {},
   "source": [
    "#### Короткое описание датасета\n",
    "> Прокат велосипедов в Лондоне.\n",
    "\n",
    "Данные в датасете имеют информацию о погодных условиях, дате/времени и количестве велосипедов взятых на прокат в Лондоне за несколько лет\n",
    "\n",
    "#### Описание анализируемых данных\n",
    "Год — показывает год, когда велосипед взят в аренду.\n",
    "\n",
    "Месяц — показывает месяц, когда велосипед взят в аренду.\n",
    "\n",
    "День — показывает день, когда велосипед взят в аренду.\n",
    "\n",
    "Время — показывает время в часах, когда велосипед взят в аренду.\n",
    "\n",
    "Количество велосипедов — отражает количество велосипедов, которые были взяты напрокат.\n",
    "\n",
    "Температура воздуха  — отражает температуру воздуха в градусах Цельсия.\n",
    "\n",
    "Ощущаемая температура — отражает температуру воздуха, ощущаемую человеком в градусах Цельсия.\n",
    "\n",
    "Влажность воздуха — показывает текущую влажность воздуха, выраженную в процентах.\n",
    "\n",
    "Скорость ветра — показывает скорость ветра в километрах в час.\n",
    "\n",
    "Код погоды — 1 - Ясно; 2 - Кучевые облака; 3 – Перистые облака 4 – Облачно; 7 - Дождь / Легкий дождь; 10 - Дождь с грозой; 26 – Снегопад; 94 - Замораживание тумана\n",
    "\n",
    "Праздничный ли день — отражается в датасете в качестве 0/1.\n",
    "\n",
    "Выходной ли день — отражается в датасете в качестве 0/1.\n",
    "\n",
    "Сезон - Spring. Summer. Fall. Winter\n"
   ]
  },
  {
   "cell_type": "code",
   "execution_count": 33,
   "id": "7c209c27",
   "metadata": {},
   "outputs": [],
   "source": [
    "import pandas as pd\n",
    "import numpy as np\n",
    "import matplotlib.pyplot as plt\n",
    "import scipy.stats as stats\n",
    "import seaborn as sns\n",
    "from sklearn.linear_model import Lasso\n",
    "from sklearn.feature_selection import SelectFromModel\n",
    "import sklearn"
   ]
  },
  {
   "cell_type": "code",
   "execution_count": 76,
   "id": "e5deb328",
   "metadata": {},
   "outputs": [],
   "source": [
    "data = pd.read_csv(\"london_merged.csv\")\n",
    "%matplotlib inline"
   ]
  },
  {
   "cell_type": "code",
   "execution_count": 77,
   "id": "55d978ba",
   "metadata": {},
   "outputs": [],
   "source": [
    "import random\n",
    "def set_some_nan(df, index, column):\n",
    "    if random.random() < 0.3:\n",
    "        df.at[index, column] = np.NaN"
   ]
  },
  {
   "cell_type": "code",
   "execution_count": 78,
   "id": "1c9916e0",
   "metadata": {},
   "outputs": [],
   "source": [
    "data.loc[data['season']==0, 'season'] = 'spring'\n",
    "data.loc[data['season']==1, 'season'] = 'summer'\n",
    "data.loc[data['season']==2, 'season'] = 'fall'\n",
    "data.loc[data['season']==3, 'season'] = 'winter'\n",
    "\n",
    "\n",
    "for i in range(data.shape[0]):\n",
    "    set_some_nan(data, i, 'wind_speed')\n",
    "    \n",
    "    \n",
    "data['hour'] = pd.DataFrame(data['timestamp'].apply(lambda x: pd.to_datetime(x).hour))\n",
    "\n",
    "\n",
    "# Сезон — 0-весна; 1-лето; 2-осень; 3-зима."
   ]
  },
  {
   "cell_type": "code",
   "execution_count": 79,
   "id": "b1976371",
   "metadata": {},
   "outputs": [
    {
     "data": {
      "text/html": [
       "<div>\n",
       "<style scoped>\n",
       "    .dataframe tbody tr th:only-of-type {\n",
       "        vertical-align: middle;\n",
       "    }\n",
       "\n",
       "    .dataframe tbody tr th {\n",
       "        vertical-align: top;\n",
       "    }\n",
       "\n",
       "    .dataframe thead th {\n",
       "        text-align: right;\n",
       "    }\n",
       "</style>\n",
       "<table border=\"1\" class=\"dataframe\">\n",
       "  <thead>\n",
       "    <tr style=\"text-align: right;\">\n",
       "      <th></th>\n",
       "      <th>timestamp</th>\n",
       "      <th>cnt</th>\n",
       "      <th>t1</th>\n",
       "      <th>t2</th>\n",
       "      <th>hum</th>\n",
       "      <th>wind_speed</th>\n",
       "      <th>weather_code</th>\n",
       "      <th>is_holiday</th>\n",
       "      <th>is_weekend</th>\n",
       "      <th>season</th>\n",
       "      <th>hour</th>\n",
       "    </tr>\n",
       "  </thead>\n",
       "  <tbody>\n",
       "    <tr>\n",
       "      <th>0</th>\n",
       "      <td>2015-01-04 00:00:00</td>\n",
       "      <td>182</td>\n",
       "      <td>3.0</td>\n",
       "      <td>2.0</td>\n",
       "      <td>93.0</td>\n",
       "      <td>NaN</td>\n",
       "      <td>3.0</td>\n",
       "      <td>0.0</td>\n",
       "      <td>1.0</td>\n",
       "      <td>winter</td>\n",
       "      <td>0</td>\n",
       "    </tr>\n",
       "    <tr>\n",
       "      <th>1</th>\n",
       "      <td>2015-01-04 01:00:00</td>\n",
       "      <td>138</td>\n",
       "      <td>3.0</td>\n",
       "      <td>2.5</td>\n",
       "      <td>93.0</td>\n",
       "      <td>NaN</td>\n",
       "      <td>1.0</td>\n",
       "      <td>0.0</td>\n",
       "      <td>1.0</td>\n",
       "      <td>winter</td>\n",
       "      <td>1</td>\n",
       "    </tr>\n",
       "    <tr>\n",
       "      <th>2</th>\n",
       "      <td>2015-01-04 02:00:00</td>\n",
       "      <td>134</td>\n",
       "      <td>2.5</td>\n",
       "      <td>2.5</td>\n",
       "      <td>96.5</td>\n",
       "      <td>NaN</td>\n",
       "      <td>1.0</td>\n",
       "      <td>0.0</td>\n",
       "      <td>1.0</td>\n",
       "      <td>winter</td>\n",
       "      <td>2</td>\n",
       "    </tr>\n",
       "    <tr>\n",
       "      <th>3</th>\n",
       "      <td>2015-01-04 03:00:00</td>\n",
       "      <td>72</td>\n",
       "      <td>2.0</td>\n",
       "      <td>2.0</td>\n",
       "      <td>100.0</td>\n",
       "      <td>0.0</td>\n",
       "      <td>1.0</td>\n",
       "      <td>0.0</td>\n",
       "      <td>1.0</td>\n",
       "      <td>winter</td>\n",
       "      <td>3</td>\n",
       "    </tr>\n",
       "    <tr>\n",
       "      <th>4</th>\n",
       "      <td>2015-01-04 04:00:00</td>\n",
       "      <td>47</td>\n",
       "      <td>2.0</td>\n",
       "      <td>0.0</td>\n",
       "      <td>93.0</td>\n",
       "      <td>6.5</td>\n",
       "      <td>1.0</td>\n",
       "      <td>0.0</td>\n",
       "      <td>1.0</td>\n",
       "      <td>winter</td>\n",
       "      <td>4</td>\n",
       "    </tr>\n",
       "    <tr>\n",
       "      <th>...</th>\n",
       "      <td>...</td>\n",
       "      <td>...</td>\n",
       "      <td>...</td>\n",
       "      <td>...</td>\n",
       "      <td>...</td>\n",
       "      <td>...</td>\n",
       "      <td>...</td>\n",
       "      <td>...</td>\n",
       "      <td>...</td>\n",
       "      <td>...</td>\n",
       "      <td>...</td>\n",
       "    </tr>\n",
       "    <tr>\n",
       "      <th>17409</th>\n",
       "      <td>2017-01-03 19:00:00</td>\n",
       "      <td>1042</td>\n",
       "      <td>5.0</td>\n",
       "      <td>1.0</td>\n",
       "      <td>81.0</td>\n",
       "      <td>19.0</td>\n",
       "      <td>3.0</td>\n",
       "      <td>0.0</td>\n",
       "      <td>0.0</td>\n",
       "      <td>winter</td>\n",
       "      <td>19</td>\n",
       "    </tr>\n",
       "    <tr>\n",
       "      <th>17410</th>\n",
       "      <td>2017-01-03 20:00:00</td>\n",
       "      <td>541</td>\n",
       "      <td>5.0</td>\n",
       "      <td>1.0</td>\n",
       "      <td>81.0</td>\n",
       "      <td>21.0</td>\n",
       "      <td>4.0</td>\n",
       "      <td>0.0</td>\n",
       "      <td>0.0</td>\n",
       "      <td>winter</td>\n",
       "      <td>20</td>\n",
       "    </tr>\n",
       "    <tr>\n",
       "      <th>17411</th>\n",
       "      <td>2017-01-03 21:00:00</td>\n",
       "      <td>337</td>\n",
       "      <td>5.5</td>\n",
       "      <td>1.5</td>\n",
       "      <td>78.5</td>\n",
       "      <td>NaN</td>\n",
       "      <td>4.0</td>\n",
       "      <td>0.0</td>\n",
       "      <td>0.0</td>\n",
       "      <td>winter</td>\n",
       "      <td>21</td>\n",
       "    </tr>\n",
       "    <tr>\n",
       "      <th>17412</th>\n",
       "      <td>2017-01-03 22:00:00</td>\n",
       "      <td>224</td>\n",
       "      <td>5.5</td>\n",
       "      <td>1.5</td>\n",
       "      <td>76.0</td>\n",
       "      <td>NaN</td>\n",
       "      <td>4.0</td>\n",
       "      <td>0.0</td>\n",
       "      <td>0.0</td>\n",
       "      <td>winter</td>\n",
       "      <td>22</td>\n",
       "    </tr>\n",
       "    <tr>\n",
       "      <th>17413</th>\n",
       "      <td>2017-01-03 23:00:00</td>\n",
       "      <td>139</td>\n",
       "      <td>5.0</td>\n",
       "      <td>1.0</td>\n",
       "      <td>76.0</td>\n",
       "      <td>22.0</td>\n",
       "      <td>2.0</td>\n",
       "      <td>0.0</td>\n",
       "      <td>0.0</td>\n",
       "      <td>winter</td>\n",
       "      <td>23</td>\n",
       "    </tr>\n",
       "  </tbody>\n",
       "</table>\n",
       "<p>17414 rows × 11 columns</p>\n",
       "</div>"
      ],
      "text/plain": [
       "                 timestamp   cnt   t1   t2    hum  wind_speed  weather_code  \\\n",
       "0      2015-01-04 00:00:00   182  3.0  2.0   93.0         NaN           3.0   \n",
       "1      2015-01-04 01:00:00   138  3.0  2.5   93.0         NaN           1.0   \n",
       "2      2015-01-04 02:00:00   134  2.5  2.5   96.5         NaN           1.0   \n",
       "3      2015-01-04 03:00:00    72  2.0  2.0  100.0         0.0           1.0   \n",
       "4      2015-01-04 04:00:00    47  2.0  0.0   93.0         6.5           1.0   \n",
       "...                    ...   ...  ...  ...    ...         ...           ...   \n",
       "17409  2017-01-03 19:00:00  1042  5.0  1.0   81.0        19.0           3.0   \n",
       "17410  2017-01-03 20:00:00   541  5.0  1.0   81.0        21.0           4.0   \n",
       "17411  2017-01-03 21:00:00   337  5.5  1.5   78.5         NaN           4.0   \n",
       "17412  2017-01-03 22:00:00   224  5.5  1.5   76.0         NaN           4.0   \n",
       "17413  2017-01-03 23:00:00   139  5.0  1.0   76.0        22.0           2.0   \n",
       "\n",
       "       is_holiday  is_weekend  season  hour  \n",
       "0             0.0         1.0  winter     0  \n",
       "1             0.0         1.0  winter     1  \n",
       "2             0.0         1.0  winter     2  \n",
       "3             0.0         1.0  winter     3  \n",
       "4             0.0         1.0  winter     4  \n",
       "...           ...         ...     ...   ...  \n",
       "17409         0.0         0.0  winter    19  \n",
       "17410         0.0         0.0  winter    20  \n",
       "17411         0.0         0.0  winter    21  \n",
       "17412         0.0         0.0  winter    22  \n",
       "17413         0.0         0.0  winter    23  \n",
       "\n",
       "[17414 rows x 11 columns]"
      ]
     },
     "execution_count": 79,
     "metadata": {},
     "output_type": "execute_result"
    }
   ],
   "source": [
    "data"
   ]
  },
  {
   "cell_type": "code",
   "execution_count": 80,
   "id": "b8308ff8",
   "metadata": {},
   "outputs": [
    {
     "data": {
      "text/plain": [
       "[('timestamp', ('object', 0)),\n",
       " ('cnt', ('int64', 0)),\n",
       " ('t1', ('float64', 0)),\n",
       " ('t2', ('float64', 0)),\n",
       " ('hum', ('float64', 0)),\n",
       " ('wind_speed', ('float64', 5308)),\n",
       " ('weather_code', ('float64', 0)),\n",
       " ('is_holiday', ('float64', 0)),\n",
       " ('is_weekend', ('float64', 0)),\n",
       " ('season', ('object', 0)),\n",
       " ('hour', ('int64', 0))]"
      ]
     },
     "execution_count": 80,
     "metadata": {},
     "output_type": "execute_result"
    }
   ],
   "source": [
    "data_features = list(zip(\n",
    "# признаки\n",
    "[i for i in data.columns],\n",
    "zip(\n",
    "    # типы колонок\n",
    "    [str(i) for i in data.dtypes],\n",
    "    # проверим есть ли пропущенные значения\n",
    "    [i for i in data.isnull().sum()]\n",
    ")))\n",
    "# Признаки с типом данных и количеством пропусков\n",
    "data_features"
   ]
  },
  {
   "cell_type": "code",
   "execution_count": 81,
   "id": "eff75ff7",
   "metadata": {},
   "outputs": [
    {
     "data": {
      "image/png": "[encoded data removed]",
      "text/plain": [
       "<Figure size 720x720 with 9 Axes>"
      ]
     },
     "metadata": {
      "needs_background": "light"
     },
     "output_type": "display_data"
    }
   ],
   "source": [
    "data.hist(figsize=(10,10));"
   ]
  },
  {
   "cell_type": "markdown",
   "id": "cd09169a",
   "metadata": {},
   "source": [
    "# Устранение пропусков"
   ]
  },
  {
   "cell_type": "code",
   "execution_count": 82,
   "id": "ba37c88b",
   "metadata": {},
   "outputs": [
    {
     "data": {
      "text/plain": [
       "<AxesSubplot:>"
      ]
     },
     "execution_count": 82,
     "metadata": {},
     "output_type": "execute_result"
    },
    {
     "data": {
      "image/png": "[encoded data removed]",
      "text/plain": [
       "<Figure size 432x288 with 1 Axes>"
      ]
     },
     "metadata": {
      "needs_background": "light"
     },
     "output_type": "display_data"
    }
   ],
   "source": [
    "wind_speed_avg = []\n",
    "hour_list = data['hour'].unique()\n",
    "for hour in hour_list:\n",
    "    wind_speed_avg.append(data[data['hour']==hour]['wind_speed'].mean())\n",
    "\n",
    "sns.regplot(x=hour_list, y=wind_speed_avg)\n",
    "# Из диаграммы выше видно, что скорость ветра имеет почти нормальное распределение,\n",
    "# что даст нам возможность заменить пропуски на средние значения.\n",
    "# Если мы заполним пропуска средними значениями, то график немного изменится не в самую лучшую сторону.\n",
    "# Он может потерять свою закономерность от времени суток."
   ]
  },
  {
   "cell_type": "code",
   "execution_count": 123,
   "id": "41045739",
   "metadata": {},
   "outputs": [],
   "source": [
    "def replace_nan_to_mean(df, index, column, mean):\n",
    "#     if df.at[index, column] is np.NaN:\n",
    "    if hash(data.at[index,column]) == 0 and data.at[index,column] != 0:\n",
    "        df.at[index, column] = mean\n"
   ]
  },
  {
   "cell_type": "code",
   "execution_count": 124,
   "id": "94981b35",
   "metadata": {},
   "outputs": [],
   "source": [
    "mean = data['wind_speed'].mean()\n",
    "for i in range(data.shape[0]):\n",
    "    replace_nan_to_mean(data, i, 'wind_speed', mean)\n"
   ]
  },
  {
   "cell_type": "code",
   "execution_count": 125,
   "id": "960134e5",
   "metadata": {},
   "outputs": [
    {
     "data": {
      "text/plain": [
       "[('timestamp', ('object', 0)),\n",
       " ('cnt', ('int64', 0)),\n",
       " ('t1', ('float64', 0)),\n",
       " ('t2', ('float64', 0)),\n",
       " ('hum', ('float64', 0)),\n",
       " ('wind_speed', ('float64', 0)),\n",
       " ('weather_code', ('float64', 0)),\n",
       " ('is_holiday', ('float64', 0)),\n",
       " ('is_weekend', ('float64', 0)),\n",
       " ('season', ('object', 0)),\n",
       " ('hour', ('int64', 0))]"
      ]
     },
     "execution_count": 125,
     "metadata": {},
     "output_type": "execute_result"
    }
   ],
   "source": [
    "data_features = list(zip(\n",
    "# признаки\n",
    "[i for i in data.columns],\n",
    "zip(\n",
    "    # типы колонок\n",
    "    [str(i) for i in data.dtypes],\n",
    "    # проверим есть ли пропущенные значения\n",
    "    [i for i in data.isnull().sum()]\n",
    ")))\n",
    "# Признаки с типом данных и количеством пропусков\n",
    "data_features"
   ]
  },
  {
   "cell_type": "code",
   "execution_count": 126,
   "id": "e0dd92b5",
   "metadata": {},
   "outputs": [
    {
     "data": {
      "text/plain": [
       "<AxesSubplot:>"
      ]
     },
     "execution_count": 126,
     "metadata": {},
     "output_type": "execute_result"
    },
    {
     "data": {
      "image/png": "[encoded data removed]",
      "text/plain": [
       "<Figure size 432x288 with 1 Axes>"
      ]
     },
     "metadata": {
      "needs_background": "light"
     },
     "output_type": "display_data"
    }
   ],
   "source": [
    "wind_speed_avg = []\n",
    "hour_list = data['hour'].unique()\n",
    "for hour in hour_list:\n",
    "    wind_speed_avg.append(data[data['hour']==hour]['wind_speed'].mean())\n",
    "\n",
    "sns.regplot(x=hour_list, y=wind_speed_avg)"
   ]
  },
  {
   "cell_type": "markdown",
   "id": "af9889fc",
   "metadata": {},
   "source": [
    "# Кодирование категориальных признаков"
   ]
  },
  {
   "cell_type": "code",
   "execution_count": 136,
   "id": "0286de71",
   "metadata": {},
   "outputs": [
    {
     "data": {
      "text/plain": [
       "['winter', 'spring', 'summer', 'fall']"
      ]
     },
     "execution_count": 136,
     "metadata": {},
     "output_type": "execute_result"
    }
   ],
   "source": [
    "# seasons = list(zip(list(data['season'].unique()), list(range(len(data['season'].unique())))))\n",
    "seasons = list(data['season'].unique())\n",
    "seasons"
   ]
  },
  {
   "cell_type": "code",
   "execution_count": 140,
   "id": "7f9ccbb4",
   "metadata": {},
   "outputs": [],
   "source": [
    "for i in range(data.shape[0]):\n",
    "    num = seasons.index(data.at[i, 'season'])\n",
    "    data.at[i, 'season'] = num\n",
    "#     print(num)\n"
   ]
  },
  {
   "cell_type": "code",
   "execution_count": 141,
   "id": "ae443b37",
   "metadata": {},
   "outputs": [
    {
     "data": {
      "text/html": [
       "<div>\n",
       "<style scoped>\n",
       "    .dataframe tbody tr th:only-of-type {\n",
       "        vertical-align: middle;\n",
       "    }\n",
       "\n",
       "    .dataframe tbody tr th {\n",
       "        vertical-align: top;\n",
       "    }\n",
       "\n",
       "    .dataframe thead th {\n",
       "        text-align: right;\n",
       "    }\n",
       "</style>\n",
       "<table border=\"1\" class=\"dataframe\">\n",
       "  <thead>\n",
       "    <tr style=\"text-align: right;\">\n",
       "      <th></th>\n",
       "      <th>timestamp</th>\n",
       "      <th>cnt</th>\n",
       "      <th>t1</th>\n",
       "      <th>t2</th>\n",
       "      <th>hum</th>\n",
       "      <th>wind_speed</th>\n",
       "      <th>weather_code</th>\n",
       "      <th>is_holiday</th>\n",
       "      <th>is_weekend</th>\n",
       "      <th>season</th>\n",
       "      <th>hour</th>\n",
       "    </tr>\n",
       "  </thead>\n",
       "  <tbody>\n",
       "    <tr>\n",
       "      <th>0</th>\n",
       "      <td>2015-01-04 00:00:00</td>\n",
       "      <td>182</td>\n",
       "      <td>3.0</td>\n",
       "      <td>2.0</td>\n",
       "      <td>93.0</td>\n",
       "      <td>15.911807</td>\n",
       "      <td>3.0</td>\n",
       "      <td>0.0</td>\n",
       "      <td>1.0</td>\n",
       "      <td>0</td>\n",
       "      <td>0</td>\n",
       "    </tr>\n",
       "    <tr>\n",
       "      <th>1</th>\n",
       "      <td>2015-01-04 01:00:00</td>\n",
       "      <td>138</td>\n",
       "      <td>3.0</td>\n",
       "      <td>2.5</td>\n",
       "      <td>93.0</td>\n",
       "      <td>15.911807</td>\n",
       "      <td>1.0</td>\n",
       "      <td>0.0</td>\n",
       "      <td>1.0</td>\n",
       "      <td>0</td>\n",
       "      <td>1</td>\n",
       "    </tr>\n",
       "    <tr>\n",
       "      <th>2</th>\n",
       "      <td>2015-01-04 02:00:00</td>\n",
       "      <td>134</td>\n",
       "      <td>2.5</td>\n",
       "      <td>2.5</td>\n",
       "      <td>96.5</td>\n",
       "      <td>15.911807</td>\n",
       "      <td>1.0</td>\n",
       "      <td>0.0</td>\n",
       "      <td>1.0</td>\n",
       "      <td>0</td>\n",
       "      <td>2</td>\n",
       "    </tr>\n",
       "    <tr>\n",
       "      <th>3</th>\n",
       "      <td>2015-01-04 03:00:00</td>\n",
       "      <td>72</td>\n",
       "      <td>2.0</td>\n",
       "      <td>2.0</td>\n",
       "      <td>100.0</td>\n",
       "      <td>0.000000</td>\n",
       "      <td>1.0</td>\n",
       "      <td>0.0</td>\n",
       "      <td>1.0</td>\n",
       "      <td>0</td>\n",
       "      <td>3</td>\n",
       "    </tr>\n",
       "    <tr>\n",
       "      <th>4</th>\n",
       "      <td>2015-01-04 04:00:00</td>\n",
       "      <td>47</td>\n",
       "      <td>2.0</td>\n",
       "      <td>0.0</td>\n",
       "      <td>93.0</td>\n",
       "      <td>6.500000</td>\n",
       "      <td>1.0</td>\n",
       "      <td>0.0</td>\n",
       "      <td>1.0</td>\n",
       "      <td>0</td>\n",
       "      <td>4</td>\n",
       "    </tr>\n",
       "    <tr>\n",
       "      <th>...</th>\n",
       "      <td>...</td>\n",
       "      <td>...</td>\n",
       "      <td>...</td>\n",
       "      <td>...</td>\n",
       "      <td>...</td>\n",
       "      <td>...</td>\n",
       "      <td>...</td>\n",
       "      <td>...</td>\n",
       "      <td>...</td>\n",
       "      <td>...</td>\n",
       "      <td>...</td>\n",
       "    </tr>\n",
       "    <tr>\n",
       "      <th>17409</th>\n",
       "      <td>2017-01-03 19:00:00</td>\n",
       "      <td>1042</td>\n",
       "      <td>5.0</td>\n",
       "      <td>1.0</td>\n",
       "      <td>81.0</td>\n",
       "      <td>19.000000</td>\n",
       "      <td>3.0</td>\n",
       "      <td>0.0</td>\n",
       "      <td>0.0</td>\n",
       "      <td>0</td>\n",
       "      <td>19</td>\n",
       "    </tr>\n",
       "    <tr>\n",
       "      <th>17410</th>\n",
       "      <td>2017-01-03 20:00:00</td>\n",
       "      <td>541</td>\n",
       "      <td>5.0</td>\n",
       "      <td>1.0</td>\n",
       "      <td>81.0</td>\n",
       "      <td>21.000000</td>\n",
       "      <td>4.0</td>\n",
       "      <td>0.0</td>\n",
       "      <td>0.0</td>\n",
       "      <td>0</td>\n",
       "      <td>20</td>\n",
       "    </tr>\n",
       "    <tr>\n",
       "      <th>17411</th>\n",
       "      <td>2017-01-03 21:00:00</td>\n",
       "      <td>337</td>\n",
       "      <td>5.5</td>\n",
       "      <td>1.5</td>\n",
       "      <td>78.5</td>\n",
       "      <td>15.911807</td>\n",
       "      <td>4.0</td>\n",
       "      <td>0.0</td>\n",
       "      <td>0.0</td>\n",
       "      <td>0</td>\n",
       "      <td>21</td>\n",
       "    </tr>\n",
       "    <tr>\n",
       "      <th>17412</th>\n",
       "      <td>2017-01-03 22:00:00</td>\n",
       "      <td>224</td>\n",
       "      <td>5.5</td>\n",
       "      <td>1.5</td>\n",
       "      <td>76.0</td>\n",
       "      <td>15.911807</td>\n",
       "      <td>4.0</td>\n",
       "      <td>0.0</td>\n",
       "      <td>0.0</td>\n",
       "      <td>0</td>\n",
       "      <td>22</td>\n",
       "    </tr>\n",
       "    <tr>\n",
       "      <th>17413</th>\n",
       "      <td>2017-01-03 23:00:00</td>\n",
       "      <td>139</td>\n",
       "      <td>5.0</td>\n",
       "      <td>1.0</td>\n",
       "      <td>76.0</td>\n",
       "      <td>22.000000</td>\n",
       "      <td>2.0</td>\n",
       "      <td>0.0</td>\n",
       "      <td>0.0</td>\n",
       "      <td>0</td>\n",
       "      <td>23</td>\n",
       "    </tr>\n",
       "  </tbody>\n",
       "</table>\n",
       "<p>17414 rows × 11 columns</p>\n",
       "</div>"
      ],
      "text/plain": [
       "                 timestamp   cnt   t1   t2    hum  wind_speed  weather_code  \\\n",
       "0      2015-01-04 00:00:00   182  3.0  2.0   93.0   15.911807           3.0   \n",
       "1      2015-01-04 01:00:00   138  3.0  2.5   93.0   15.911807           1.0   \n",
       "2      2015-01-04 02:00:00   134  2.5  2.5   96.5   15.911807           1.0   \n",
       "3      2015-01-04 03:00:00    72  2.0  2.0  100.0    0.000000           1.0   \n",
       "4      2015-01-04 04:00:00    47  2.0  0.0   93.0    6.500000           1.0   \n",
       "...                    ...   ...  ...  ...    ...         ...           ...   \n",
       "17409  2017-01-03 19:00:00  1042  5.0  1.0   81.0   19.000000           3.0   \n",
       "17410  2017-01-03 20:00:00   541  5.0  1.0   81.0   21.000000           4.0   \n",
       "17411  2017-01-03 21:00:00   337  5.5  1.5   78.5   15.911807           4.0   \n",
       "17412  2017-01-03 22:00:00   224  5.5  1.5   76.0   15.911807           4.0   \n",
       "17413  2017-01-03 23:00:00   139  5.0  1.0   76.0   22.000000           2.0   \n",
       "\n",
       "       is_holiday  is_weekend season  hour  \n",
       "0             0.0         1.0      0     0  \n",
       "1             0.0         1.0      0     1  \n",
       "2             0.0         1.0      0     2  \n",
       "3             0.0         1.0      0     3  \n",
       "4             0.0         1.0      0     4  \n",
       "...           ...         ...    ...   ...  \n",
       "17409         0.0         0.0      0    19  \n",
       "17410         0.0         0.0      0    20  \n",
       "17411         0.0         0.0      0    21  \n",
       "17412         0.0         0.0      0    22  \n",
       "17413         0.0         0.0      0    23  \n",
       "\n",
       "[17414 rows x 11 columns]"
      ]
     },
     "execution_count": 141,
     "metadata": {},
     "output_type": "execute_result"
    }
   ],
   "source": [
    "data"
   ]
  },
  {
   "cell_type": "code",
   "execution_count": 142,
   "id": "f00df26e",
   "metadata": {},
   "outputs": [
    {
     "data": {
      "text/plain": [
       "array([0, 1, 2, 3], dtype=object)"
      ]
     },
     "execution_count": 142,
     "metadata": {},
     "output_type": "execute_result"
    }
   ],
   "source": [
    "data['season'].unique()"
   ]
  },
  {
   "cell_type": "markdown",
   "id": "6609b9ee",
   "metadata": {},
   "source": [
    "# Нормализация числовых признаков"
   ]
  },
  {
   "cell_type": "code",
   "execution_count": 143,
   "id": "f5c49147",
   "metadata": {},
   "outputs": [],
   "source": [
    "def diagnostic_plots(df, variable):\n",
    "    plt.figure(figsize=(15,6))\n",
    "    # гистограмма\n",
    "    plt.subplot(1, 2, 1)\n",
    "    df[variable].hist(bins=30)\n",
    "    ## Q-Q plot\n",
    "    plt.subplot(1, 2, 2)\n",
    "    stats.probplot(df[variable], dist=\"norm\", plot=plt)\n",
    "    plt.show()"
   ]
  },
  {
   "cell_type": "code",
   "execution_count": 144,
   "id": "e2d78c38",
   "metadata": {},
   "outputs": [
    {
     "data": {
      "image/png": "[encoded data removed]",
      "text/plain": [
       "<Figure size 1080x432 with 2 Axes>"
      ]
     },
     "metadata": {
      "needs_background": "light"
     },
     "output_type": "display_data"
    }
   ],
   "source": [
    "diagnostic_plots(data, 'wind_speed')"
   ]
  },
  {
   "cell_type": "code",
   "execution_count": 145,
   "id": "f523ff1d",
   "metadata": {},
   "outputs": [
    {
     "data": {
      "image/png": "[encoded data removed]",
      "text/plain": [
       "<Figure size 1080x432 with 2 Axes>"
      ]
     },
     "metadata": {
      "needs_background": "light"
     },
     "output_type": "display_data"
    }
   ],
   "source": [
    "data['wind_speed_sqr'] = data['wind_speed']**(1/2) \n",
    "diagnostic_plots(data, 'wind_speed_sqr')"
   ]
  }
 ],
 "metadata": {
  "kernelspec": {
   "display_name": "Python 3",
   "language": "python",
   "name": "python3"
  },
  "language_info": {
   "codemirror_mode": {
    "name": "ipython",
    "version": 3
   },
   "file_extension": ".py",
   "mimetype": "text/x-python",
   "name": "python",
   "nbconvert_exporter": "python",
   "pygments_lexer": "ipython3",
   "version": "3.6.5"
  }
 },
 "nbformat": 4,
 "nbformat_minor": 5
}
